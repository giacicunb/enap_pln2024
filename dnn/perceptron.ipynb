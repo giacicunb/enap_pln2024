{
  "nbformat": 4,
  "nbformat_minor": 0,
  "metadata": {
    "colab": {
      "provenance": []
    },
    "kernelspec": {
      "name": "python3",
      "display_name": "Python 3"
    },
    "language_info": {
      "name": "python"
    }
  },
  "cells": [
    {
      "cell_type": "code",
      "execution_count": null,
      "metadata": {
        "colab": {
          "base_uri": "https://localhost:8080/"
        },
        "id": "NLrsM40mkt5U",
        "outputId": "3c5f7690-5e0f-45e7-e645-c631c48a2673"
      },
      "outputs": [
        {
          "output_type": "execute_result",
          "data": {
            "text/plain": [
              "[[0.2, 0.4, 0.7], [0.1, 0.3, 0.9], [0.3, 0.8, 0.2]]"
            ]
          },
          "metadata": {},
          "execution_count": 1
        }
      ],
      "source": [
        "X = [ [ 0.2, 0.4,0.7], [0.1, 0.3, 0.9], [0.3,0.8,0.2]]\n",
        "X"
      ]
    },
    {
      "cell_type": "code",
      "source": [
        "X[0]"
      ],
      "metadata": {
        "colab": {
          "base_uri": "https://localhost:8080/"
        },
        "id": "IZjQcRUAzNEM",
        "outputId": "604c2fed-56c7-446e-856c-da40c4c0ac13"
      },
      "execution_count": null,
      "outputs": [
        {
          "output_type": "execute_result",
          "data": {
            "text/plain": [
              "[0.2, 0.4, 0.7]"
            ]
          },
          "metadata": {},
          "execution_count": 2
        }
      ]
    },
    {
      "cell_type": "markdown",
      "source": [
        "Pegar a dimensão das instâncias de dados:"
      ],
      "metadata": {
        "id": "02hZsXqm96R7"
      }
    },
    {
      "cell_type": "code",
      "source": [
        "d = len(X[1])\n",
        "print(d)"
      ],
      "metadata": {
        "colab": {
          "base_uri": "https://localhost:8080/"
        },
        "id": "UvraEAXXzTDv",
        "outputId": "9a907957-1148-4b86-b890-0953adb2d726"
      },
      "execution_count": null,
      "outputs": [
        {
          "output_type": "stream",
          "name": "stdout",
          "text": [
            "3\n"
          ]
        }
      ]
    },
    {
      "cell_type": "code",
      "source": [
        "Y = [1,1,-1] #labels"
      ],
      "metadata": {
        "id": "_qa4aapZzU-Y"
      },
      "execution_count": null,
      "outputs": []
    },
    {
      "cell_type": "code",
      "source": [
        "w = [0.8,-0.25,-0.2]\n",
        "bias = [0.1,0.2,0.3]"
      ],
      "metadata": {
        "id": "9n6CYdouz1Qi"
      },
      "execution_count": null,
      "outputs": []
    },
    {
      "cell_type": "code",
      "source": [
        "for i in range(len(X)):\n",
        "    net = 0\n",
        "    for j in range(0,d):\n",
        "        net += X[i][j]*w[j] + bias[j]\n",
        "    if net > 0.5:\n",
        "        y_hat = 1\n",
        "    else:\n",
        "        y_hat = -1\n",
        "    print(f'y: {Y[i]} e y_hat: {y_hat}')"
      ],
      "metadata": {
        "colab": {
          "base_uri": "https://localhost:8080/"
        },
        "id": "EJHsybiczZ8X",
        "outputId": "89736c9c-5e3e-4a0c-b10b-0493a4a9ff0c"
      },
      "execution_count": null,
      "outputs": [
        {
          "output_type": "stream",
          "name": "stdout",
          "text": [
            "y: 1 e y_hat: 1\n",
            "y: 1 e y_hat: -1\n",
            "y: -1 e y_hat: 1\n"
          ]
        }
      ]
    },
    {
      "cell_type": "code",
      "source": [
        "learning_rates = [0.1,0.05,0.01,0.005,0.0001,0.00001] #otimização de hiperparâmetros\n",
        "\n",
        "num_neurons_hidden_layer_1 = [8,16,32,64,128,256,512]"
      ],
      "metadata": {
        "id": "2HK4f3Xf5IU8"
      },
      "execution_count": null,
      "outputs": []
    }
  ]
}