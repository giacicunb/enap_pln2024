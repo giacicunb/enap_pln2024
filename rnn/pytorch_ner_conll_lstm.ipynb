{
  "cells": [
    {
      "cell_type": "markdown",
      "metadata": {
        "id": "sJkCu-0JQaq6"
      },
      "source": [
        "# Reconhecimento de Entidades Nomeadas\n",
        "\n",
        "Modelo: LSTM tradicional\n",
        "\n",
        "O corpus e os seus detalhes podem ser encontrado aqui:\n",
        "\n",
        "https://huggingface.co/datasets/conll2003"
      ]
    },
    {
      "cell_type": "code",
      "execution_count": null,
      "metadata": {
        "id": "hPgroKY0MlDX"
      },
      "outputs": [],
      "source": [
        "!pip install datasets"
      ]
    },
    {
      "cell_type": "code",
      "execution_count": 20,
      "metadata": {
        "id": "_aD_gNGuOT3H"
      },
      "outputs": [],
      "source": [
        "from datasets import load_dataset\n",
        "import pandas as pd\n",
        "import torch\n",
        "import torch.nn as nn\n",
        "import numpy as np"
      ]
    },
    {
      "cell_type": "code",
      "execution_count": 21,
      "metadata": {
        "id": "AzH9-PAlTK-r"
      },
      "outputs": [],
      "source": [
        "class LSTM_NER(nn.Module):\n",
        "\n",
        "    def __init__(self,embedding_dim,hidden_dim,vocab_size,num_classes):\n",
        "        super(LSTM_NER,self).__init__()\n",
        "        self.hidden_dim = hidden_dim\n",
        "        self.embedding = nn.Embedding(vocab_size,embedding_dim) #sem pre-treinamento\n",
        "        self.lstm = nn.LSTM(embedding_dim,hidden_dim)\n",
        "        self.fcl = nn.Linear(hidden_dim,num_classes)\n",
        "\n",
        "    def forward(self,sentence):\n",
        "        word_embeddings = self.embedding(sentence) # vetor dimensoes: 1 x embedding_dim\n",
        "        hidden_state,cell_state = self.lstm(word_embeddings) # demanda mais processamento\n",
        "        tag_space = self.fcl(hidden_state) # demanda mais processamento\n",
        "        return tag_space"
      ]
    },
    {
      "cell_type": "markdown",
      "source": [
        "Carrega o corpus CONLL, apenas o subset de treinamento, para a memória"
      ],
      "metadata": {
        "id": "PqMN4OaNsqzP"
      }
    },
    {
      "cell_type": "code",
      "execution_count": 22,
      "metadata": {
        "id": "yO6cRyzHONlV"
      },
      "outputs": [],
      "source": [
        "train_dataset = load_dataset('conll2003',split='train')"
      ]
    },
    {
      "cell_type": "code",
      "execution_count": 23,
      "metadata": {
        "id": "yoq3-OLwOroM"
      },
      "outputs": [],
      "source": [
        "df_train = pd.DataFrame(train_dataset)"
      ]
    },
    {
      "cell_type": "markdown",
      "source": [
        "Visão do corpus"
      ],
      "metadata": {
        "id": "gFthEhsmyG-u"
      }
    },
    {
      "cell_type": "code",
      "execution_count": 24,
      "metadata": {
        "colab": {
          "base_uri": "https://localhost:8080/",
          "height": 423
        },
        "id": "pcQRaEquO0a4",
        "outputId": "4d5555d7-4c92-47b7-e61a-217ff1fb79a7"
      },
      "outputs": [
        {
          "output_type": "execute_result",
          "data": {
            "text/plain": [
              "          id                                             tokens  \\\n",
              "0          0  [EU, rejects, German, call, to, boycott, Briti...   \n",
              "1          1                                 [Peter, Blackburn]   \n",
              "2          2                             [BRUSSELS, 1996-08-22]   \n",
              "3          3  [The, European, Commission, said, on, Thursday...   \n",
              "4          4  [Germany, 's, representative, to, the, Europea...   \n",
              "...      ...                                                ...   \n",
              "14036  14036                                    [on, Friday, :]   \n",
              "14037  14037                                    [Division, two]   \n",
              "14038  14038                          [Plymouth, 2, Preston, 1]   \n",
              "14039  14039                                  [Division, three]   \n",
              "14040  14040                           [Swansea, 1, Lincoln, 2]   \n",
              "\n",
              "                                                pos_tags  \\\n",
              "0                    [22, 42, 16, 21, 35, 37, 16, 21, 7]   \n",
              "1                                               [22, 22]   \n",
              "2                                               [22, 11]   \n",
              "3      [12, 22, 22, 38, 15, 22, 28, 38, 15, 16, 21, 3...   \n",
              "4      [22, 27, 21, 35, 12, 22, 22, 27, 16, 21, 22, 2...   \n",
              "...                                                  ...   \n",
              "14036                                        [15, 22, 8]   \n",
              "14037                                           [21, 11]   \n",
              "14038                                   [21, 11, 22, 11]   \n",
              "14039                                           [21, 11]   \n",
              "14040                                   [21, 11, 22, 11]   \n",
              "\n",
              "                                              chunk_tags  \\\n",
              "0                    [11, 21, 11, 12, 21, 22, 11, 12, 0]   \n",
              "1                                               [11, 12]   \n",
              "2                                               [11, 12]   \n",
              "3      [11, 12, 12, 21, 13, 11, 11, 21, 13, 11, 12, 1...   \n",
              "4      [11, 11, 12, 13, 11, 12, 12, 11, 12, 12, 12, 1...   \n",
              "...                                                  ...   \n",
              "14036                                        [13, 11, 0]   \n",
              "14037                                           [11, 12]   \n",
              "14038                                   [11, 12, 12, 12]   \n",
              "14039                                           [11, 12]   \n",
              "14040                                   [11, 12, 12, 12]   \n",
              "\n",
              "                                                ner_tags  \n",
              "0                            [3, 0, 7, 0, 0, 0, 7, 0, 0]  \n",
              "1                                                 [1, 2]  \n",
              "2                                                 [5, 0]  \n",
              "3      [0, 3, 4, 0, 0, 0, 0, 0, 0, 7, 0, 0, 0, 0, 0, ...  \n",
              "4      [5, 0, 0, 0, 0, 3, 4, 0, 0, 0, 1, 2, 0, 0, 0, ...  \n",
              "...                                                  ...  \n",
              "14036                                          [0, 0, 0]  \n",
              "14037                                             [0, 0]  \n",
              "14038                                       [3, 0, 3, 0]  \n",
              "14039                                             [0, 0]  \n",
              "14040                                       [3, 0, 3, 0]  \n",
              "\n",
              "[14041 rows x 5 columns]"
            ],
            "text/html": [
              "\n",
              "  <div id=\"df-162a051a-4950-4c98-8564-1a4ab577ba86\" class=\"colab-df-container\">\n",
              "    <div>\n",
              "<style scoped>\n",
              "    .dataframe tbody tr th:only-of-type {\n",
              "        vertical-align: middle;\n",
              "    }\n",
              "\n",
              "    .dataframe tbody tr th {\n",
              "        vertical-align: top;\n",
              "    }\n",
              "\n",
              "    .dataframe thead th {\n",
              "        text-align: right;\n",
              "    }\n",
              "</style>\n",
              "<table border=\"1\" class=\"dataframe\">\n",
              "  <thead>\n",
              "    <tr style=\"text-align: right;\">\n",
              "      <th></th>\n",
              "      <th>id</th>\n",
              "      <th>tokens</th>\n",
              "      <th>pos_tags</th>\n",
              "      <th>chunk_tags</th>\n",
              "      <th>ner_tags</th>\n",
              "    </tr>\n",
              "  </thead>\n",
              "  <tbody>\n",
              "    <tr>\n",
              "      <th>0</th>\n",
              "      <td>0</td>\n",
              "      <td>[EU, rejects, German, call, to, boycott, Briti...</td>\n",
              "      <td>[22, 42, 16, 21, 35, 37, 16, 21, 7]</td>\n",
              "      <td>[11, 21, 11, 12, 21, 22, 11, 12, 0]</td>\n",
              "      <td>[3, 0, 7, 0, 0, 0, 7, 0, 0]</td>\n",
              "    </tr>\n",
              "    <tr>\n",
              "      <th>1</th>\n",
              "      <td>1</td>\n",
              "      <td>[Peter, Blackburn]</td>\n",
              "      <td>[22, 22]</td>\n",
              "      <td>[11, 12]</td>\n",
              "      <td>[1, 2]</td>\n",
              "    </tr>\n",
              "    <tr>\n",
              "      <th>2</th>\n",
              "      <td>2</td>\n",
              "      <td>[BRUSSELS, 1996-08-22]</td>\n",
              "      <td>[22, 11]</td>\n",
              "      <td>[11, 12]</td>\n",
              "      <td>[5, 0]</td>\n",
              "    </tr>\n",
              "    <tr>\n",
              "      <th>3</th>\n",
              "      <td>3</td>\n",
              "      <td>[The, European, Commission, said, on, Thursday...</td>\n",
              "      <td>[12, 22, 22, 38, 15, 22, 28, 38, 15, 16, 21, 3...</td>\n",
              "      <td>[11, 12, 12, 21, 13, 11, 11, 21, 13, 11, 12, 1...</td>\n",
              "      <td>[0, 3, 4, 0, 0, 0, 0, 0, 0, 7, 0, 0, 0, 0, 0, ...</td>\n",
              "    </tr>\n",
              "    <tr>\n",
              "      <th>4</th>\n",
              "      <td>4</td>\n",
              "      <td>[Germany, 's, representative, to, the, Europea...</td>\n",
              "      <td>[22, 27, 21, 35, 12, 22, 22, 27, 16, 21, 22, 2...</td>\n",
              "      <td>[11, 11, 12, 13, 11, 12, 12, 11, 12, 12, 12, 1...</td>\n",
              "      <td>[5, 0, 0, 0, 0, 3, 4, 0, 0, 0, 1, 2, 0, 0, 0, ...</td>\n",
              "    </tr>\n",
              "    <tr>\n",
              "      <th>...</th>\n",
              "      <td>...</td>\n",
              "      <td>...</td>\n",
              "      <td>...</td>\n",
              "      <td>...</td>\n",
              "      <td>...</td>\n",
              "    </tr>\n",
              "    <tr>\n",
              "      <th>14036</th>\n",
              "      <td>14036</td>\n",
              "      <td>[on, Friday, :]</td>\n",
              "      <td>[15, 22, 8]</td>\n",
              "      <td>[13, 11, 0]</td>\n",
              "      <td>[0, 0, 0]</td>\n",
              "    </tr>\n",
              "    <tr>\n",
              "      <th>14037</th>\n",
              "      <td>14037</td>\n",
              "      <td>[Division, two]</td>\n",
              "      <td>[21, 11]</td>\n",
              "      <td>[11, 12]</td>\n",
              "      <td>[0, 0]</td>\n",
              "    </tr>\n",
              "    <tr>\n",
              "      <th>14038</th>\n",
              "      <td>14038</td>\n",
              "      <td>[Plymouth, 2, Preston, 1]</td>\n",
              "      <td>[21, 11, 22, 11]</td>\n",
              "      <td>[11, 12, 12, 12]</td>\n",
              "      <td>[3, 0, 3, 0]</td>\n",
              "    </tr>\n",
              "    <tr>\n",
              "      <th>14039</th>\n",
              "      <td>14039</td>\n",
              "      <td>[Division, three]</td>\n",
              "      <td>[21, 11]</td>\n",
              "      <td>[11, 12]</td>\n",
              "      <td>[0, 0]</td>\n",
              "    </tr>\n",
              "    <tr>\n",
              "      <th>14040</th>\n",
              "      <td>14040</td>\n",
              "      <td>[Swansea, 1, Lincoln, 2]</td>\n",
              "      <td>[21, 11, 22, 11]</td>\n",
              "      <td>[11, 12, 12, 12]</td>\n",
              "      <td>[3, 0, 3, 0]</td>\n",
              "    </tr>\n",
              "  </tbody>\n",
              "</table>\n",
              "<p>14041 rows × 5 columns</p>\n",
              "</div>\n",
              "    <div class=\"colab-df-buttons\">\n",
              "\n",
              "  <div class=\"colab-df-container\">\n",
              "    <button class=\"colab-df-convert\" onclick=\"convertToInteractive('df-162a051a-4950-4c98-8564-1a4ab577ba86')\"\n",
              "            title=\"Convert this dataframe to an interactive table.\"\n",
              "            style=\"display:none;\">\n",
              "\n",
              "  <svg xmlns=\"http://www.w3.org/2000/svg\" height=\"24px\" viewBox=\"0 -960 960 960\">\n",
              "    <path d=\"M120-120v-720h720v720H120Zm60-500h600v-160H180v160Zm220 220h160v-160H400v160Zm0 220h160v-160H400v160ZM180-400h160v-160H180v160Zm440 0h160v-160H620v160ZM180-180h160v-160H180v160Zm440 0h160v-160H620v160Z\"/>\n",
              "  </svg>\n",
              "    </button>\n",
              "\n",
              "  <style>\n",
              "    .colab-df-container {\n",
              "      display:flex;\n",
              "      gap: 12px;\n",
              "    }\n",
              "\n",
              "    .colab-df-convert {\n",
              "      background-color: #E8F0FE;\n",
              "      border: none;\n",
              "      border-radius: 50%;\n",
              "      cursor: pointer;\n",
              "      display: none;\n",
              "      fill: #1967D2;\n",
              "      height: 32px;\n",
              "      padding: 0 0 0 0;\n",
              "      width: 32px;\n",
              "    }\n",
              "\n",
              "    .colab-df-convert:hover {\n",
              "      background-color: #E2EBFA;\n",
              "      box-shadow: 0px 1px 2px rgba(60, 64, 67, 0.3), 0px 1px 3px 1px rgba(60, 64, 67, 0.15);\n",
              "      fill: #174EA6;\n",
              "    }\n",
              "\n",
              "    .colab-df-buttons div {\n",
              "      margin-bottom: 4px;\n",
              "    }\n",
              "\n",
              "    [theme=dark] .colab-df-convert {\n",
              "      background-color: #3B4455;\n",
              "      fill: #D2E3FC;\n",
              "    }\n",
              "\n",
              "    [theme=dark] .colab-df-convert:hover {\n",
              "      background-color: #434B5C;\n",
              "      box-shadow: 0px 1px 3px 1px rgba(0, 0, 0, 0.15);\n",
              "      filter: drop-shadow(0px 1px 2px rgba(0, 0, 0, 0.3));\n",
              "      fill: #FFFFFF;\n",
              "    }\n",
              "  </style>\n",
              "\n",
              "    <script>\n",
              "      const buttonEl =\n",
              "        document.querySelector('#df-162a051a-4950-4c98-8564-1a4ab577ba86 button.colab-df-convert');\n",
              "      buttonEl.style.display =\n",
              "        google.colab.kernel.accessAllowed ? 'block' : 'none';\n",
              "\n",
              "      async function convertToInteractive(key) {\n",
              "        const element = document.querySelector('#df-162a051a-4950-4c98-8564-1a4ab577ba86');\n",
              "        const dataTable =\n",
              "          await google.colab.kernel.invokeFunction('convertToInteractive',\n",
              "                                                    [key], {});\n",
              "        if (!dataTable) return;\n",
              "\n",
              "        const docLinkHtml = 'Like what you see? Visit the ' +\n",
              "          '<a target=\"_blank\" href=https://colab.research.google.com/notebooks/data_table.ipynb>data table notebook</a>'\n",
              "          + ' to learn more about interactive tables.';\n",
              "        element.innerHTML = '';\n",
              "        dataTable['output_type'] = 'display_data';\n",
              "        await google.colab.output.renderOutput(dataTable, element);\n",
              "        const docLink = document.createElement('div');\n",
              "        docLink.innerHTML = docLinkHtml;\n",
              "        element.appendChild(docLink);\n",
              "      }\n",
              "    </script>\n",
              "  </div>\n",
              "\n",
              "\n",
              "<div id=\"df-58a8cef0-a510-4edd-be20-1a872a64cef3\">\n",
              "  <button class=\"colab-df-quickchart\" onclick=\"quickchart('df-58a8cef0-a510-4edd-be20-1a872a64cef3')\"\n",
              "            title=\"Suggest charts\"\n",
              "            style=\"display:none;\">\n",
              "\n",
              "<svg xmlns=\"http://www.w3.org/2000/svg\" height=\"24px\"viewBox=\"0 0 24 24\"\n",
              "     width=\"24px\">\n",
              "    <g>\n",
              "        <path d=\"M19 3H5c-1.1 0-2 .9-2 2v14c0 1.1.9 2 2 2h14c1.1 0 2-.9 2-2V5c0-1.1-.9-2-2-2zM9 17H7v-7h2v7zm4 0h-2V7h2v10zm4 0h-2v-4h2v4z\"/>\n",
              "    </g>\n",
              "</svg>\n",
              "  </button>\n",
              "\n",
              "<style>\n",
              "  .colab-df-quickchart {\n",
              "      --bg-color: #E8F0FE;\n",
              "      --fill-color: #1967D2;\n",
              "      --hover-bg-color: #E2EBFA;\n",
              "      --hover-fill-color: #174EA6;\n",
              "      --disabled-fill-color: #AAA;\n",
              "      --disabled-bg-color: #DDD;\n",
              "  }\n",
              "\n",
              "  [theme=dark] .colab-df-quickchart {\n",
              "      --bg-color: #3B4455;\n",
              "      --fill-color: #D2E3FC;\n",
              "      --hover-bg-color: #434B5C;\n",
              "      --hover-fill-color: #FFFFFF;\n",
              "      --disabled-bg-color: #3B4455;\n",
              "      --disabled-fill-color: #666;\n",
              "  }\n",
              "\n",
              "  .colab-df-quickchart {\n",
              "    background-color: var(--bg-color);\n",
              "    border: none;\n",
              "    border-radius: 50%;\n",
              "    cursor: pointer;\n",
              "    display: none;\n",
              "    fill: var(--fill-color);\n",
              "    height: 32px;\n",
              "    padding: 0;\n",
              "    width: 32px;\n",
              "  }\n",
              "\n",
              "  .colab-df-quickchart:hover {\n",
              "    background-color: var(--hover-bg-color);\n",
              "    box-shadow: 0 1px 2px rgba(60, 64, 67, 0.3), 0 1px 3px 1px rgba(60, 64, 67, 0.15);\n",
              "    fill: var(--button-hover-fill-color);\n",
              "  }\n",
              "\n",
              "  .colab-df-quickchart-complete:disabled,\n",
              "  .colab-df-quickchart-complete:disabled:hover {\n",
              "    background-color: var(--disabled-bg-color);\n",
              "    fill: var(--disabled-fill-color);\n",
              "    box-shadow: none;\n",
              "  }\n",
              "\n",
              "  .colab-df-spinner {\n",
              "    border: 2px solid var(--fill-color);\n",
              "    border-color: transparent;\n",
              "    border-bottom-color: var(--fill-color);\n",
              "    animation:\n",
              "      spin 1s steps(1) infinite;\n",
              "  }\n",
              "\n",
              "  @keyframes spin {\n",
              "    0% {\n",
              "      border-color: transparent;\n",
              "      border-bottom-color: var(--fill-color);\n",
              "      border-left-color: var(--fill-color);\n",
              "    }\n",
              "    20% {\n",
              "      border-color: transparent;\n",
              "      border-left-color: var(--fill-color);\n",
              "      border-top-color: var(--fill-color);\n",
              "    }\n",
              "    30% {\n",
              "      border-color: transparent;\n",
              "      border-left-color: var(--fill-color);\n",
              "      border-top-color: var(--fill-color);\n",
              "      border-right-color: var(--fill-color);\n",
              "    }\n",
              "    40% {\n",
              "      border-color: transparent;\n",
              "      border-right-color: var(--fill-color);\n",
              "      border-top-color: var(--fill-color);\n",
              "    }\n",
              "    60% {\n",
              "      border-color: transparent;\n",
              "      border-right-color: var(--fill-color);\n",
              "    }\n",
              "    80% {\n",
              "      border-color: transparent;\n",
              "      border-right-color: var(--fill-color);\n",
              "      border-bottom-color: var(--fill-color);\n",
              "    }\n",
              "    90% {\n",
              "      border-color: transparent;\n",
              "      border-bottom-color: var(--fill-color);\n",
              "    }\n",
              "  }\n",
              "</style>\n",
              "\n",
              "  <script>\n",
              "    async function quickchart(key) {\n",
              "      const quickchartButtonEl =\n",
              "        document.querySelector('#' + key + ' button');\n",
              "      quickchartButtonEl.disabled = true;  // To prevent multiple clicks.\n",
              "      quickchartButtonEl.classList.add('colab-df-spinner');\n",
              "      try {\n",
              "        const charts = await google.colab.kernel.invokeFunction(\n",
              "            'suggestCharts', [key], {});\n",
              "      } catch (error) {\n",
              "        console.error('Error during call to suggestCharts:', error);\n",
              "      }\n",
              "      quickchartButtonEl.classList.remove('colab-df-spinner');\n",
              "      quickchartButtonEl.classList.add('colab-df-quickchart-complete');\n",
              "    }\n",
              "    (() => {\n",
              "      let quickchartButtonEl =\n",
              "        document.querySelector('#df-58a8cef0-a510-4edd-be20-1a872a64cef3 button');\n",
              "      quickchartButtonEl.style.display =\n",
              "        google.colab.kernel.accessAllowed ? 'block' : 'none';\n",
              "    })();\n",
              "  </script>\n",
              "</div>\n",
              "\n",
              "  <div id=\"id_9dadfd35-04b8-4310-854b-94c782b3e1d6\">\n",
              "    <style>\n",
              "      .colab-df-generate {\n",
              "        background-color: #E8F0FE;\n",
              "        border: none;\n",
              "        border-radius: 50%;\n",
              "        cursor: pointer;\n",
              "        display: none;\n",
              "        fill: #1967D2;\n",
              "        height: 32px;\n",
              "        padding: 0 0 0 0;\n",
              "        width: 32px;\n",
              "      }\n",
              "\n",
              "      .colab-df-generate:hover {\n",
              "        background-color: #E2EBFA;\n",
              "        box-shadow: 0px 1px 2px rgba(60, 64, 67, 0.3), 0px 1px 3px 1px rgba(60, 64, 67, 0.15);\n",
              "        fill: #174EA6;\n",
              "      }\n",
              "\n",
              "      [theme=dark] .colab-df-generate {\n",
              "        background-color: #3B4455;\n",
              "        fill: #D2E3FC;\n",
              "      }\n",
              "\n",
              "      [theme=dark] .colab-df-generate:hover {\n",
              "        background-color: #434B5C;\n",
              "        box-shadow: 0px 1px 3px 1px rgba(0, 0, 0, 0.15);\n",
              "        filter: drop-shadow(0px 1px 2px rgba(0, 0, 0, 0.3));\n",
              "        fill: #FFFFFF;\n",
              "      }\n",
              "    </style>\n",
              "    <button class=\"colab-df-generate\" onclick=\"generateWithVariable('df_train')\"\n",
              "            title=\"Generate code using this dataframe.\"\n",
              "            style=\"display:none;\">\n",
              "\n",
              "  <svg xmlns=\"http://www.w3.org/2000/svg\" height=\"24px\"viewBox=\"0 0 24 24\"\n",
              "       width=\"24px\">\n",
              "    <path d=\"M7,19H8.4L18.45,9,17,7.55,7,17.6ZM5,21V16.75L18.45,3.32a2,2,0,0,1,2.83,0l1.4,1.43a1.91,1.91,0,0,1,.58,1.4,1.91,1.91,0,0,1-.58,1.4L9.25,21ZM18.45,9,17,7.55Zm-12,3A5.31,5.31,0,0,0,4.9,8.1,5.31,5.31,0,0,0,1,6.5,5.31,5.31,0,0,0,4.9,4.9,5.31,5.31,0,0,0,6.5,1,5.31,5.31,0,0,0,8.1,4.9,5.31,5.31,0,0,0,12,6.5,5.46,5.46,0,0,0,6.5,12Z\"/>\n",
              "  </svg>\n",
              "    </button>\n",
              "    <script>\n",
              "      (() => {\n",
              "      const buttonEl =\n",
              "        document.querySelector('#id_9dadfd35-04b8-4310-854b-94c782b3e1d6 button.colab-df-generate');\n",
              "      buttonEl.style.display =\n",
              "        google.colab.kernel.accessAllowed ? 'block' : 'none';\n",
              "\n",
              "      buttonEl.onclick = () => {\n",
              "        google.colab.notebook.generateWithVariable('df_train');\n",
              "      }\n",
              "      })();\n",
              "    </script>\n",
              "  </div>\n",
              "\n",
              "    </div>\n",
              "  </div>\n"
            ],
            "application/vnd.google.colaboratory.intrinsic+json": {
              "type": "dataframe",
              "variable_name": "df_train",
              "summary": "{\n  \"name\": \"df_train\",\n  \"rows\": 14041,\n  \"fields\": [\n    {\n      \"column\": \"id\",\n      \"properties\": {\n        \"dtype\": \"string\",\n        \"num_unique_values\": 14041,\n        \"samples\": [\n          \"13944\",\n          \"13381\",\n          \"11239\"\n        ],\n        \"semantic_type\": \"\",\n        \"description\": \"\"\n      }\n    },\n    {\n      \"column\": \"tokens\",\n      \"properties\": {\n        \"dtype\": \"object\",\n        \"semantic_type\": \"\",\n        \"description\": \"\"\n      }\n    },\n    {\n      \"column\": \"pos_tags\",\n      \"properties\": {\n        \"dtype\": \"object\",\n        \"semantic_type\": \"\",\n        \"description\": \"\"\n      }\n    },\n    {\n      \"column\": \"chunk_tags\",\n      \"properties\": {\n        \"dtype\": \"object\",\n        \"semantic_type\": \"\",\n        \"description\": \"\"\n      }\n    },\n    {\n      \"column\": \"ner_tags\",\n      \"properties\": {\n        \"dtype\": \"object\",\n        \"semantic_type\": \"\",\n        \"description\": \"\"\n      }\n    }\n  ]\n}"
            }
          },
          "metadata": {},
          "execution_count": 24
        }
      ],
      "source": [
        "df_train"
      ]
    },
    {
      "cell_type": "markdown",
      "source": [
        "Separa as palavras já tokenizadas e as tags das entidades em duas estruturas separadas"
      ],
      "metadata": {
        "id": "wn5-j1kLyLFN"
      }
    },
    {
      "cell_type": "code",
      "execution_count": 25,
      "metadata": {
        "id": "VEP96V3jSll4"
      },
      "outputs": [],
      "source": [
        "corpus = train_dataset['tokens']\n",
        "entities = train_dataset['ner_tags']"
      ]
    },
    {
      "cell_type": "markdown",
      "source": [
        "Uma pequena amostra (1a sentença) do corpus CONLL"
      ],
      "metadata": {
        "id": "5aVQGDe-yTfk"
      }
    },
    {
      "cell_type": "code",
      "execution_count": 26,
      "metadata": {
        "colab": {
          "base_uri": "https://localhost:8080/"
        },
        "id": "g4boM3E1S0Z7",
        "outputId": "e1fef353-31aa-4194-f7bb-0ab54dc3f009"
      },
      "outputs": [
        {
          "output_type": "stream",
          "name": "stdout",
          "text": [
            "Word: EU || Entity 3\n",
            "Word: rejects || Entity 0\n",
            "Word: German || Entity 7\n",
            "Word: call || Entity 0\n",
            "Word: to || Entity 0\n",
            "Word: boycott || Entity 0\n",
            "Word: British || Entity 7\n",
            "Word: lamb || Entity 0\n",
            "Word: . || Entity 0\n"
          ]
        }
      ],
      "source": [
        "for i in range(0,len(corpus[0])):\n",
        "    print(f'Word: {corpus[0][i]} || Entity {entities[0][i]}')"
      ]
    },
    {
      "cell_type": "markdown",
      "metadata": {
        "id": "sA9XnynOVra4"
      },
      "source": [
        "Construção do vocabulário a partir dos textos de treinamento.\n",
        "\n",
        "Devido ao espaço ocupado em memória ser alto para os padrões do Colab (pode resultar em crash na sessão), teremos que limitar o processamento apenas para as 200 primeiras instâncias (exemplos)"
      ]
    },
    {
      "cell_type": "code",
      "execution_count": 27,
      "metadata": {
        "id": "b0OjsfnjVtfS"
      },
      "outputs": [],
      "source": [
        "word2index = {'OOV' : 0} #out of vocabulary - OOV eh notacao comum em PLN\n",
        "for i in range(200):#len(corpus)): #restricao a 200 sentenca, devido ao tempo da aula\n",
        "    for j in range(len(corpus[i])):\n",
        "        word = corpus[i][j]\n",
        "        if corpus[i][j] not in word2index:\n",
        "            word2index[corpus[i][j]] = len(word2index)"
      ]
    },
    {
      "cell_type": "code",
      "execution_count": 28,
      "metadata": {
        "colab": {
          "base_uri": "https://localhost:8080/"
        },
        "id": "LFdUF1fdWhqE",
        "outputId": "aacbfdc9-0540-4b20-ba72-2443e56e3fce"
      },
      "outputs": [
        {
          "output_type": "execute_result",
          "data": {
            "text/plain": [
              "1279"
            ]
          },
          "metadata": {},
          "execution_count": 28
        }
      ],
      "source": [
        "vocab_size = len(word2index)\n",
        "vocab_size"
      ]
    },
    {
      "cell_type": "markdown",
      "source": [
        "Temos nove tipos de entidades no corpus CONLL"
      ],
      "metadata": {
        "id": "qf33uAV-ymNG"
      }
    },
    {
      "cell_type": "code",
      "execution_count": 29,
      "metadata": {
        "id": "7T9Y9N_CTDGn"
      },
      "outputs": [],
      "source": [
        "num_classes = 9"
      ]
    },
    {
      "cell_type": "markdown",
      "source": [
        "Definindo alguns hiperparâmetros"
      ],
      "metadata": {
        "id": "gNLTAWr1yonz"
      }
    },
    {
      "cell_type": "code",
      "execution_count": 30,
      "metadata": {
        "id": "jGy5Qy-oVkUs"
      },
      "outputs": [],
      "source": [
        "embedding_dim = 128\n",
        "hidden_dim = 128\n",
        "learning_rate = 1e-4\n",
        "num_epochs = 10"
      ]
    },
    {
      "cell_type": "markdown",
      "source": [
        "Instancia o objeto da classe LSTM_NER, que será o nosso modelo de reconhecimento de entidades nomeadas"
      ],
      "metadata": {
        "id": "EuSR16OLyreD"
      }
    },
    {
      "cell_type": "code",
      "execution_count": 31,
      "metadata": {
        "id": "oEqkE6L0Va3p"
      },
      "outputs": [],
      "source": [
        "model_ner = LSTM_NER(embedding_dim,hidden_dim,vocab_size,num_classes)"
      ]
    },
    {
      "cell_type": "markdown",
      "source": [
        "Podemos ver abaixo como é a arquitetura do nosso modelo:"
      ],
      "metadata": {
        "id": "70wMGv1xywjD"
      }
    },
    {
      "cell_type": "code",
      "execution_count": 32,
      "metadata": {
        "colab": {
          "base_uri": "https://localhost:8080/"
        },
        "id": "LKrBzMEHfJfb",
        "outputId": "3413260a-89a2-4409-c915-10f174c2542f"
      },
      "outputs": [
        {
          "output_type": "execute_result",
          "data": {
            "text/plain": [
              "LSTM_NER(\n",
              "  (embedding): Embedding(1279, 128)\n",
              "  (lstm): LSTM(128, 128)\n",
              "  (fcl): Linear(in_features=128, out_features=9, bias=True)\n",
              ")"
            ]
          },
          "metadata": {},
          "execution_count": 32
        }
      ],
      "source": [
        "model_ner"
      ]
    },
    {
      "cell_type": "markdown",
      "source": [
        "Declaramos a função loss do tipo Entropia Cruzada (considera implicitamente os labels como sendo one hot encoding) e o otimizador Adam para efetuar o backpropagation"
      ],
      "metadata": {
        "id": "gNT_s46Gy1Az"
      }
    },
    {
      "cell_type": "code",
      "execution_count": 33,
      "metadata": {
        "id": "1uLqj96zYFDz"
      },
      "outputs": [],
      "source": [
        "loss_function = nn.CrossEntropyLoss()\n",
        "optimizer = torch.optim.Adam(model_ner.parameters(),lr=learning_rate)"
      ]
    },
    {
      "cell_type": "markdown",
      "source": [
        "Processo de treinamento da rede. Aqui, por motivos de simplicidade, o batch_size é igual a 1, isto é, uma cada batch contém uma única sentença.\n"
      ],
      "metadata": {
        "id": "tyJA5STfzNfb"
      }
    },
    {
      "cell_type": "code",
      "execution_count": 34,
      "metadata": {
        "id": "m37NjMKvYOtj",
        "colab": {
          "base_uri": "https://localhost:8080/"
        },
        "outputId": "502e4e34-c513-4ed8-f7a3-c831e8bf6a49"
      },
      "outputs": [
        {
          "output_type": "stream",
          "name": "stdout",
          "text": [
            "Epoch 1  ======== Loss: 410.85097\n",
            "Epoch 2  ======== Loss: 239.13361\n",
            "Epoch 3  ======== Loss: 189.97863\n",
            "Epoch 4  ======== Loss: 173.00689\n",
            "Epoch 5  ======== Loss: 162.14282\n",
            "Epoch 6  ======== Loss: 154.01375\n",
            "Epoch 7  ======== Loss: 147.22686\n",
            "Epoch 8  ======== Loss: 141.09146\n",
            "Epoch 9  ======== Loss: 135.23812\n",
            "Epoch 10  ======== Loss: 129.46865\n"
          ]
        }
      ],
      "source": [
        "for epoch in range(num_epochs):\n",
        "\n",
        "    total_loss = 0\n",
        "\n",
        "    for i in range(200):#range(len(train_dataset)): #batch_size = 1\n",
        "\n",
        "        model_ner.train() # ativa o estado de treinamento do modelo\n",
        "\n",
        "        sentence = train_dataset['tokens'][i]\n",
        "        entity_tags = train_dataset['ner_tags'][i]\n",
        "\n",
        "        model_ner.zero_grad() # zera os gradientes\n",
        "\n",
        "        sentence_int = torch.tensor([word2index[word] for word in sentence],dtype=torch.long)\n",
        "        entity_tags = torch.tensor([tag for tag in entity_tags],dtype=torch.long)\n",
        "\n",
        "        # passo forward\n",
        "        entity_predictions = model_ner(sentence_int)\n",
        "\n",
        "        loss = loss_function(entity_predictions,entity_tags)\n",
        "        # prepara para backpropagation: calculo dos gradientes\n",
        "        loss.backward()\n",
        "\n",
        "        optimizer.step() # otimizador, atualize os parametros do modelo\n",
        "\n",
        "        total_loss += loss.item() #pega a loss calculada\n",
        "\n",
        "    print(f'Epoch {epoch+1}  ======== Loss: {total_loss:.5f}')"
      ]
    },
    {
      "cell_type": "markdown",
      "source": [
        "Rotulando cada palavra de acordo com o reconhecimento de entidades nomeadas para uma sentença de teste:"
      ],
      "metadata": {
        "id": "MOIKgxBezaVh"
      }
    },
    {
      "cell_type": "code",
      "execution_count": 35,
      "metadata": {
        "id": "9TBzF2z9hzg2"
      },
      "outputs": [],
      "source": [
        "test_sentence = \"The United States started to struggle with John Kayne\"\n",
        "\n",
        "torch.no_grad() #nao havera calculo de gradiente, pois sao dados de teste, nao requer retreinar o modelo\n",
        "\n",
        "test_int = []\n",
        "for word in test_sentence.split():\n",
        "    if word in word2index:\n",
        "        word_int = word2index[word]\n",
        "    else:\n",
        "        word_int = word2index['OOV']\n",
        "    test_int.append(word_int)"
      ]
    },
    {
      "cell_type": "markdown",
      "source": [
        "Pode-se ver que as predições indicam que cada palavra foi rotulada como sendo pertencentes a nenhuma das entidades mais específicas (pessoais, locais, organizações ou mix), sendo todas rotuladas como \"O\"."
      ],
      "metadata": {
        "id": "r3NVu5zXzj7a"
      }
    },
    {
      "cell_type": "code",
      "execution_count": 36,
      "metadata": {
        "id": "S4D_1fh0i3GK",
        "colab": {
          "base_uri": "https://localhost:8080/"
        },
        "outputId": "32e67aaa-db8d-4087-fab0-9dc8fcafd2ea"
      },
      "outputs": [
        {
          "output_type": "stream",
          "name": "stdout",
          "text": [
            "tensor([0, 0, 0, 0, 0, 0, 0, 0, 0])\n"
          ]
        }
      ],
      "source": [
        "test_tensor = torch.tensor(test_int,dtype=torch.long)\n",
        "\n",
        "tag_scores = model_ner(test_tensor)\n",
        "\n",
        "_,predicted = torch.max(tag_scores,1)\n",
        "\n",
        "print(predicted)"
      ]
    }
  ],
  "metadata": {
    "colab": {
      "provenance": []
    },
    "kernelspec": {
      "display_name": "Python 3",
      "name": "python3"
    },
    "language_info": {
      "name": "python"
    }
  },
  "nbformat": 4,
  "nbformat_minor": 0
}