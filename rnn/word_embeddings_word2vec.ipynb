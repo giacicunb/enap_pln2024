{
  "nbformat": 4,
  "nbformat_minor": 0,
  "metadata": {
    "colab": {
      "provenance": []
    },
    "kernelspec": {
      "name": "python3",
      "display_name": "Python 3"
    },
    "language_info": {
      "name": "python"
    }
  },
  "cells": [
    {
      "cell_type": "code",
      "execution_count": 1,
      "metadata": {
        "id": "QjHGtJwiBRLh"
      },
      "outputs": [],
      "source": [
        "import gensim"
      ]
    },
    {
      "cell_type": "code",
      "source": [
        "from gensim.models import Word2Vec"
      ],
      "metadata": {
        "id": "QeOlSNbiBUZP"
      },
      "execution_count": 2,
      "outputs": []
    },
    {
      "cell_type": "code",
      "source": [
        "corpus = [['hello','i','am','billy','and','i','love','you'], ['my','cat','saw','a','mouse'],['his','son','is','crazy']]"
      ],
      "metadata": {
        "id": "gj_IGammBdHF"
      },
      "execution_count": 3,
      "outputs": []
    },
    {
      "cell_type": "code",
      "source": [
        "model = Word2Vec(sentences=corpus,vector_size=5,window=3,min_count=1)\n",
        "#vector_size eh o embedding_dim"
      ],
      "metadata": {
        "id": "ohyo_1XcB0Tm"
      },
      "execution_count": 7,
      "outputs": []
    },
    {
      "cell_type": "code",
      "source": [
        "word_vectors = model.wv"
      ],
      "metadata": {
        "id": "TNbvkrfRCXVv"
      },
      "execution_count": 9,
      "outputs": []
    },
    {
      "cell_type": "markdown",
      "source": [
        "# Camada Embedding do Word2Vec"
      ],
      "metadata": {
        "id": "vivu5D0rCioC"
      }
    },
    {
      "cell_type": "code",
      "source": [
        "print(word_vectors[0])"
      ],
      "metadata": {
        "colab": {
          "base_uri": "https://localhost:8080/"
        },
        "id": "dt7tu-buCc_P",
        "outputId": "596d602a-45e3-442c-ba2e-1147c2352f34"
      },
      "execution_count": 11,
      "outputs": [
        {
          "output_type": "stream",
          "name": "stdout",
          "text": [
            "[-0.01072454  0.00472863  0.10206699  0.18018547 -0.186059  ]\n"
          ]
        }
      ]
    },
    {
      "cell_type": "code",
      "source": [
        "word_vectors[0] - word_vectors[1]"
      ],
      "metadata": {
        "colab": {
          "base_uri": "https://localhost:8080/"
        },
        "id": "2E0Ojm__CsKb",
        "outputId": "0f3c59bc-e795-4cfe-fe40-d782d1fb9eb4"
      },
      "execution_count": 12,
      "outputs": [
        {
          "output_type": "execute_result",
          "data": {
            "text/plain": [
              "array([ 0.13161163, -0.12444882, -0.07739277,  0.28049403, -0.11079156],\n",
              "      dtype=float32)"
            ]
          },
          "metadata": {},
          "execution_count": 12
        }
      ]
    },
    {
      "cell_type": "markdown",
      "source": [
        "Google News"
      ],
      "metadata": {
        "id": "QInfPrLxDASM"
      }
    },
    {
      "cell_type": "code",
      "source": [
        "import gensim.downloader\n"
      ],
      "metadata": {
        "id": "KWo4uJxuDB7u"
      },
      "execution_count": 13,
      "outputs": []
    },
    {
      "cell_type": "code",
      "source": [
        "print(list(gensim.downloader.info()['models'].keys()))"
      ],
      "metadata": {
        "colab": {
          "base_uri": "https://localhost:8080/"
        },
        "id": "6IPhzxNmDFvQ",
        "outputId": "6012d77c-29f7-4df5-d475-69d4c30249b8"
      },
      "execution_count": 17,
      "outputs": [
        {
          "output_type": "stream",
          "name": "stdout",
          "text": [
            "['fasttext-wiki-news-subwords-300', 'conceptnet-numberbatch-17-06-300', 'word2vec-ruscorpora-300', 'word2vec-google-news-300', 'glove-wiki-gigaword-50', 'glove-wiki-gigaword-100', 'glove-wiki-gigaword-200', 'glove-wiki-gigaword-300', 'glove-twitter-25', 'glove-twitter-50', 'glove-twitter-100', 'glove-twitter-200', '__testing_word2vec-matrix-synopsis']\n"
          ]
        }
      ]
    },
    {
      "cell_type": "code",
      "source": [
        "word_vectors = gensim.downloader.load('word2vec-google-news-300')"
      ],
      "metadata": {
        "colab": {
          "base_uri": "https://localhost:8080/"
        },
        "id": "23CHpdb6DkP6",
        "outputId": "debed5ee-92ee-4258-ab75-561afc756208"
      },
      "execution_count": 18,
      "outputs": [
        {
          "output_type": "stream",
          "name": "stdout",
          "text": [
            "[==================================================] 100.0% 1662.8/1662.8MB downloaded\n"
          ]
        }
      ]
    },
    {
      "cell_type": "code",
      "source": [
        "print(word_vectors)"
      ],
      "metadata": {
        "colab": {
          "base_uri": "https://localhost:8080/"
        },
        "id": "oU08e6QIGzan",
        "outputId": "0b268cb7-bb11-43c1-8637-cbda59866e56"
      },
      "execution_count": 19,
      "outputs": [
        {
          "output_type": "stream",
          "name": "stdout",
          "text": [
            "KeyedVectors<vector_size=300, 3000000 keys>\n"
          ]
        }
      ]
    },
    {
      "cell_type": "code",
      "source": [
        "print(word_vectors.most_similar('car'))"
      ],
      "metadata": {
        "colab": {
          "base_uri": "https://localhost:8080/"
        },
        "id": "nw6lv4XtHC4k",
        "outputId": "b020368b-12aa-462b-9597-4e52e22466ca"
      },
      "execution_count": 22,
      "outputs": [
        {
          "output_type": "stream",
          "name": "stdout",
          "text": [
            "[('vehicle', 0.7821096181869507), ('cars', 0.7423831224441528), ('SUV', 0.7160962224006653), ('minivan', 0.6907036900520325), ('truck', 0.6735789775848389), ('Car', 0.6677608489990234), ('Ford_Focus', 0.667320191860199), ('Honda_Civic', 0.6626849174499512), ('Jeep', 0.651133120059967), ('pickup_truck', 0.6441438794136047)]\n"
          ]
        }
      ]
    },
    {
      "cell_type": "code",
      "source": [
        "print(word_vectors.most_similar('orange'))"
      ],
      "metadata": {
        "colab": {
          "base_uri": "https://localhost:8080/"
        },
        "id": "eSlVB5t6HTxG",
        "outputId": "9f53f9ee-9052-49a6-af45-0f4ee2869807"
      },
      "execution_count": 23,
      "outputs": [
        {
          "output_type": "stream",
          "name": "stdout",
          "text": [
            "[('bright_orange', 0.7449691295623779), ('participant_LOGIN', 0.741999089717865), ('purple', 0.6877812743186951), ('calico_lobsters_respectively', 0.6681745052337646), ('blue', 0.642189085483551), ('yellow', 0.6421886682510376), ('bright_yellow', 0.6373269557952881), ('red', 0.6162858009338379), ('pink', 0.6027531623840332), ('fleshed_sweet_potato', 0.6005146503448486)]\n"
          ]
        }
      ]
    },
    {
      "cell_type": "code",
      "source": [
        "word_vectors.similarity('orange','mining')"
      ],
      "metadata": {
        "colab": {
          "base_uri": "https://localhost:8080/"
        },
        "id": "68M61TCTH8_L",
        "outputId": "8e979c8c-bab0-4b06-9cde-09bbdb2b7e0e"
      },
      "execution_count": 25,
      "outputs": [
        {
          "output_type": "execute_result",
          "data": {
            "text/plain": [
              "-0.015558928"
            ]
          },
          "metadata": {},
          "execution_count": 25
        }
      ]
    },
    {
      "cell_type": "code",
      "source": [
        "print(word_vectors.most_similar('happiness',topn=20))"
      ],
      "metadata": {
        "colab": {
          "base_uri": "https://localhost:8080/"
        },
        "id": "ySWv4QXuIQ7P",
        "outputId": "eba12da5-0c29-402f-a1c2-d4f4670a4971"
      },
      "execution_count": 28,
      "outputs": [
        {
          "output_type": "stream",
          "name": "stdout",
          "text": [
            "[('contentment', 0.7695190906524658), ('joy', 0.6182845830917358), ('Happiness', 0.6116278171539307), ('hapiness', 0.5748556852340698), ('contentedness', 0.5574802756309509), ('happiness_quotient', 0.5532097816467285), ('prosocial_spending', 0.5406398773193359), ('happyness', 0.5387449264526367), ('marital_bliss', 0.5288689732551575), ('satisfaction', 0.5283578038215637), ('wholeness', 0.5227452516555786), ('prosperity', 0.5201224088668823), ('economist_Richard_Layard', 0.509858250617981), ('meager_upbringing', 0.5092413425445557), ('Adobe_CS2_Premium', 0.5027807354927063), ('thankfulness', 0.5016884803771973), ('conjugal_bliss', 0.5002782344818115), ('canine_companionship', 0.498596727848053), ('indescribable_joy', 0.49671727418899536), ('peacefulness', 0.4946279525756836)]\n"
          ]
        }
      ]
    }
  ]
}