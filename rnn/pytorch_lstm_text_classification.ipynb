{
  "nbformat": 4,
  "nbformat_minor": 0,
  "metadata": {
    "colab": {
      "provenance": []
    },
    "kernelspec": {
      "name": "python3",
      "display_name": "Python 3"
    },
    "language_info": {
      "name": "python"
    }
  },
  "cells": [
    {
      "cell_type": "code",
      "execution_count": 1,
      "metadata": {
        "id": "syG65xb5GbZ7"
      },
      "outputs": [],
      "source": [
        "import torch\n",
        "import torch.nn as nn\n",
        "import torch.optim as optim\n",
        "from torch.utils.data import Dataset, DataLoader\n",
        "from sklearn.datasets import fetch_20newsgroups\n",
        "import numpy as np\n",
        "from sklearn.metrics import classification_report"
      ]
    },
    {
      "cell_type": "code",
      "source": [
        "class TextDataset(Dataset):\n",
        "    def __init__(self, X, y):\n",
        "        self.X = torch.from_numpy(X)\n",
        "        self.y = torch.from_numpy(y)\n",
        "\n",
        "    def __len__(self):\n",
        "        return len(self.X)\n",
        "\n",
        "    def __getitem__(self, idx):\n",
        "        return self.X[idx], self.y[idx]"
      ],
      "metadata": {
        "id": "xhX5IG85fU8j"
      },
      "execution_count": 2,
      "outputs": []
    },
    {
      "cell_type": "code",
      "source": [
        "class LSTM(nn.Module):\n",
        "    def __init__(self, vocab_size, embedding_dim, hidden_dim, output_dim, n_layers, dropout):\n",
        "        super(LSTM, self).__init__()\n",
        "        self.embedding = nn.Embedding(vocab_size, embedding_dim)\n",
        "        self.rnn = nn.LSTM(embedding_dim, hidden_dim, num_layers=n_layers, dropout=dropout, batch_first=True)\n",
        "        self.fc = nn.Linear(hidden_dim, output_dim)\n",
        "        self.dropout = nn.Dropout(dropout)\n",
        "\n",
        "    def forward(self, text):\n",
        "        # text.shape = [batch_size, seq_length]\n",
        "        embedded = self.embedding(text)\n",
        "        # embedded.shape = [batch_size, seq_length, embedding_dim]\n",
        "        output, (hidden, cell) = self.rnn(embedded)\n",
        "        # output.shape = [batch_size, seq_length, hidden_dim]\n",
        "        # hidden.shape = [num_layers * num_directions, batch_size, hidden_dim]\n",
        "        # cell.shape = [num_layers * num_directions, batch_size, hidden_dim]\n",
        "        hidden = self.dropout(hidden[-1,:,:])\n",
        "        # hidden.shape = [batch_size, hidden_dim]\n",
        "        return self.fc(hidden)"
      ],
      "metadata": {
        "id": "gim9emJ6a6D6"
      },
      "execution_count": 3,
      "outputs": []
    },
    {
      "cell_type": "code",
      "source": [
        "def tokenizer(sentence):\n",
        "    return sentence.split()"
      ],
      "metadata": {
        "id": "Gb40AQKae249"
      },
      "execution_count": 4,
      "outputs": []
    },
    {
      "cell_type": "code",
      "source": [
        "def encoding(X,y,word_dic,max_len):\n",
        "\n",
        "    sentences_encoding = []\n",
        "\n",
        "    for i in range(len(X)):\n",
        "        sentence = X[i].split()\n",
        "        encoded_sentence = []\n",
        "        for j in range(0,min(len(sentence),max_len)):\n",
        "            encoded_sentence.append(word_dic[sentence[j]])\n",
        "\n",
        "        if max_len > len(sentence):\n",
        "            tam = max_len-len(sentence)\n",
        "            zeros = [0]*tam\n",
        "            encoded_sentence.extend(zeros)\n",
        "\n",
        "        sentences_encoding.append(np.array(encoded_sentence))\n",
        "\n",
        "    return np.array(sentences_encoding), np.array(y)"
      ],
      "metadata": {
        "id": "BywGgV1KhWxv"
      },
      "execution_count": 5,
      "outputs": []
    },
    {
      "cell_type": "code",
      "source": [
        "newsgroups_train = fetch_20newsgroups(subset='train')\n",
        "newsgroups_test = fetch_20newsgroups(subset='test')"
      ],
      "metadata": {
        "id": "J80QgYSuKakz"
      },
      "execution_count": 6,
      "outputs": []
    },
    {
      "cell_type": "code",
      "source": [
        "newsgroups_train.filenames.shape"
      ],
      "metadata": {
        "colab": {
          "base_uri": "https://localhost:8080/"
        },
        "id": "me2KXPP0cWEx",
        "outputId": "d51a6c91-2604-4f4c-e471-6991956d2b01"
      },
      "execution_count": 7,
      "outputs": [
        {
          "output_type": "execute_result",
          "data": {
            "text/plain": [
              "(11314,)"
            ]
          },
          "metadata": {},
          "execution_count": 7
        }
      ]
    },
    {
      "cell_type": "code",
      "source": [
        "print(list(newsgroups_train.target_names))"
      ],
      "metadata": {
        "colab": {
          "base_uri": "https://localhost:8080/"
        },
        "id": "tqQLildzWrE6",
        "outputId": "f146db08-b6d9-46c7-cc29-56e9a3d29d6a"
      },
      "execution_count": 8,
      "outputs": [
        {
          "output_type": "stream",
          "name": "stdout",
          "text": [
            "['alt.atheism', 'comp.graphics', 'comp.os.ms-windows.misc', 'comp.sys.ibm.pc.hardware', 'comp.sys.mac.hardware', 'comp.windows.x', 'misc.forsale', 'rec.autos', 'rec.motorcycles', 'rec.sport.baseball', 'rec.sport.hockey', 'sci.crypt', 'sci.electronics', 'sci.med', 'sci.space', 'soc.religion.christian', 'talk.politics.guns', 'talk.politics.mideast', 'talk.politics.misc', 'talk.religion.misc']\n"
          ]
        }
      ]
    },
    {
      "cell_type": "code",
      "source": [
        "newsgroups_train = fetch_20newsgroups(subset='train', categories=['comp.graphics','comp.windows.x','sci.crypt','comp.sys.ibm.pc.hardware'])\n",
        "newsgroups_test = fetch_20newsgroups(subset='test', categories=['comp.graphics','comp.windows.x','sci.crypt','comp.sys.ibm.pc.hardware'])"
      ],
      "metadata": {
        "id": "RsMOZ3vgdOfv"
      },
      "execution_count": 9,
      "outputs": []
    },
    {
      "cell_type": "code",
      "source": [
        "newsgroups_train.data[:10]"
      ],
      "metadata": {
        "id": "GzFn_9ilccAg",
        "colab": {
          "base_uri": "https://localhost:8080/"
        },
        "outputId": "e5c50b53-848a-4b06-8bba-00bae410624b"
      },
      "execution_count": 10,
      "outputs": [
        {
          "output_type": "execute_result",
          "data": {
            "text/plain": [
              "['From: ld231782@longs.lance.colostate.edu (L. Detweiler)\\nSubject: Privacy & Anonymity on the Internet FAQ (3 of 3)\\nSupersedes: <net-privacy/part3_733153240@GZA.COM>\\nOrganization: TMP Enterprises\\nLines: 1201\\nExpires: 21 May 1993 04:00:06 GMT\\nReply-To: ld231782@longs.lance.colostate.edu\\nNNTP-Posting-Host: pad-thai.aktis.com\\nSummary: Notes on the use, history, and value of anonymous Usenet\\n posting and email remailing services\\nX-Last-Updated: 1993/03/04\\n\\nArchive-name: net-privacy/part3\\nLast-modified: 1993/3/3\\nVersion: 2.1\\n\\n\\nNOTES on ANONYMITY on the INTERNET\\n==================================\\n\\nCompiled by L. Detweiler <ld231782@longs.lance.colostate.edu>.\\n\\n\\n<8.1> What are some known anonymous remailing and posting sites?\\n<8.2> What are the responsibilities associated with anonymity?\\n<8.3> How do I `kill\\' anonymous postings?\\n<8.4> What is the history behind anonymous posting servers?\\n<8.5> What is the value of anonymity?\\n<8.6> Should anonymous posting to all groups be allowed?\\n<8.7> What should system operators do with anonymous postings?\\n<8.8> What is going on with anon.penet.fi maintained by J. Helsingius?\\n\\n\\n* * *\\n\\n_____\\n<8.1> What are some known anonymous remailing and posting sites?\\n\\n  Currently the most stable of anonymous remailing and posting sites\\n  is anon.penet.fi operated by julf@penet.fi for several months, who\\n  has system adminstrator privileges and owns the equipment. \\n  Including anonymized mail, Usenet posting, and return addresses \\n  (no encryption).  Send mail to help@penet.fi for information.\\n \\n  Hal Finney has contributed an instruction manual for the cypherpunk\\n  remailers on the ftp site soda.berkeley.edu (128.32.149.19):\\n  pub/cypherpunks/hal\\'s.instructions. See also scripts.tar.Z (UNIX\\n  scripts to aid remailer use) and anonmail.arj (MSDOS batch files to\\n  aid remailer use).\\n\\n  ebrandt@jarthur.claremont.edu\\n  -----------------------------\\n    Anonymized mail.  Request information from above address.\\n    \\n  elee7h5@rosebud.ee.uh.edu\\n  -------------------------\\n    Experimental anonymous remailer run Karl Barrus\\n    <elee9sf@Menudo.UH.EDU>, with encryption to the server.  Request\\n    information from that address.\\n    \\n  hal@alumni.caltech.edu\\n  ----------------------\\n    Experimental remailer with encryption to server and return\\n    addresses.  Request information from above address.\\n\\n  hh@soda.berkeley.edu\\n  hh@cicada.berkeley.edu\\n  hh@pmantis.berkeley.edu\\n  ----------------------\\n    Experimental remailer.  Include header `Request-Remailing-To\\'.\\n\\n  nowhere@bsu-cs.bsu.edu \\n  ----------------------\\n    Experimental remailer allowing one level of chaining.  Run by\\n    Chael Hall.  Request information from above address.\\n\\n  phantom@mead.u.washington.edu \\n  -----------------------------\\n    Experimental remailer with encryption to server.  `finger\\' site\\n    address for information.\\n\\n  Notes\\n  =====\\n  \\n  - Cypherpunk remailers tend to be unstable because they are often\\n    running without site administrator knowledge. Liability issues\\n    are wholly unresolved.\\n  \\n  - So far, all encryption is based on public-key cryptography and PGP\\n    software (see the question on cryptography). \\n\\n  - Encryption aspects (message text, destination address, replies)\\n    vary between sites.\\n\\n  - Multiple chaining, alias unlinking, and address encryption are\\n    mostly untested, problematic, or unsupported at this time.\\n\\n_____\\n<8.2> What are the responsibilities associated with anonymity?\\n\\n  \\n  Users\\n  -----\\n\\n  - Use anonymity only if you have to. Frivolous uses weaken the\\n    seriousness and usefulness of the capability for others.\\n  - Do not use anonymity to provoke, harass, or threaten others.\\n  - Do not hide behind anonymity to evade established conventions on\\n    Usenet,  such as posting binary pictures to regular newsgroups.\\n  - If posting large files, be attentive to bandwidth considerations.\\n    Remember, simply sending the posting to the service increases\\n    network traffic.\\n  - Avoid posting anonymously to the regular hierarchy of Usenet; this\\n    is the mostly likely place to alienate readers. The `alt\\'\\n    hierarchy is preferred.\\n  - Give as much information as possible in the posting (i.e.\\n    references, etc.) Remember that content is the only means for\\n    readers to judge the truth of the message, and that any\\n    inaccuracies will tend to discredit the entire message and even\\n    future ones under the same handle.\\n  - Be careful not to include information that will reveal your\\n    identity or enable someone to deduce it.  Test the system by\\n    sending anonymized mail to yourself.\\n  - Be aware of the policies of the anonymous site and respect them. \\n    Be prepared to forfeit your anonymity if you abuse the privilege.\\n  - Be considerate and respectful of other\\'s objections to anonymity.\\n  - ``Hit-and-run\\'\\' anonymity should be used with utmost reservation.\\n    Use services that provide anonymous return addresses instead.\\n  - Be courteous to the system operator, who may have invested large\\n    amounts of time, be personally risking his account, or dedicating\\n    his hardware, all for your convenience.\\n\\n  Operators\\n  ---------\\n\\n  - Document thoroughly acceptable and unacceptable uses in an\\n    introductory file that is sent to new users.  Have a coherent and\\n    consistent policy and stick to it. State clearly what logging and\\n    monitoring is occurring. Describe your background, interest, and\\n    security measures. Will the general approach be totalitarian or\\n    lassaiz-faire?\\n  - Formulate a plan for problematic ethical situations and anticipate\\n    potentially intense moral quandaries and dilemmas. What if a user\\n    is blackmailing someone through your service? What if a user\\n    posts suicidal messages through your service? Remember, your\\n    users trust you to protect them.\\n  - In the site introductory note, give clear examples  of situations\\n    where you will take action and what these actions will be (e.g.\\n    warn the user, limit anonymity to email or posting only, revoke\\n    the account, \\'out\\' the user, contact local administrator, etc.)\\n  - Describe exactly the limitations of the software and hardware.\\n    Address the bandwidth limitations of your site. Report candidly\\n    and thoroughly all bugs that have  occurred.  Work closely with\\n    users to isolate and fix bugs. Address all bugs noted below under\\n    ``(in)stability of anonymity\\'\\'.\\n  - Document the stability of the site---how long has it been running?\\n    What compromises have occured? Why are you running it? What is\\n    your commitment to it?\\n  - Include a disclaimer in outgoing mail and messages.  Include an\\n    address for complaints, ideally appended to every outgoing item. \\n    Consult a lawyer about your liability.\\n  - Be committed to the long-term stability of the site. Be prepared\\n    to deal with complaints and `hate mail\\' addressed to you.  If you\\n    do not own the hardware the system runs on or are not the system\\n    adminstrator, consult those who do and are.\\n  - Be considerate of providing anonymity to various groups.  If\\n    possible, query group readers.\\n  - Keep a uniformity and simplicity of style in outgoing message\\n    format that can be screened effectively by kill files.  Ensure\\n    the key text `Anon\\' is  somewhere in every header.\\n  - Take precautions to ensure the security of the server from\\n    physical and  network-based attacks and infiltrations.\\n\\n  Readers\\n  -------\\n  \\n  - Do not complain, attack, or discredit a poster for the sole reason\\n    that he is posting anonymously, make blanket condemnations that\\n    equate anonymity with cowardice and criminality, or assail\\n    anonymous traffic in general for mostly neutral reasons (e.g. its\\n    volume is heavy or increasing).\\n  - React to the anonymous information unemotionally.  Abusive posters\\n    will be encouraged further if they get irrationally irate\\n    responses.  Sometimes the most effective response is silence.\\n  - Notify operators if very severe abuses occur, such as piracy,\\n    harassment, extortion, etc.\\n  - Do not complain about postings being inappropriate because they\\n    offend you personally.\\n  - Use kill files to screen anonymous postings if you object to the\\n    idea of anonymity itself.\\n  - Avoid the temptation to proclaim that all anonymous postings\\n    should be barred from particular groups because no `possible\\' or\\n    `conceivable\\' need exists.\\n\\n  References\\n  ----------\\n  \\n  See e.g. ftp.eff.org:/pub/academic/anonymity:\\n\\n  > This article is an excerpt from an issue of FIDONEWS on individual\\n  > privacy and the use of handles.  It accepts the need of a system\\n  > operator to know the name of a user; but suggests that the use of\\n  > a handle is analogous to a request to withhold the name in a\\n  > letter to the editor. The article concludes with a set of\\n  > guidelines for preserving the right to be anonymous.\\n\\n_____\\n<8.3> How do I `kill\\' anonymous postings?\\n\\n  James Thomas Green <jgreen@zeus.calpoly.edu>:\\n\\n  > Try putting this in your kill file:\\n  >   \\n  >   /Anon/h:j\\n  >   /Anonymous/h:j\\n  > \\n  > This will search the headers of the messages and kill any that\\n  > contain `Anon\\' or `Anonymous\\' in them.  Not perfect and won\\'t\\n  > kill followups. \\n  \\n  Note that anonymous server operators have the capability to mask\\n  anonymous postings under which the above method will not work; so\\n  far this practice is not widespread, but it may become more common\\n  as a countermeasure to widespread anonymous filtering.\\n  \\n_____\\n<8.4> What is the history behind anonymous posting servers?\\n\\n  Originally anonymous posting services were introduced for\\n  individual, particularly volatile newsgroups, where anonymity is\\n  almost the preferred method of communication, such as talk.abortion\\n  and alt.sex.bondage.  One of the first was one by Dave Mack\\n  started in ~1988 for alt.sex.bondage. Another early one was\\n  wizvax.methuen.ma.us run by Stephanie Gilgut (Gilgut Enterprises)\\n  but was disbanded due to  lack of funds.  The system provided\\n  anonymous return addresses. n7kbt.rain.com (John Opalko) took up\\n  the functions of this server, including reinstating the anonymous\\n  alias file. The group ``alt.personals has been chewing through\\n  servers like there\\'s no tomorrow.\\'\\'\\n  \\n  Spurred by the disappearance of `wizvax\\' and interested in\\n  researching the idea, Karl Kleinpaste\\n  <Karl_Kleinpaste@godiva.nectar.cs.cmu.edu> developed his own system\\n  from scratch in six hours. By this time the idea of extending the\\n  server to new, more `mainstream\\'  groups was starting to emerge,\\n  and he explored the possibility partly at the specific request  by\\n  multiple users for anonymity in other groups. ``The intended\\n  advantage of my system was specifically to allow multiple group\\n  support, with a single anon identifier across all.  This was\\n  arguably the single biggest deficiency of previous anon systems.\\'\\' \\n  K. Kleinpaste posted a message on rec.nude asking users whether an\\n  anonymous service would be welcome there, and judged a consensus\\n  against it. \\n\\n  K. Kleinpaste introduced what he calls a ``fire extinguisher\\'\\' to\\n  `squelch\\' or `plonk\\' abusive users in response to complaints, and\\n  used this in three cases. Nevertheless, after a few months of\\n  intense traffic he was eventually overwhelmed by the abuses of his\\n  server. ``Even as restricted as it was, my system was subjected to\\n  abuses to the point where it was ordered dismantled by the\\n  facilities staff here. Such abuses started right after it was\\n  created.\\'\\'\\n\\n  In ~Nov 1992, Johan Helsingius (julf@penet.FI) set up the most\\n  controversial anonymous site to date. anon.penet.fi is based on\\n  scripts and C code written by K. Kleinpaste and supports anonymized\\n  mail, posting, and return addresses. He initially wanted to confine\\n  the service to Scandinavian users but expanded it to worldwide\\n  accessability in response to \\'lots\\' of international requests.\\n  \\n  J. Helsingius policy of allowing anonymous posting to every Usenet\\n  newsgroup has been met with strong and serious ideological\\n  opposition (e.g. by news adminstrators in news.admin.policy).\\n  Because of the relative newness and recent emergence of the medium,\\n  abuses by anonymous posters  tend to have higher visibility than\\n  ``routine\\'\\' abuses. His total commitment to preservation of\\n  anonymity is also controversial.\\n\\n  For example, in a highly controversial and publicized case in ~Feb\\n  1993,  an anonymous user posted a supposed transcript of desperate\\n  crew dialogue during the Challenger shuttle disaster via\\n  anon.penet.fi to sci.astro. Despite that the transcript had been\\n  posted in the same place up to a year earlier (then\\n  non-anonymously) and actually originated not with the poster but a\\n  New York news tabloid, subsequent responses consisted largely of\\n  vociferous outrage at the poster\\'s use of anonymity, reverberating\\n  through many newsgroups. \\n  \\n  The original poster, using the same anonymous handle, later conceded\\n  that the story ``seemed likely to have been fabricated,\\'\\'\\n  suggesting the plausible possibility that the original intent was\\n  not to provoke outrage but gauge reactions on the authenticity of\\n  the story (albeit crudely), free of personal risk from perceived\\n  association with the item.  The ensuing commotion generated queries\\n  for the original article by late-entering readers. The anonymous\\n  user later posted deliberately offensive comments at his\\n  detractors.\\n\\n  Despite piercingly irate and outraged complaints, and even the vocal\\n  opposition and verbal abuse of K. Kleinpaste and eminent news\\n  operators, J. Helsingius has largely avoided use of the ``fire\\n  extingisher\\'\\' and the ``group bouncer\\'\\' mechanisms that limit the\\n  scope of the service. As of ~March 1993 the anon.penet.fi site is\\n  best described as `inundated\\': it has registered over 13,000 users\\n  in its initial three months of operation, forwards ~3000 messages a\\n  day, and approximately 5% of all Usenet postings are anonymized\\n  through the site. The immense popularity is probably largely due\\n  to the capability for `global\\' anonymity which has allowed users to\\n  find creative uses in diverse areas not previously envisioned.\\n\\n  Johan Helsingius has been subject to extraordinary pressure to\\n  dismantle his server in ~Feb 1993. At one point K. Kleinpaste\\n  threatened publicly to organize a sort of vigilante group of irate\\n  news operators to  send out revocation commands on all messages\\n  originating from the site.  J. Helsingius has also alluded to\\n  threats of flooding the  server.  The server has crashed several\\n  times, at least once due to a saturation `mailbombing\\' through it\\n  by an anonymous user.  Mr. Helsingius reports spending up to 5\\n  hours per day  answering email requests alone associated with the\\n  service\\'s administration. In response to the serious threats he\\n  disabled global group access temporarily for one week and\\n  encouraged his users to defend the service publicly.\\n  \\n  Based on fast-moving dialogue and creative suggestions by\\n  ``cypherpunks,\\'\\' J. Helsingius has identified many security\\n  weaknesses and valuable new features for the service, and is\\n  currently in the process of code development and testing. He is\\n  planning on upgrading the IBM compatible 386 machine to a 486 soon\\n  to handle the voluminous load and is  considering integrating a new\\n  system with very sophisticated functionality, including multiple\\n  email aliases, alias allocation control, public-key encryption,\\n  etc.\\n\\n  A very sophisticated anonymous posting system was set up in Dec.\\n  1992 by D. Clunie <dclunie@pax.tpa.com.au> that used cryptography\\n  in both directions (to/from) the server for the highest degree of\\n  confidentiality seen so far.  However, it was running on a public\\n  access account, and he had to shut it down after only several\\n  weeks, upon receiving requests and conditions apparently ultimately\\n  originating from NSF representatives. D. Clunie has released the\\n  software to the public domain.\\n\\n  Recently the idea of a newsgroup devoted to `whistleblowing\\' on\\n  government abuses has received wide and focused attention, and\\n  group formation is currently underway.  In the basic scenario the\\n  group would allow people to post pseudonymously using remailers,\\n  and even establish reputations based on their authentifiable\\n  digital signatures. The traffic may eventually reach reporters in\\n  the mainstream news media.  deltorto@aol.com has volunteered to\\n  attack multiple aspects of this project, including distributing\\n  easy-to-read documentation on posting, anonymization, and\\n  encryption.\\n\\n  See also sections on ``views on anonymous posting\\'\\' below and ``what\\n  is going on with anon.penet.fi?\\'\\' in this document.\\n  \\n  (Thanks to Carl Kleinpaste\\n  <Karl_Kleinpaste@godiva.nectar.cs.cmu.edu>, David Clunie\\n  <dclunie@pax.tpa.com.au> and Johan Helsingius <julf@penet.fi> for\\n  contributions here.)\\n\\n\\n_____\\n<8.5> What is the value of anonymity?\\n\\n  KONDARED@PURCCVM.BITNET:\\n    \\n  > I think anonymous posts do help in focusing our attention on the\\n  > content of one\\'s message. Sure lot of anonymous posts are abusive\\n  > or frivolous but in most cases these are by users who find the\\n  > anon facility novel. Once the novelty wears off they are stopping\\n  > their pranks...\\n\\n  morgan@engr.uky.edu (Wes Morgan):\\n\\n  > I don\\'t mind seeing the miscellaneous hatred/prejudice/racism;\\n  > those things are part of our nature.  However,  the notion of\\n  > providing anonymity\\'s shield for these ideas repulses me.  If\\n  > they have such strong feelings, why can\\'t they put their name(s)\\n  > on  their postings? ... Quite frankly, I loathe communication\\n  > with people who refuse to use their names.\\n\\n  dclunie@pax.tpa.com.au (David Clunie)\\n   \\n  > Many seem to question the value of anonymity. But who are they to\\n  > say what risks another individual should take ? There is no\\n  > question that in this rather conservative society that we live\\n  > in, holding certain views, making certain statements, adopting a\\n  > certain lifestyle, are likely to result in public censure,\\n  > ridicule, loss of status, employment, or even legal action. Given\\n  > the heterogeneity of the legal jurisdictions from where the many\\n  > contributors to usenet post, who knows what is legal and what is\\n  > not ! Some say that anonymous posters are \"cowards\" and should\\n  > stand up and be counted. Perhaps that is one point of view but\\n  > what right do these detractors have to exercise such censorship ?\\n\\n  From: doug@cc.ysu.edu (Doug Sewell)\\n  \\n  > Why is it censorship to not expect someone to speak for\\n  > themselves, without the cloak of anonymity. This is at best a\\n  > lame argument. \\n  > \\n  > You tell me why what you have to say requires anonymity.  And you\\n  > tell me why the wishes of a majority of non-anonymous users of a\\n  > newsgroup should be disregarded when they don\\'t want anonymous\\n  > posts.\\n  > \\n  > Anonymous users have LESS rights than any others. They are not\\n  > legitimate usenet participants. I would not honor RFDs, CFVs,\\n  > control messages, or votes from one.\\n\\n  brad@clarinet.com (Brad Templeton):\\n  \\n  > I can think of no disadvantage caused by anon posting sites that\\n  > doesn\\'t already exist, other than the fact that they do make more\\n  > naive net users who don\\'t know how to post anonymously the old\\n  > way more prone to do it.\\n\\n  From: mandel@netcom.com (Tom Mandel)\\n  \\n  > I cannot speak for others but I regard anonymous postings in a\\n  > serious discussion as pretty much worthless. ... views that hide \\n  > behind the veil of anon are hardly worth the trouble of reading.\\n  \\n  n8729@anon.penet.fi (Hank Pankey)\\n  \\n  > Since I began posting anonymously (to show support for general\\n  > principles of personal privacy) I have been subject to far more\\n  > abuse and attack than I ever received before. People seem to\\n  > find it easier to flame and insult someone whose name they don\\'t\\n  > know. Perhaps it\\'s easier to pretend that there is no person\\n  > behind the email address who feels the sting of abusive comments.\\n  > \\n  > Anonymity does hinder some methods of controlling other posters\\'\\n  > actions.  People who seek such control will naturally oppose it.\\n\\n  From: 00acearl@leo.bsuvc.bsu.edu\\n  \\n  > Instead of making this a \"free-er medium\" by allowing posters to\\n  > \"protect themselves\" with anonymity, simply require that all\\n  > posters be prepared to discuss their sources of information and\\n  > take the heat for unsubstantiated dribble.  This seems to be the\\n  > way things are currently done; \\n\\n  xtkmg@trentu.ca (Kate Gregory):\\n  \\n  > In misc.kids there are three threads going on started by anonymous\\n  > posters. One was about changing jobs so as to work less hours,\\n  > job sharing and so on, from a woman who didn\\'t want anyone at her\\n  > current place of work to know she was thinking of looking for\\n  > work elsewhere. The next was from a woman who is thinking of\\n  > having a baby sometime soon and doesn\\'t want coworkers, friends,\\n  > family etc etc to know all about it, but who wants advice. The\\n  > third is about sex after parenthood -- actually this was started\\n  > by people posting in the usual way but then it was pointed out\\n  > that the anonymous posting service might let more people\\n  > participate.\\n  > \\n  > Misc.kids doesn\\'t seem to be suffering any harm from the presence\\n  > of anonymous posters; in fact it seems to have been helped by it.\\n\\n  hoey@zogwarg.etl.army.mil (Dan Hoey):\\n  \\n  > While there has never been any real security against anonymous or\\n  > forged postings on Usenet, the process has until now been\\n  > sufficiently inconvenient, error-prone, and undocumented to limit\\n  > its use by persons who have not learned the culture of the net.\\n  >\\n  > On the other hand, a recent use of the anonymous posting service\\n  > on sci.math seemed seemed to be a student asking help on a\\n  > homework problem. It has now been attributed to a teacher,\\n  > asking for an explanation of a dubious answer in his teaching\\n  > guide.  He says his news posting is broken, so he is using the\\n  > anonymous service as a mail-to-news gateway.\\n\\n  Karl Barrus <elee9sf@Menudo.UH.EDU>\\n   \\n  > Some argue that the opinions of the people who hide behind a veil\\n  > of anonymity are worthless, and that people should own up to\\n  > their thoughts.  I agree with the latter point - in an ideal\\n  > world we would all be sitting around engaging in Socratic\\n  > dialogues, freely exchanging our opinions in an effort to\\n  > learn.  But in an ideal world nobody will threaten you for your\\n  > thoughts, or ridicule you.\\n  > \\n  > But we live in a world where the people who don\\'t agree with you\\n  > may try to harm you.  Let\\'s face it, some people aren\\'t going to\\n  > agree with your opinion no matter how logically you try to\\n  > present it, or how reasoned out it may be.  This is sad since it\\n  > does restrict people from voicing their opinions.\\n\\n  red@redpoll.neoucom.edu (Richard E. Depew):\\n\\n  > The consensus seems to be that a general anonymous posting service\\n  > such as that at anon.penet.fi seems sufficiently corrosive of the\\n  > trust and civility of the net that this particular experiment\\n  > should be ended.  Perhaps the next time the question comes up we\\n  > can say: \"We tried it - we learned it does more harm than good -\\n  > and we stopped it.\" \\n\\n  From: C96@vm.urz.uni-heidelberg.de (Alexander EICHENER)\\n\\n  > anonymous posting has not created major problems aside from\\n  > angering irate people (like you?) who would rather ban\\n  > anonymous/pseudonymous posting altogether because \"real men can\\n  > stand up for what they said\" or comparable puerile arguments as\\n  > others have brought up.\\n\\n  dave@elxr.jpl.nasa.gov (Dave Hayes):\\n\\n  > What a primal example of human nature. I have three questions for\\n  > you folks. \\n  > \\n  > Do people really say different things to each other based upon\\n  > whether their identity is or isn\\'t known?\\n  > \\n  > Are people really so affected by what other people say that the\\n  > verbage is labeled \"abuse\"?\\n  > \\n  > Most importantly, on a forum that prizes itself on the freedom of\\n  > communication that it enjoys, is there really such a thing as\\n  > freedom of communication?\\n  \\n  From: terry@geovision.gvc.com (Terry McGonigal)\\n  \\n  > <sigh>...  Just how many anon services are needed?  Will\\n  > *everybody* start running one soon?  What\\'s the purpose?  Who\\n  > stands to benefit when there are N anon services, then 2*N, then\\n  > N^2, out there.  Where *has* this sudden fasination with anon\\n  > services come from?\\n  > \\n  > For better or (IMHO) worse, it looks like we\\'er gonna get stuck\\n  > with these things, and as much as I don\\'t like the idea (of\\n  > services like this becoming the norm) I don\\'t really think\\n  > there\\'s much to be done since it\\'s obvious that anyone who wants\\n  > to can set one up with a bit of work.\\n\\n  Karl_Kleinpaste@cs.cmu.edu (Karl Kleinpaste):\\n\\n  > Weak reasoning.\\n  > With freedom comes responsibility.\\n\\n  dave@elxr.jpl.nasa.gov (Dave Hayes):\\n  \\n  > Responsibility isn\\'t real if it is enforced. True responsibilty\\n  > comes with no coercion. \\n\\n_____\\n<8.6> Should anonymous posting to all groups be allowed?\\n\\n  morgan@engr.uky.edu (Wes Morgan):\\n  \\n  > I will be the first to admit that I hold some controversial\\n  > opinions; indeed, I\\'m sure that none of us are completely\\n  > orthodox in our opinions. However,  I\\'ve received *hundreds* of\\n  > anonymous email messages over the last few years; fewer than 20\\n  > of them were \"reasonable posts made with good motives.\" It\\'s \\n  > getting more and more difficult to remember why we need anonymity\\n  > at all; the abusers are (once again) lousing things up for those\\n  > who truly need the service  (or those who would put it to good\\n  > use).\\n  > \\n  > I\\'m not suggesting that we should ban anonymous servers; as I\\'ve\\n  > said, there are several situations in which anonymity is a Good\\n  > Thing (tm). \\n  > \\n  > However, the notion that anonymity\\'s shield should be\\n  > automatically extended to every Usenet discussion is ridiculous;\\n  > it opens the door to further abuse. \\n\\n  twpierce@unix.amherst.edu (Tim Pierce):\\n  \\n  > Of course, how does one determine whether a \"group\" requests the\\n  > service?  A flat majority of posters voting in favor? A positive\\n  > margin of 100 votes?  Or what?  No one speaks for a newsgroup.\\n  > \\n  > I\\'m not convinced by the arguments that an anonymous posting\\n  > service for all newsgroups is inherently a bad idea, simply\\n  > because it\\'s a diversion from the status quo. Since the status\\n  > quo previously permitted anonymous posting to *no* newsgroups,\\n  > any anonymous posting service would reject the status quo.\\n  \\n  hartman@ulogic.UUCP (Richard M. Hartman) writes:\\n  \\n  > It is facist to suggest that a newsgroup is best able to decide\\n  > whether it wants to allow anonymous postings instead of having\\n  > them forced upon them by an service administrator?\\n\\n  ogil@quads.uchicago.edu (Brian W. Ogilvie):\\n\\n  > The service provides a mechanism for forwarding mail to the\\n  > original poster. Since most Usenet readers don\\'t know John Smith\\n  > from Jane Doe except by their opinions and their address, the\\n  > effect of having an anonymous posting to which mail replies can\\n  > be directed is minimal, except for those who personally know the\\n  > poster--and ... the lack of anonymity could be serious. Any\\n  > mechanism like this is liable to abuse, but the benefits as well\\n  > as the costs must be weighed. Limiting the service to alt groups,\\n  > or specific groups, would not help those who want advice on\\n  > sensitive issues in more \\'professional\\' newsgroups.\\n\\n  From: tarl@sw.stratus.com (Tarl Neustaedter)\\n  \\n  > An additional point is that some of us find anonimity in technical\\n  > matters to be profoundly offensive; anonimity in different forums\\n  > has different meanings. If I get a phone call from someone who\\n  > won\\'t identify himself, I hang up. If I get U.S. mail with no\\n  > return address, it goes into the garbage unopened. If someone\\n  > accosts me in the street while wearing a mask, I back away -\\n  > carefully, and expecting violence. In a technical discussion,\\n  > anonimity means that the individual isn\\'t willing to associate\\n  > himself with the matter being discussed, which discredits his\\n  > utterances and makes listening to them a waste of time.\\n  >   \\n  > Anonimity leads to fun psych experiments; the literature is filled\\n  > with all the various things that people will do anonymously that\\n  > they won\\'t otherwise. Including one notorious study involving\\n  > torture that would not have passed today\\'s ethical standards. Fun\\n  > stuff, in any case.\\n  > \\n  > FINE. LEAVE US OUT OF IT.\\n\\n  From: jbuck@forney.berkeley.edu (Joe Buck)\\n\\n  > You obviously have never submitted an article to a refereed\\n  > journal, where you will receive anonymous reviews through a server\\n  > (the editor) that behaves much like the one in Finland (e.g. you \\n  > may reply and the editor will maintain the anonymity).  ...  Your\\n  > comparison of someone who wants to express him/herself on a \\n  > technical issue anonymously with a person who approaches you on a \\n  > dark street with a ski mask is just emotionally overwrought \\n  > nonsense; such posters pose no physical threat to you.\\n \\n  jik@mit.edu (J. Kamens):\\n  \\n  > It seems obvious to me that the default should be *not* to allow\\n  > anonymous postings in a newsgroup.  The Usenet has always\\n  > operated on the principle that the status quo should be kept\\n  > unless there\\'s a large number of people who want to change it.\\n  > \\n  > If someone REALLY needs to post a message anonymous in a newsgroup\\n  > in which this usually isn\\'t done, they can usually find someone\\n  > on the net to do this for them. They don\\'t need an automated\\n  > service to do it, and the automated service is by its nature\\n  > incapable of making the judgment call necessary to decide whether\\n  > a particular posting really needs to be anonymous.\\n\\n  From: twpierce@unix.amherst.edu (Tim Pierce)\\n  \\n  > For any newsgroup you name, I bet I can envision a scenario\\n  > involving a need for secrecy. If an accurate content-based\\n  > filter of each anonymous posting could be devised to screen out\\n  > those that don\\'t require secrecy, wonderful.  But it can\\'t be\\n  > done.\\n\\n  From: lhp@daimi.aau.dk (Lasse Hiller|e Petersen)\\n  \\n  > If a newsgroup wants to be noise- and nuisance-free, then it\\n  > should call for moderation. This should happen on a per-newsgroup\\n  > basis, and not as a general USENET ban on anonymous postings. Of\\n  > course one principle of moderation might be to keep out all\\n  > anonymous postings, and could be achieved automatically. It would\\n  > still be _moderation_. Personally I would prefer moderation\\n  > criteria being based on actual content.\\n\\n  David A. Clunie (dclunie@pax.tpa.com.au)\\n  \\n  > If a \"group\" doesn\\'t want to receive certain posts it should\\n  > become moderated - there are clearly defined mechanisms on\\n  > non-alt groups for this to take place. An automated moderator\\n  > excluding posts from certain (eg. anonymous) sites or individuals\\n  > could easily be established. If anyone wants to take such a\\n  > draconian approach then they are welcome to do so and good luck\\n  > to them. I doubt if I will be reading their group !\\n\\n  From: dave@frackit.UUCP (Dave Ratcliffe)\\n  \\n  > What possible need would someone have for posting anonymously to a\\n  > sci.* group? \\n  > \\n  > Sure most adults are willing to post under their own names. Why\\n  > would they want to hide behind an anonymous posting service?\\n  > Ashamed of what they have to say or just trying to rile people\\n  > without fear of being identified? \\n  > \\n  > Anonymous posting have their place in CERTAIN groups. If I or\\n  > anyone else needs to tell you what those groups are then you\\'ve\\n  > been on another planet breathing exotic gases for too long.\\n\\n  From: Karl_Kleinpaste@cs.cmu.edu\\n  \\n  > It\\'s bloody fascinating that (all?) the proponents of unimpeded\\n  > universal anon posting access can\\'t seem to find any middle\\n  > ground at all.  Why is there such a perception of\\n  > absolutism? Where does this instant gratification syndrome come\\n  > from, \"I want anon access and I want it NOW\"?  Who are the\\n  > control freaks here?\\n  \\n  From: 00acearl@leo.bsuvc.bsu.edu\\n\\n  > Remember, this is a newsgroup for posters writing about SCIENTIFIC\\n  > issues. Anonymous discussion of scientific issues leads to bad\\n  > science.\\n\\n  From: noring@netcom.com (Jon Noring)\\n  \\n  > Though many have personal philosophical arguments against\\n  > anonymous posters, their arguments have not been compelling\\n  > enough to convince me that omni-newsgroup anonymous posting\\n  > should be banned or severely restricted.  Though I cannot prove\\n  > it, it seems to me that those who do not like anonymous posting\\n  > (in principle) do so for reasons that are personal (read,\\n  > psychological discomfort) rather than for reasons related to\\n  > maintaining the \"integrity\" of Usenet.\\n  > \\n  > Remember, it is impossible to be able to ascertain all the\\n  > conceivable and legitimate motives for anonymous posting to\\n  > newsgroups one normally would not deem to be \"sensitive\". ... in\\n  > general, I fear even letting newsgroup readers vote on either\\n  > allowing or not allowing anonymous posting, since a priori they\\n  > *cannot* know all the motives of *legitimate* posters, and I do\\n  > not believe that any system should ever be instituted that would\\n  > inhibit the posting of legitimate and informative posts. \\n\\n  lestat@wixer.cactus.org (Lyle J. Mackey) writes:\\n\\n  > I personally don\\'t believe that pseudonymous postings are\\n  > appropriate in a serious discussion area.  If there is a\\n  > LEGITIMATE reason for concealing the posters\\' identity, perhaps,\\n  > but simply because they\\'re not so sure if they want their name\\n  > attached doesn\\'t qualify as LEGITIMATE in my book.  (Oh, and if\\n  > you can come up with a legitimate purpose for anonymous postings,\\n  > please, enlighten me.)\\n\\n  sderby@crick.ssctr.bcm.tmc.edu (Stuart P. Derby)\\n  \\n  > Three of our (the U.S.\\'s) founding fathers, Madison, Hamilton, and\\n  > Jay, seemed to think \"anonymous posting\" was OK. The Federalist\\n  > papers were originally printed in New York newspapers with\\n  > authorship attributed to \"Publius\". I wonder if you would find\\n  > their purpose \"LEGITIMATE\"?\\n\\n\\n_____\\n<8.7> What should system operators do with anonymous postings?\\n\\n  From: emcguire@intellection.com (Ed McGuire)\\n  \\n  > I would like to know how to junk all articles posted by the\\n  > anonymous service currently being discussed.  Ideally I would\\n  > actually tell my feed site not to feed me articles posted by the\\n  > anonymous service. Assuming the C News Performance Release, what\\n  > is a simple way to accomplish this? Or where should I look to\\n  > learn how to do it myself?\\n  \\n  From: dclunie@pax.tpa.com.au (David Clunie)\\n  \\n  > That\\'s a bit draconian isn\\'t it ? Have your users unanimously\\n  > decided that they would like you to do this or have you decided\\n  > for them ?\\n  \\n  From: emcguire@intellection.com (Ed McGuire)\\n  \\n  > Good question.  Nobody has decided. I have no definite plan to do\\n  > this, just wanted the technical data.\\n\\n  Carl Kleinpaste (Karl_Kleinpaste@godiva.nectar.cs.cmu.edu):\\n  \\n  > ...were I to be in the position of offering such a service again,\\n  > my promises of protection of anonymity would be limited.  Not on\\n  > the basis of personal opinion of what gets posted, but on the\\n  > basis of postings which disrupt the smooth operation of the\\n  > Usenet. The most obvious and direct recourse would be to `out\\'\\n  > the abusive individual. Less drastic possibilities exist -- the\\n  > software supports a \"fire extinguisher\" by which individuals can\\n  > be prevented from posting.\\n\\n  john@iastate.edu (John Hascall):\\n  \\n  > Since when is Usenet a democracy? If someone wants to run an\\n  > anonymous service, that\\'s their business. If you want to put\\n  > that host in your killfile, that\\'s your business. If a newsadmin\\n  > wants to blanket-drop all postings from that site, that\\'s between\\n  > them and the other people at that site. If everyone ignores a\\n  > service, the service effectively doesn\\'t exist.\\n\\n  From: jik@athena.mit.edu (Jonathan I. Kamens)\\n  \\n  > NNTP servers that allow posting from anyone are NOT \"a service to\\n  > the net.\"  They do the net a disservice.\\n  > \\n  > Terminal servers have the same problems as open NNTP servers --\\n  > they allow people who want to do illegal/immoral/unethical things\\n  > on the Internet to do so without accountability.\\n  > \\n  > There are, by now, public access sites all over this country, if\\n  > not all over the world, that allow very inexpensive access to the\\n  > Usenet and the Internet.  There is no reason for NNTP servers to\\n  > allow anyone to post messages through them, and there is no\\n  > reason for terminal servers to allow anyone to connect to them\\n  > and then make outbound connections through them.  Perhaps when it\\n  > was harder to get to the Internet or the Usenet, open servers\\n  > could be justified, but not now.\\n\\n  jbotz@mtholyoke.edu (Jurgen Botz): \\n  \\n  > I think that what ... these points show clearly is that an\\n  > anonymous posting service has a great deal of responsibility,\\n  > both towards its clients and towards the Net as a whole.  Such a\\n  > service should (IMHO) have a set of well-defined rules and a\\n  > contract that its clients should sign, under the terms of which\\n  > they are assured anonymity.\\n\\n  From: an8785@anon.penet.fi\\n  \\n  > Is the problem that some are used to \"punishing\" posters who are\\n  > upsetting in some vague way by complaining to the (usually\\n  > acquiescent) sysadmin or organizations that the poster belongs\\n  > to? That surely is the most gutless approach to solving\\n  > problems, but my experience on the net shows that the same users\\n  > who vilify anonymous postings are the first to write obsessively\\n  > detailed grievances to the poster\\'s supervisor when his or her\\n  > tranquility is disturbed by some \"intrusive\" or subversive post\\n  > or another.\\n  > \\n  > Anonymous postings prevent just this kind of intimidation.\\n\\n  From: gandalf@cyberspace.org (Eric Schilling)\\n  \\n  > The main point I would like to make here is that while we can go\\n  > through and revise the news sw to \"reject anon posts to technical\\n  > newsgroups\" or some such thing, I think the attempt will prove\\n  > futile. Each attempt to modify news can result in a changed\\n  > approach by anon service providers to thwart the change.  I think\\n  > this would be pointless.\\n\\n  From: julf@penet.fi (Johan Helsingius)\\n\\n  > I have tried to stay out of this discussion, and see where the\\n  > discussion leads. But now I rally feel like I have to speak up.\\n  > ... I have repeatedly made clear ... that I *do* block users if\\n  > they continue their abuse after having been warned. In many cases\\n  > the users have taken heed of the warning and stopped, and in some\\n  > cases even apologized in public. And when the warning has not had\\n  > the desired effect, I have blocked a number of users. I have also\\n  > blocked access to groups where the readership has taken a vote to\\n  > ban anonymous postings, although I feel changing the newsgroup\\n  > status to moderated is the only permanent solution for newsgroups\\n  > that want to \"formalize\" discussion.\\n \\n  red@redpoll.neoucom.edu (Richard E. Depew)\\n\\n  > Does this ... mean that you are volunteering to issue a Request \\n  > For Discussion to ban anonymous postings or to moderate each of \\n  > the 4000+ newsgroups that your server can reach?  I don\\'t think \\n  > so, but this illustrates the trouble that your server is causing!\\n  >\\n  > please listen to the consensus of the news administrators in this \\n  > group:  any newsgroup should be consulted *before* letting your \\n  > server post messages to that group.\\n \\n  From: C96@vm.urz.uni-heidelberg.de (Alexander EICHENER)\\n  \\n  > There is no pompous \"consensus of *the* news administrators\" \\n  > here - maybe you would like to invent one. There is a sizeable \\n  > number of people who are concerned about the possible (and, to a \\n  > minor extent, about the actual abuse of the server as it is \\n  > configured now). These concerns are respectable; Johan is dealing\\n  > with them. ... There are some (few) who rage with foam before \\n  > their mouth and condemn the service altogether. And a number who\\n  > defend it, pointing out, like Kate Gregory, that even a group \\n  > like misc.kids. can benefit from pseudonymous postings.\\n\\n  From: julf@penet.fi (Johan Helsingius)\\n\\n  > I have answered a lot of personal mail related to server abuse,\\n  > and as a result of that, blocked a number of abusive users. I\\n  > have also withdrawn the service from several newsgroups where the\\n  > users have taken a vote on the issue. I have not made any\\n  > comments on news.admin.policy, partly because the\\n  > newly-implemented password feature (as a emergency measure\\n  > against a security hole) has kept me really busy answering user\\n  > queries the last two weeks, and partly because I feel it is not\\n  > for me to justify the service, but for the users. The problem\\n  > with news.admin.policy is that the readership is rather elective,\\n  > representing people whith a strong interest in centralised\\n  > control.\\n\\n  From: hartman@ulogic.UUCP (Richard M. Hartman)\\n  \\n  > This seems to be a rather bigoted attitude.  I would consider that\\n  > this group is for anyone who wishes to discuss how the net should\\n  > be controlled.  Saying that we only have an interest in\\n  > \"centralized control\" is a clear indication of bias.  You are\\n  > perfectly welcome to join in the discussions here to promote your\\n  > views on control.\\n\\n  jbuck@ohm.berkeley.edu\\n  \\n  > This whole debate is a lot of \"sound and fury signifying nothing\"\\n  > because, even if you all decide to ban anonymous posting servers,\\n  > it is not enforceable.  The only people who conceivably could\\n  > enforce retrictions are those that control the international\\n  > links.\\n  > \\n  > Policy changes should be made by cooperation, not by attempting\\n  > to dictate. ...you need to persuade those who run the services\\n  > to act like this through friendly persuasion, not by trying to\\n  > beat them over the head with a stick (especially a stick you\\n  > don\\'t even have).\\n\\n  spp@zabriskie.berkeley.edu (Steve Pope)\\n  \\n  > I am finding this bias against pseudonymity boring.  Our friend\\n  > posting through penet has a point.  The old guard would like to\\n  > keep their network the way it always has been... and this new\\n  > thing, these pseudonymous servers, cuts into their turf.  So they\\n  > whine and bitch about it, and every time there\\'s the slightest\\n  > abuse (such as somebody\\'s .sig being too long),  they try to\\n  > parlay that into an argument against pseudonymity.\\n  > \\n  > I\\'ll go on record as saying: three cheers for the admins at anon\\n  > servers like penet, pax, and n7kbt... and for all the  access\\n  > service providers who are willing to preserve their clients\\n  > privacy.\\n  > \\n  > And a pox on those who try to defeat and restrict pseudonymity.\\n  \\n  mimir@stein.u.washington.edu (Al Billings)\\n  \\n  > I wouldn\\'t help people get rid of anon postings as a group. If you\\n  > don\\'t like what someone says, then you put THAT anon address in\\n  > your kill file, not all of them. Of course, if and when I get an\\n  > anon site going, I\\'m just going to assign fake names like\\n  > \"jsmith\" instead of \"anon5564\" to avoid most of the hassles.\\n  > You\\'ll never know it is anonymous will you?\\n\\n  From: anne@alcor.concordia.ca (Anne Bennett)\\n  \\n  > I must admit to some astonishment at this argument.  I see the\\n  > value of anonymous postings under some circumstances, yet believe\\n  > strongly that these should be identified as such, so that people\\n  > who do not wish to read material from people who won\\'t identify\\n  > themselves, don\\'t have to.\\n  > \\n  > I fail to see what good you would be accomplishing, and indeed\\n  > surmise that you will cause many people inconvenience and\\n  > annoyance, by hiding the anonymity of postings from your\\n  > anonymous site.  Would you care to justify where the hell you get\\n  > the gall to try to prevent people from effectively filtering\\n  > their news as they see fit?\\n  \\n  From: dclunie@pax.tpa.com.au (David Clunie)\\n  \\n  > I thought I was out of reach here in Australia too. Unfortunately\\n  > one of the US sites involved in the US/Aus feed complained to the\\n  > Australian Academic Reasearch Network through whom my site is\\n  > connected, not about anything in particular, just the concept of\\n  > anonymous mail having no redeeming features and consuming a\\n  > narrow bandwidth link (with which I can\\'t argue) and that was\\n  > that ... stop the service or face disconnection.\\n  >\\n  > I consider the demise of [my] service to have been rather\\n  > unfortunate, and I wish the Finnish remailer luck ! It is a pity\\n  > that there are very few if any similar services provided with in\\n  > the US. I guess that\\'s the benefit of having a constitution that\\n  > guarantees one freedom of speech and a legal and political system\\n  > that conspires to subvert it in the name of the public good.\\n\\n\\n_____\\n<8.8> What is going on with anon.penet.fi run by J. Helsingius?\\n\\n\\n  From: Karl_Kleinpaste@cs.cmu.edu\\n  \\n  > Funny, how beating the rest of the Usenet over the head with a\\n  > stick is OK if it\\'s anon.penet.fi and universal anon access.  But\\n  > somehow people on the other side of the same equation (not even\\n  > arguing to shut it off entirely, but rather just to have some\\n  > control applied to the abuses that manifest themselves) aren\\'t\\n  > allowed to do that.\\n  > \\n  > I have written to Johan several times in the last couple of\\n  > weeks.  He used to reply to me quite readily. After all, I was\\n  > the source of the software as originally delivered to him -- he\\n  > used to be downright _prompt_ about replying to me. Funny, now\\n  > he\\'s being an impolite bastard who doesn\\'t answer mail _at_all_,\\n  > even when it consists of really very civil queries.\\n  \\n  From: julf@penet.fi (Johan Helsingius)\\n  \\n  > In your mail you told me you sent me one or more messages on Feb.\\n  > 8th. Feb 7th and 8th the server was down, and the flood of mail\\n  > that resulted from the server coming up again crashed my own mail\\n  > host. The problem was aggregated by an abusive user sending\\n  > thousands of messages to another user, filling up that users\\n  > mailbox. The bounce messages ended up in my mailbox, overflowing\\n  > my local disk as well.\\n  > \\n  > I can only suppose that your message got lost in that hassle, as\\n  > I have tried to answer as much as possible of the anon-related\\n  > messages I get, from routine mis-addessed messages to complaints\\n  > about the service. On the average I spend 4-5 hours per day\\n  > answering anon-related messages.\\n  \\n  From: Karl_Kleinpaste@cs.cmu.edu\\n  \\n  > Why is it that everybody else has to put up with the impoliteness\\n  > and insensitivity of the misuse of anon.penet.fi?  Whose\\n  > definitions of \"polite\" and \"sense\" apply, and why? Why is\\n  > universal anon access considered to be within the realm of this\\n  > fuzzy concept of \"politeness\" in the first place?\\n  > \\n  > I think Johan has long since crossed the line into being a rude\\n  > bastard, and I told him so in private mail a little while ago.\\n  > \\n  > At this point, I deeply regret [a] having created an anonymous\\n  > system supporting >1 newsgroup and [b] having given the code to\\n  > Johan.  I didn\\'t copyright it, but I thought that some concept of\\n  > politeness and good sense might follow it to new\\n  > homes.  Interesting that Johan\\'s ideas of politeness and good\\n  > sense seem to have nearly no interesection with mine. I could\\n  > even cope with universal anon access _if_ Johan would be willing\\n  > to engage in abuse control, but somehow that seems to be outside\\n  > the range of reality...\\n\\n  From: julf@penet.fi (Johan Helsingius)\\n  \\n  > There is no way for me to convey how sad and upset your message\\n  > made me. I do, to some extent, understand your feelings, but it\\n  > still feels really bad. Running the server requires getting used\\n  > to a lot of flames, but mindlessly abusive hate mail is so much\\n  > easier to deal with than something like this, as I do respect and\\n  > value your views and opinions to a high degree. No, I\\'m not\\n  > asking for sympathy, I just wanted you to know that I am really\\n  > giving your views quite a lot of weight.\\n  > \\n  > When I asked for the software, I was actually only going to\\n  > provide the service to scandinavian users. But a lot of people\\n  > requested that I keep the service open to the international\\n  > community. I now realize that I ought to have contacted you at\\n  > that point to ask how you feel about me using your stuff in such\\n  > a context. Again, I really want to apologise. And I will replace\\n  > the remaining few pieces of code thet still stem from your\\n  > system. Unfortunately there is no way to remove the ideas and\\n  > structure I got from you.\\n  > \\n  > Again, I am really sorry that the results of your work ended up\\n  > being used in a way that you don\\'t approve of. And I will be\\n  > giving a lot of hard thought to the possibility of shutting down\\n  > the server alltogether.\\n  \\n  From: Karl_Kleinpaste@cs.cmu.edu\\n  \\n  > I think I\\'m feeling especially rude and impolite.  If it\\'s good\\n  > for Johan, it\\'s good for me.  After all, he didn\\'t ask the\\n  > greater Usenet whether universal anon access was a good idea; he\\n  > just did it. ... Yes, I\\'m a seriously rude pain in the ass now,\\n  > and I think I\\'ll arm the Usenet Death Penalty, slightly modified,\\n  > not for strategic whole-site attack, but tactical assault, just\\n  > \"an[0-9]*@anon.penet.fi\" destruction. Only outside alt.*, too,\\n  > let\\'s say.\\n  > \\n  > To parrot this line...people have been doing things like the UDP\\n  > (that is, cancelling others\\' postings) for years, no one could\\n  > ever stop them, and it\\'s only politeness and good sense that has\\n  > prevented them up to now.\\n  > \\n  > In fact, I have 8 people who have expressed privately the desire\\n  > and ability to arm the UDP.\\n  > \\n  > ...\\n  > \\n  > PS- No, in fact there are not 8 newsadmins ready to arm the\\n  > UDP.  It would be amusing to know how many people gulped hard\\n  > when they read that, though.  I don\\'t see it as any different\\n  > from Johan\\'s configuration.\\n  > \\n  > PPS- Now that I\\'ve calmed some fears by the above PS...  There\\n  > are 2 newsadmins ready to arm the UDP.  They\\'ve asked for my\\n  > code.  I haven\\'t sent it yet. Only one site would be necessary\\n  > to bring anon.penet.fi to a screeching halt.  Anyone can\\n  > implement the UDP on their own, if they care to.  Politeness and\\n  > good sense prevents them from doing so. I wonder how long before\\n  > one form of impoliteness brings on another form.\\n\\n  From: julf@penet.fi (Johan Helsingius)\\n  \\n  > It would be trivially easy to bring anon.penet.fi to a screeching\\n  > halt. In fact it has happened a couple of times already. But as\\n  > we are talking threats here, let me make one as well. A very\\n  > simple one. If somebody uses something like the UDP or\\n  > maliciously brings down anon.penet.fi by some other means, it\\n  > will stay down. But I will let the users know why. And name the\\n  > person who did it. OK? As somebody said on this thread: \"You have\\n  > to take personal responsibility for your actions\", right?\\n  \\n  From: avs20@ccc.amdahl.com (  134 Atul V Salgaonkar)\\n  \\n  > I am very grateful and appreciative of this service , courtesey of\\n  > penet.fi.  Some important questions about my personal\\n  > life/career/job were resolved due to kind help of other people\\n  > who had been thru similar situations. In return, I have also\\n  > replied to anon postings where I thought I could make a positive\\n  > contribution.\\n  > \\n  > In general, anon service is a great, in my opinion, although like\\n  > any tool some people will not use it responsibly. I suggest that\\n  > it should be kept alive. Wasting bandwidth is less important than\\n  > saving lives, I think.\\n  \\n  From: us273532@mmm.serc.3m.com (Elisa J. Collins)\\n  \\n  > I have been informed that the anonymous posting service to many\\n  > newsgroups has been turned off as a result of discussions in this\\n  > newsgroup over people abusing it.\\n  > \\n  > I had been posting to a nontechnical misc newsgroup about an\\n  > intimate topic for which I felt I required privacy. I have\\n  > received immeasurable help from the people in that newsgroup, and\\n  > I have never used anonymity to behave in an abusive, immature, or\\n  > unethical fashion toward anyone.\\n  > \\n  > Please, folks, believe me, I *need* this service.  Please\\n  > consider my point of view and permit admin@anon.penet.fi to turn\\n  > the service back on...\\n  > \\n  > Thank you.\\n\\n* * *\\n\\nSEE ALSO\\n========\\n\\nPart 1 (first file)\\n------\\n\\n<1.1> What is `identity\\' on the internet?\\n<1.2> Why is identity (un)important on the internet?\\n<1.3> How does my email address (not) identify me and my background?\\n<1.4> How can I find out more about somebody from their email address?\\n<1.5> Why is identification (un)stable on the internet? \\n<1.6> What is the future of identification on the internet?\\n\\n<2.1> What is `privacy\\' on the internet?\\n<2.2> Why is privacy (un)important on the internet?\\n<2.3> How (in)secure are internet networks?\\n<2.4> How (in)secure is my account?\\n<2.5> How (in)secure are my files and directories?\\n<2.6> How (in)secure is X Windows?\\n<2.7> How (in)secure is my email?\\n<2.8> How am I (not) liable for my email and postings?\\n<2.9> How do I provide more/less information to others on my identity?\\n<2.10> Who is my sysadmin?  What does s/he know about me?\\n<2.11> Why is privacy (un)stable on the internet?\\n<2.12> What is the future of privacy on the internet?\\n\\n<3.1> What is `anonymity\\' on the internet?\\n<3.2> Why is `anonymity\\' (un)important on the internet?\\n<3.3> How can anonymity be protected on the internet?\\n<3.4> What is `anonymous mail\\'?\\n<3.5> What is `anonymous posting\\'?\\n<3.6> Why is anonymity (un)stable on the internet?\\n<3.7> What is the future of anonymity on the internet?\\n\\nPart 2 (previous file)\\n------\\n\\n<4.1> What UNIX programs are related to privacy?\\n<4.2> How can I learn about or use cryptography?\\n<4.3> What is the cypherpunks mailing list?\\n<4.4> What are some privacy-related newsgroups?  FAQs?\\n<4.5> What is internet Privacy Enhanced Mail (PEM)?\\n<4.6> What are other Request For Comments (RFCs) related to privacy?\\n<4.7> How can I run an anonymous remailer?\\n<4.8> What are references on privacy in email?\\n<4.9> What are some email, Usenet, and internet use policies?\\n<4.10> What is the MIT ``CROSSLINK\\'\\' anonymous message TV program?\\n\\n<5.1> What is ``digital cash\\'\\'?\\n<5.2> What is a ``hacker\\'\\' or ``cracker\\'\\'?\\n<5.3> What is a ``cypherpunk\\'\\'?\\n<5.4> What is `steganography\\' and anonymous pools?\\n<5.5> What is `security through obscurity\\'?\\n<5.6> What are `identity daemons\\'?\\n<5.7> What standards are needed to guard electronic privacy?\\n\\n<6.1> What is the Electronic Frontier Foundation (EFF)?\\n<6.2> Who are Computer Professionals for Social Responsibility (CPSR)?\\n<6.3> What was `Operation Sun Devil\\' and the Steve Jackson Game case?\\n<6.4> What is Integrated Services Digital Network (ISDN)?\\n<6.5> What is the National Research and Education Network (NREN)?\\n<6.6> What is the FBI\\'s proposed Digital Telephony Act?\\n<6.7> What other U.S. legislation is related to privacy on networks?\\n<6.8> What are references on rights in cyberspace?\\n<6.9> What is the Computers and Academic Freedom (CAF) archive?\\n\\n<7.1> What is the background behind the Internet?\\n<7.2> How is Internet `anarchy\\' like the English language?\\n<7.3> Most Wanted list\\n<7.4> Change history\\n\\n\\n* * *\\n\\nThis is Part 3 of the Privacy & Anonymity FAQ, obtained via anonymous\\n  FTP to pit-manager@mit.edu:/pub/usenet/news.answers/net-privacy/ or \\n  newsgroups news.answers, sci.answers, alt.answers every 21 days.\\nWritten by L. Detweiler <ld231782@longs.lance.colostate.edu>.\\nAll rights reserved.\\n\\n\\n',\n",
              " 'From: mkagalen@lynx.dac.northeastern.edu (michael kagalenko)\\nSubject: Some thoughts on Clipper proposal \\nOrganization: Division of Academic Computing, Northeastern University, Boston, MA. 02115 USA\\nLines: 25\\n\\n\\nI envision incorporation of new standart into\\nvarious communication systems, thus making it prevalent on the market & \\ntherefore cheap. The way to do that may be detaching crypto chip from \\ncommunication equipment. It seems logical to provide Clipper chip \\nto the end-user not as a part of phone, fax, modem & like but in the\\nform of smart-card compatible with various telecomm. products. Banks \\nwill encourage extensive use of new cards to make transactions by phone.\\nNatural step will be to cross-reference this card to the person in the \\ngovernment databases - or else this new version of \"wiretap proposal\" \\nmake no sence at all; one wish to eavesdrop (spell.) on the particular \\nperson, not on the particular modem or phone.\\n \\nAs a side note, I disagree with one poster, who said he won\\'t care about\\nability of the government to eavesdrop, since they can do that now \\nanyway. Clipper will take away electronic survelliance from citizens, \\nmaking it monopoly of the government. May be, we can find examples when\\ninterceptions made by (unauthorised) people uncovered crimes of \\nstate officials ?\\n\\n\\n-- \\n--------------------------------------------------------------------------------\\n      For PGP2.1 public key finger mkagalen@lynx.dac.northeastern.edu\\n--------------------------------------------------------------------------------\\n',\n",
              " \"From: bontchev@fbihh.informatik.uni-hamburg.de (Vesselin Bontchev)\\nSubject: Re: text of White House announcement and Q&As on clipper chip encryption\\nReply-To: bontchev@fbihh.informatik.uni-hamburg.de\\nOrganization: Virus Test Center, University of Hamburg\\nLines: 19\\n\\nmathew <mathew@mantis.co.uk> writes:\\n\\n> bena@dec05.cs.monash.edu.au (Ben Aveling) writes:\\n> > Don't forget, you are in the country that wouldn't let the Russians\\n> > buy Apple II's because of security concerns.\\n\\n> That's nothing.  They wouldn't let the British buy Inmos Transputer systems\\n> because of security concerns.  And we designed the damn things!\\n\\nFunny, we had plenty of them in Bulgaria, regardless of the embargo...\\n:-) So much for export controls...\\n\\nRegards,\\nVesselin\\n-- \\nVesselin Vladimirov Bontchev          Virus Test Center, University of Hamburg\\nTel.:+49-40-54715-224, Fax: +49-40-54715-226      Fachbereich Informatik - AGN\\n< PGP 2.2 public key available on request. > Vogt-Koelln-Strasse 30, rm. 107 C\\ne-mail: bontchev@fbihh.informatik.uni-hamburg.de    D-2000 Hamburg 54, Germany\\n\",\n",
              " \"From: agallagh@slate.mines.colorado.edu (GALLAGHER ANDREA J )\\nSubject: XAllocColor fails to return nearest match\\nReply-To: ngorelic@speclab.cr.usgs.gov\\nOrganization: Colorado School of Mines\\nLines: 23\\n\\n[posted for a friend]\\n\\nOkay, I looked through the FAQs and didn't see this, but I know its\\ncome up before...\\n\\nXAllocColor is supposed to do the following in order:\\n    Try to find an exact match read-only color cell. (within hardware limits)\\n    Try to allocate a read-only colorcell and set it to match.\\n\\tand when all else fails, \\n    Return the colorcell with the best match from the read-only colors \\n    already allocated in the colormap.\\n\\nThis sounds good in theory.  It doesn't seem to work this way\\nthough.  If there is no exact match already in the colormap, and \\nno unallocated cells, then XAllocColor fails, even when it has \\nalready allocated several other cells already, and there are dozens \\nof read-only cells already in the colormap.\\n\\nIs this a bug?  A feature?  A misunderstanding on my part?\\n\\nAny help appreciated,\\n\\nNoel (ngorelic@speclab.cr.usgs.gov)\\n\",\n",
              " 'From: imj1@cunixa.cc.columbia.edu (Imad M Jureidini)\\nSubject: Re: Problems with Toshiba 3401 CDROM\\nNntp-Posting-Host: cunixa.cc.columbia.edu\\nReply-To: imj1@cunixa.cc.columbia.edu (Imad M Jureidini)\\nOrganization: Columbia University\\nLines: 22\\n\\nIn article <1r25nt$oa5@ratatosk.uninett.no> hktth@nho.hydro.com writes:\\n>In article <1993Apr20.191255.10115@news.columbia.edu>, imj1@cunixa.cc.columbia.edu (Imad M Jureidini) writes:\\n>|> Hi!\\n>|> \\tI recently purchased the Toshiba 3401 CDROM.  I own an Adaptec 1542B\\n>|> SCSI card, and I have so far failed to get the CDROM to work under DOS.  It\\n>\\n>One of the ASPI-drivers (I think it\\'s the ASPICD) supports a /NORST\\n>paramter, which means to not reset the SCSI bus when it loads. This\\n>fixed the problem a friend of mine was having with his adaptec+tosh \\n>3401.\\n>\\n>Regards,\\n>\\n>  -Terje\\nIt worked!!!\\nThank you very much!\\n\\n\\n*******************************************************************************\\n* imj1@cunixa.cc.columbia.edu\\t\\t\\t    Imad \"Hexabyte\" Jureidini *\\n*     The Ultimate Knight, Grand Priest of the Secrets of the Undefined.      *\\n*******************************************************************************\\n',\n",
              " 'From: markh@wimsey.bc.ca (Mark C. Henderson)\\nSubject: Re: Source of random bits on a Unix workstation\\nOrganization: Wimsey Information Services\\nLines: 42\\n\\nIn article <1qs6cg$7cq@msuinfo.cl.msu.edu> mrr@scss3.cl.msu.edu (Mark Riordan) writes:\\n>A few more sources are statistics on your filesystems (easily\\n>and quickly obtained) and the output from the \"rusage\" system\\n>call.  \\n>\\n>You can also exec a finger to one or more favorite heavily-used\\n>systems, though this can take several seconds.\\n>\\n>cf. the source code to RIPEM on ripem.msu.edu.\\n>\\n>Mark R.\\n\\nOther alternatives include output of vmstat, iostat, pstat and friends\\nwith various flags, or even better crash. \\n\\ne.g. on an RS/6000 (AIX 3.2) you can get lots of relatively\\nunpredicatble data out of crash. (the output from the following script \\nusually gives about 600k of goo on a moderately busy system.)\\n\\n#!/bin/sh\\ncrash <<!\\nproc -\\ntty\\nstack\\npcb\\ncallout\\nvfs -\\nsocket\\nvnode\\ninode -\\nmbuf\\nfile\\nmst\\nbuffer\\nle\\n!\\n\\n-- \\nMark Henderson\\nmarkh@wimsey.bc.ca\\nRIPEM key available by key server/finger/E-mail\\n  MD5OfPublicKey: F1F5F0C3984CBEAF3889ADAFA2437433\\n',\n",
              " \"From: makey@VisiCom.COM (Jeff Makey)\\nSubject: Re: Once tapped, your code is no good any more.\\nDistribution: na\\nOrganization: VisiCom Laboratories, Inc., San Diego, California\\nLines: 15\\n\\nIn article <C5so84.Hxv@demon.co.uk> Graham Toal <gtoal@gtoal.com> writes:\\n>I am *completely* baffled by why Dorothy Denning has chosen\\n>to throw away her academic respectability like this.\\n\\nShe hasn't.  Dorothy Denning has spent many years earning the\\nprofessional respect of her colleagues, and something won in this\\nmanner is not easily lost.  Her support of the clipper -- no matter\\nhow unpopular that position may be -- serves far more to enhance the\\nclipper's respectability than to diminish her own.\\n\\n                           :: Jeff Makey\\n\\nDepartment of Tautological Pleonasms and Superfluous Redundancies Department\\n    Disclaimer: All opinions are strictly those of the author.\\n    Domain: makey@VisiCom.COM    UUCP: nosc!visicom!makey\\n\",\n",
              " 'From: scanlonm@rimail.interlan.com (Michael Scanlon)\\nSubject: 17\" monitor with RGB/sync to VGA ??\\nKeywords: RGB VGA 17\"monitor\\nLines: 13\\nOrganization: none\\nDistribution: usa\\n\\nI don\\'t know if this is an obvious question, but can any of the current \\nbatch of windows accelerator cards (diamond etc) be used to drive a monitor \\nwhich has RGB and horizontal and vertical sync ( 5 BNC jacks altogether) \\nconnectors out the back??  I might be able to get ahold of a Raster \\nTechnologies 17\" monitor (1510 ??)cheap and I was wondering if it was \\npossible to connect it via an adapter (RGB to vga ??) to my Gateway, would \\nI need different drivers etc.  \\n\\n\\nThanks\\n\\nMike Scanlon \\nplease reply to scanlon@interlan.com\\n',\n",
              " \"From: mbell@techbook.techbook.com (Max Bell)\\nSubject: WANTED: Info on Dedicated X Server Kernel for Sun3/100 Series\\nOrganization: TECHbooks Public Access\\nLines: 9\\nDistribution: na\\nNNTP-Posting-Host: techbook.techbook.com\\nSummary: If you know where to find it, please send email.\\nKeywords: sun kernel x server\\n\\nIf anyone has any information about the existence or location of a\\ndedicated X server kernel for the Sun3, please send email.  I am\\ntrying to put some neglected Sun3s to good use but they don't have\\nenough memory for SunOS 4.1.1.  Thanks in advance for any help.\\n-- \\n\\n /\\\\  /\\\\/  Max Bell                    | I used to think I'd emmigrate to escape\\n/  \\\\/ /\\\\  mbell@techbook.com          | the tyrants, but now I think I'll stay\\n~~~~~~~~~ mbell@cie.uoregon.edu\\t      | and make them leave instead.\\n\",\n",
              " 'Subject: [ANNOUNCE] Ivan Sutherland to speak at Harvard\\nFrom: eekim@husc11.harvard.edu (Eugene Kim)\\nDistribution: harvard\\nOrganization: Harvard University Science Center\\nNntp-Posting-Host: husc11.harvard.edu\\nLines: 21\\n\\nThe Harvard Computer Society is pleased to announce its third lecture of\\nthe spring.  Ivan Sutherland, the father of computer graphics and an\\ninnovator in microprocessing, will be speaking at Harvard University on\\nTuesday, April 20, 1993, at 4:00 pm in Aiken Computations building, room\\n101.  The title of his talk is \"Logical Effort and the Conflict over the\\nControl of Information.\"\\n\\nCookies and tea will be served at 3:30 pm in the Aiken Lobby.  Admissions\\nis free, and all are welcome.\\n\\nAiken is located north of the Science Center near the Law School.\\n\\nFor more information, send e-mail to eekim@husc.harvard.edu.\\n\\nThe lecture will be videotaped, and a tape will be made available.\\n\\nThanks.\\n\\n-- \\nEugene Kim \\'96                     |   \"Give me a place to stand, and I will\\nINTERNET: eekim@husc.harvard.edu   |    move the earth.\"        --Archimedes\\n']"
            ]
          },
          "metadata": {},
          "execution_count": 10
        }
      ]
    },
    {
      "cell_type": "code",
      "source": [
        "print(list(newsgroups_train.target_names))"
      ],
      "metadata": {
        "colab": {
          "base_uri": "https://localhost:8080/"
        },
        "id": "610HjivKedJ1",
        "outputId": "ac8b8984-85dc-442a-cbba-403ee508c836"
      },
      "execution_count": 11,
      "outputs": [
        {
          "output_type": "stream",
          "name": "stdout",
          "text": [
            "['comp.graphics', 'comp.sys.ibm.pc.hardware', 'comp.windows.x', 'sci.crypt']\n"
          ]
        }
      ]
    },
    {
      "cell_type": "code",
      "source": [
        "num_classes = len(np.unique(newsgroups_train.target))\n",
        "num_classes"
      ],
      "metadata": {
        "colab": {
          "base_uri": "https://localhost:8080/"
        },
        "id": "HLBGBg5YcUzh",
        "outputId": "57343e95-f1bf-4dac-cc4d-93e64e940c3e"
      },
      "execution_count": 12,
      "outputs": [
        {
          "output_type": "execute_result",
          "data": {
            "text/plain": [
              "4"
            ]
          },
          "metadata": {},
          "execution_count": 12
        }
      ]
    },
    {
      "cell_type": "code",
      "source": [
        "label2int = {}\n",
        "for label in list(newsgroups_train.target_names):\n",
        "    label2int[label] = len(label2int)"
      ],
      "metadata": {
        "id": "c_hT9nQkiIK-"
      },
      "execution_count": 13,
      "outputs": []
    },
    {
      "cell_type": "code",
      "source": [
        "label2int"
      ],
      "metadata": {
        "colab": {
          "base_uri": "https://localhost:8080/"
        },
        "id": "046UPgYIiSJ9",
        "outputId": "527c71e3-35c6-460d-b0d3-c3861c637053"
      },
      "execution_count": 14,
      "outputs": [
        {
          "output_type": "execute_result",
          "data": {
            "text/plain": [
              "{'comp.graphics': 0,\n",
              " 'comp.sys.ibm.pc.hardware': 1,\n",
              " 'comp.windows.x': 2,\n",
              " 'sci.crypt': 3}"
            ]
          },
          "metadata": {},
          "execution_count": 14
        }
      ]
    },
    {
      "cell_type": "code",
      "source": [
        "X_train,y_train = newsgroups_train.data,newsgroups_train.target\n",
        "X_test,y_test = newsgroups_test.data,newsgroups_test.target"
      ],
      "metadata": {
        "id": "cImFNJNfegFF"
      },
      "execution_count": 15,
      "outputs": []
    },
    {
      "cell_type": "code",
      "source": [
        "len(X_train)"
      ],
      "metadata": {
        "colab": {
          "base_uri": "https://localhost:8080/"
        },
        "id": "CiGhZvqgjiLf",
        "outputId": "97e528f1-c056-4cb5-9186-139ef7257811"
      },
      "execution_count": 16,
      "outputs": [
        {
          "output_type": "execute_result",
          "data": {
            "text/plain": [
              "2362"
            ]
          },
          "metadata": {},
          "execution_count": 16
        }
      ]
    },
    {
      "cell_type": "code",
      "source": [
        "len(y_train)"
      ],
      "metadata": {
        "colab": {
          "base_uri": "https://localhost:8080/"
        },
        "id": "B3DUlYUBjnFX",
        "outputId": "31611137-bbaa-4f71-8722-a3b4bcb4dcf8"
      },
      "execution_count": 17,
      "outputs": [
        {
          "output_type": "execute_result",
          "data": {
            "text/plain": [
              "2362"
            ]
          },
          "metadata": {},
          "execution_count": 17
        }
      ]
    },
    {
      "cell_type": "code",
      "source": [
        "word2index = {'OOV':0}\n",
        "for i in range(len(X_train)):\n",
        "    for word in X_train[i].split():\n",
        "        if word not in word2index:\n",
        "            word2index[word] = len(word2index)"
      ],
      "metadata": {
        "id": "6b1skOF7fr8j"
      },
      "execution_count": 18,
      "outputs": []
    },
    {
      "cell_type": "code",
      "source": [
        "vocab_size=len(word2index)"
      ],
      "metadata": {
        "id": "g4dh8g0Kgijx"
      },
      "execution_count": 19,
      "outputs": []
    },
    {
      "cell_type": "code",
      "source": [
        "qt_palavras = [0]*10000\n",
        "for i in range(len(X_train)):\n",
        "    num_sentences = 0\n",
        "    tam_sentenca = len(X_train[i].split())\n",
        "    print(tam_sentenca)\n",
        "    qt_palavras[tam_sentenca]+=1"
      ],
      "metadata": {
        "id": "ZZbBYhRKNU3N"
      },
      "execution_count": null,
      "outputs": []
    },
    {
      "cell_type": "code",
      "source": [
        "import plotly.express as px\n",
        "import pandas as pd\n",
        "\n",
        "fig = px.bar(qt_palavras[1:400])\n",
        "fig.show()"
      ],
      "metadata": {
        "colab": {
          "base_uri": "https://localhost:8080/",
          "height": 542
        },
        "id": "ZHOgEqgDOWyr",
        "outputId": "972813dc-d3db-4a61-a809-9801e7fdbcbe"
      },
      "execution_count": 21,
      "outputs": [
        {
          "output_type": "display_data",
          "data": {
            "text/html": [
              "<html>\n",
              "<head><meta charset=\"utf-8\" /></head>\n",
              "<body>\n",
              "    <div>            <script src=\"https://cdnjs.cloudflare.com/ajax/libs/mathjax/2.7.5/MathJax.js?config=TeX-AMS-MML_SVG\"></script><script type=\"text/javascript\">if (window.MathJax && window.MathJax.Hub && window.MathJax.Hub.Config) {window.MathJax.Hub.Config({SVG: {font: \"STIX-Web\"}});}</script>                <script type=\"text/javascript\">window.PlotlyConfig = {MathJaxConfig: 'local'};</script>\n",
              "        <script charset=\"utf-8\" src=\"https://cdn.plot.ly/plotly-2.24.1.min.js\"></script>                <div id=\"d9074cca-86b9-4592-8578-29f129393219\" class=\"plotly-graph-div\" style=\"height:525px; width:100%;\"></div>            <script type=\"text/javascript\">                                    window.PLOTLYENV=window.PLOTLYENV || {};                                    if (document.getElementById(\"d9074cca-86b9-4592-8578-29f129393219\")) {                    Plotly.newPlot(                        \"d9074cca-86b9-4592-8578-29f129393219\",                        [{\"alignmentgroup\":\"True\",\"hovertemplate\":\"variable=0\\u003cbr\\u003eindex=%{x}\\u003cbr\\u003evalue=%{y}\\u003cextra\\u003e\\u003c\\u002fextra\\u003e\",\"legendgroup\":\"0\",\"marker\":{\"color\":\"#636efa\",\"pattern\":{\"shape\":\"\"}},\"name\":\"0\",\"offsetgroup\":\"0\",\"orientation\":\"v\",\"showlegend\":true,\"textposition\":\"auto\",\"x\":[0,1,2,3,4,5,6,7,8,9,10,11,12,13,14,15,16,17,18,19,20,21,22,23,24,25,26,27,28,29,30,31,32,33,34,35,36,37,38,39,40,41,42,43,44,45,46,47,48,49,50,51,52,53,54,55,56,57,58,59,60,61,62,63,64,65,66,67,68,69,70,71,72,73,74,75,76,77,78,79,80,81,82,83,84,85,86,87,88,89,90,91,92,93,94,95,96,97,98,99,100,101,102,103,104,105,106,107,108,109,110,111,112,113,114,115,116,117,118,119,120,121,122,123,124,125,126,127,128,129,130,131,132,133,134,135,136,137,138,139,140,141,142,143,144,145,146,147,148,149,150,151,152,153,154,155,156,157,158,159,160,161,162,163,164,165,166,167,168,169,170,171,172,173,174,175,176,177,178,179,180,181,182,183,184,185,186,187,188,189,190,191,192,193,194,195,196,197,198,199,200,201,202,203,204,205,206,207,208,209,210,211,212,213,214,215,216,217,218,219,220,221,222,223,224,225,226,227,228,229,230,231,232,233,234,235,236,237,238,239,240,241,242,243,244,245,246,247,248,249,250,251,252,253,254,255,256,257,258,259,260,261,262,263,264,265,266,267,268,269,270,271,272,273,274,275,276,277,278,279,280,281,282,283,284,285,286,287,288,289,290,291,292,293,294,295,296,297,298,299,300,301,302,303,304,305,306,307,308,309,310,311,312,313,314,315,316,317,318,319,320,321,322,323,324,325,326,327,328,329,330,331,332,333,334,335,336,337,338,339,340,341,342,343,344,345,346,347,348,349,350,351,352,353,354,355,356,357,358,359,360,361,362,363,364,365,366,367,368,369,370,371,372,373,374,375,376,377,378,379,380,381,382,383,384,385,386,387,388,389,390,391,392,393,394,395,396,397,398],\"xaxis\":\"x\",\"y\":[0,0,0,0,0,0,0,0,0,0,0,0,0,0,1,2,1,1,0,0,1,1,1,1,1,1,0,1,1,3,3,1,5,6,1,2,2,4,8,8,3,2,2,4,8,8,5,8,9,4,4,8,5,8,9,8,7,7,11,6,14,12,7,9,7,7,11,12,8,9,8,8,13,11,8,13,12,11,15,10,8,13,15,10,18,12,6,10,9,12,11,14,11,9,8,14,5,19,14,12,8,10,8,11,8,12,18,8,9,12,3,17,8,20,7,10,7,8,12,9,9,11,10,10,6,9,7,10,12,11,11,10,11,6,9,5,12,6,15,11,5,8,13,8,11,8,11,10,11,8,9,6,13,9,7,7,7,14,7,13,4,11,8,10,12,3,11,9,10,9,8,3,6,7,13,11,9,2,11,7,8,8,11,12,4,6,7,5,12,3,7,8,4,13,9,3,6,3,8,9,9,7,2,7,4,5,1,6,8,8,3,11,3,7,8,4,4,5,3,8,2,9,5,9,4,5,4,5,7,5,2,5,4,8,2,3,3,1,8,5,6,6,2,0,5,4,4,3,4,2,5,4,4,4,3,3,3,2,4,2,3,5,3,4,3,5,2,3,7,5,2,3,3,6,5,2,2,6,1,5,3,2,6,7,5,3,4,1,0,2,0,3,5,3,3,5,2,1,0,5,4,4,1,3,0,2,4,4,3,2,4,1,1,7,3,2,3,1,3,3,2,1,1,3,2,4,1,0,5,3,0,2,2,3,5,0,3,4,1,5,1,3,4,0,1,3,1,1,0,0,3,2,2,1,2,0,1,0,0,2,0,0,2,4,2,3,2,2,0,0,2,2,1,2,1,3,2,2,0,1,1,2,0,4,0,1,1,0,3,1,0,0,2,1,2,4,1,2,2],\"yaxis\":\"y\",\"type\":\"bar\"}],                        {\"template\":{\"data\":{\"histogram2dcontour\":[{\"type\":\"histogram2dcontour\",\"colorbar\":{\"outlinewidth\":0,\"ticks\":\"\"},\"colorscale\":[[0.0,\"#0d0887\"],[0.1111111111111111,\"#46039f\"],[0.2222222222222222,\"#7201a8\"],[0.3333333333333333,\"#9c179e\"],[0.4444444444444444,\"#bd3786\"],[0.5555555555555556,\"#d8576b\"],[0.6666666666666666,\"#ed7953\"],[0.7777777777777778,\"#fb9f3a\"],[0.8888888888888888,\"#fdca26\"],[1.0,\"#f0f921\"]]}],\"choropleth\":[{\"type\":\"choropleth\",\"colorbar\":{\"outlinewidth\":0,\"ticks\":\"\"}}],\"histogram2d\":[{\"type\":\"histogram2d\",\"colorbar\":{\"outlinewidth\":0,\"ticks\":\"\"},\"colorscale\":[[0.0,\"#0d0887\"],[0.1111111111111111,\"#46039f\"],[0.2222222222222222,\"#7201a8\"],[0.3333333333333333,\"#9c179e\"],[0.4444444444444444,\"#bd3786\"],[0.5555555555555556,\"#d8576b\"],[0.6666666666666666,\"#ed7953\"],[0.7777777777777778,\"#fb9f3a\"],[0.8888888888888888,\"#fdca26\"],[1.0,\"#f0f921\"]]}],\"heatmap\":[{\"type\":\"heatmap\",\"colorbar\":{\"outlinewidth\":0,\"ticks\":\"\"},\"colorscale\":[[0.0,\"#0d0887\"],[0.1111111111111111,\"#46039f\"],[0.2222222222222222,\"#7201a8\"],[0.3333333333333333,\"#9c179e\"],[0.4444444444444444,\"#bd3786\"],[0.5555555555555556,\"#d8576b\"],[0.6666666666666666,\"#ed7953\"],[0.7777777777777778,\"#fb9f3a\"],[0.8888888888888888,\"#fdca26\"],[1.0,\"#f0f921\"]]}],\"heatmapgl\":[{\"type\":\"heatmapgl\",\"colorbar\":{\"outlinewidth\":0,\"ticks\":\"\"},\"colorscale\":[[0.0,\"#0d0887\"],[0.1111111111111111,\"#46039f\"],[0.2222222222222222,\"#7201a8\"],[0.3333333333333333,\"#9c179e\"],[0.4444444444444444,\"#bd3786\"],[0.5555555555555556,\"#d8576b\"],[0.6666666666666666,\"#ed7953\"],[0.7777777777777778,\"#fb9f3a\"],[0.8888888888888888,\"#fdca26\"],[1.0,\"#f0f921\"]]}],\"contourcarpet\":[{\"type\":\"contourcarpet\",\"colorbar\":{\"outlinewidth\":0,\"ticks\":\"\"}}],\"contour\":[{\"type\":\"contour\",\"colorbar\":{\"outlinewidth\":0,\"ticks\":\"\"},\"colorscale\":[[0.0,\"#0d0887\"],[0.1111111111111111,\"#46039f\"],[0.2222222222222222,\"#7201a8\"],[0.3333333333333333,\"#9c179e\"],[0.4444444444444444,\"#bd3786\"],[0.5555555555555556,\"#d8576b\"],[0.6666666666666666,\"#ed7953\"],[0.7777777777777778,\"#fb9f3a\"],[0.8888888888888888,\"#fdca26\"],[1.0,\"#f0f921\"]]}],\"surface\":[{\"type\":\"surface\",\"colorbar\":{\"outlinewidth\":0,\"ticks\":\"\"},\"colorscale\":[[0.0,\"#0d0887\"],[0.1111111111111111,\"#46039f\"],[0.2222222222222222,\"#7201a8\"],[0.3333333333333333,\"#9c179e\"],[0.4444444444444444,\"#bd3786\"],[0.5555555555555556,\"#d8576b\"],[0.6666666666666666,\"#ed7953\"],[0.7777777777777778,\"#fb9f3a\"],[0.8888888888888888,\"#fdca26\"],[1.0,\"#f0f921\"]]}],\"mesh3d\":[{\"type\":\"mesh3d\",\"colorbar\":{\"outlinewidth\":0,\"ticks\":\"\"}}],\"scatter\":[{\"fillpattern\":{\"fillmode\":\"overlay\",\"size\":10,\"solidity\":0.2},\"type\":\"scatter\"}],\"parcoords\":[{\"type\":\"parcoords\",\"line\":{\"colorbar\":{\"outlinewidth\":0,\"ticks\":\"\"}}}],\"scatterpolargl\":[{\"type\":\"scatterpolargl\",\"marker\":{\"colorbar\":{\"outlinewidth\":0,\"ticks\":\"\"}}}],\"bar\":[{\"error_x\":{\"color\":\"#2a3f5f\"},\"error_y\":{\"color\":\"#2a3f5f\"},\"marker\":{\"line\":{\"color\":\"#E5ECF6\",\"width\":0.5},\"pattern\":{\"fillmode\":\"overlay\",\"size\":10,\"solidity\":0.2}},\"type\":\"bar\"}],\"scattergeo\":[{\"type\":\"scattergeo\",\"marker\":{\"colorbar\":{\"outlinewidth\":0,\"ticks\":\"\"}}}],\"scatterpolar\":[{\"type\":\"scatterpolar\",\"marker\":{\"colorbar\":{\"outlinewidth\":0,\"ticks\":\"\"}}}],\"histogram\":[{\"marker\":{\"pattern\":{\"fillmode\":\"overlay\",\"size\":10,\"solidity\":0.2}},\"type\":\"histogram\"}],\"scattergl\":[{\"type\":\"scattergl\",\"marker\":{\"colorbar\":{\"outlinewidth\":0,\"ticks\":\"\"}}}],\"scatter3d\":[{\"type\":\"scatter3d\",\"line\":{\"colorbar\":{\"outlinewidth\":0,\"ticks\":\"\"}},\"marker\":{\"colorbar\":{\"outlinewidth\":0,\"ticks\":\"\"}}}],\"scattermapbox\":[{\"type\":\"scattermapbox\",\"marker\":{\"colorbar\":{\"outlinewidth\":0,\"ticks\":\"\"}}}],\"scatterternary\":[{\"type\":\"scatterternary\",\"marker\":{\"colorbar\":{\"outlinewidth\":0,\"ticks\":\"\"}}}],\"scattercarpet\":[{\"type\":\"scattercarpet\",\"marker\":{\"colorbar\":{\"outlinewidth\":0,\"ticks\":\"\"}}}],\"carpet\":[{\"aaxis\":{\"endlinecolor\":\"#2a3f5f\",\"gridcolor\":\"white\",\"linecolor\":\"white\",\"minorgridcolor\":\"white\",\"startlinecolor\":\"#2a3f5f\"},\"baxis\":{\"endlinecolor\":\"#2a3f5f\",\"gridcolor\":\"white\",\"linecolor\":\"white\",\"minorgridcolor\":\"white\",\"startlinecolor\":\"#2a3f5f\"},\"type\":\"carpet\"}],\"table\":[{\"cells\":{\"fill\":{\"color\":\"#EBF0F8\"},\"line\":{\"color\":\"white\"}},\"header\":{\"fill\":{\"color\":\"#C8D4E3\"},\"line\":{\"color\":\"white\"}},\"type\":\"table\"}],\"barpolar\":[{\"marker\":{\"line\":{\"color\":\"#E5ECF6\",\"width\":0.5},\"pattern\":{\"fillmode\":\"overlay\",\"size\":10,\"solidity\":0.2}},\"type\":\"barpolar\"}],\"pie\":[{\"automargin\":true,\"type\":\"pie\"}]},\"layout\":{\"autotypenumbers\":\"strict\",\"colorway\":[\"#636efa\",\"#EF553B\",\"#00cc96\",\"#ab63fa\",\"#FFA15A\",\"#19d3f3\",\"#FF6692\",\"#B6E880\",\"#FF97FF\",\"#FECB52\"],\"font\":{\"color\":\"#2a3f5f\"},\"hovermode\":\"closest\",\"hoverlabel\":{\"align\":\"left\"},\"paper_bgcolor\":\"white\",\"plot_bgcolor\":\"#E5ECF6\",\"polar\":{\"bgcolor\":\"#E5ECF6\",\"angularaxis\":{\"gridcolor\":\"white\",\"linecolor\":\"white\",\"ticks\":\"\"},\"radialaxis\":{\"gridcolor\":\"white\",\"linecolor\":\"white\",\"ticks\":\"\"}},\"ternary\":{\"bgcolor\":\"#E5ECF6\",\"aaxis\":{\"gridcolor\":\"white\",\"linecolor\":\"white\",\"ticks\":\"\"},\"baxis\":{\"gridcolor\":\"white\",\"linecolor\":\"white\",\"ticks\":\"\"},\"caxis\":{\"gridcolor\":\"white\",\"linecolor\":\"white\",\"ticks\":\"\"}},\"coloraxis\":{\"colorbar\":{\"outlinewidth\":0,\"ticks\":\"\"}},\"colorscale\":{\"sequential\":[[0.0,\"#0d0887\"],[0.1111111111111111,\"#46039f\"],[0.2222222222222222,\"#7201a8\"],[0.3333333333333333,\"#9c179e\"],[0.4444444444444444,\"#bd3786\"],[0.5555555555555556,\"#d8576b\"],[0.6666666666666666,\"#ed7953\"],[0.7777777777777778,\"#fb9f3a\"],[0.8888888888888888,\"#fdca26\"],[1.0,\"#f0f921\"]],\"sequentialminus\":[[0.0,\"#0d0887\"],[0.1111111111111111,\"#46039f\"],[0.2222222222222222,\"#7201a8\"],[0.3333333333333333,\"#9c179e\"],[0.4444444444444444,\"#bd3786\"],[0.5555555555555556,\"#d8576b\"],[0.6666666666666666,\"#ed7953\"],[0.7777777777777778,\"#fb9f3a\"],[0.8888888888888888,\"#fdca26\"],[1.0,\"#f0f921\"]],\"diverging\":[[0,\"#8e0152\"],[0.1,\"#c51b7d\"],[0.2,\"#de77ae\"],[0.3,\"#f1b6da\"],[0.4,\"#fde0ef\"],[0.5,\"#f7f7f7\"],[0.6,\"#e6f5d0\"],[0.7,\"#b8e186\"],[0.8,\"#7fbc41\"],[0.9,\"#4d9221\"],[1,\"#276419\"]]},\"xaxis\":{\"gridcolor\":\"white\",\"linecolor\":\"white\",\"ticks\":\"\",\"title\":{\"standoff\":15},\"zerolinecolor\":\"white\",\"automargin\":true,\"zerolinewidth\":2},\"yaxis\":{\"gridcolor\":\"white\",\"linecolor\":\"white\",\"ticks\":\"\",\"title\":{\"standoff\":15},\"zerolinecolor\":\"white\",\"automargin\":true,\"zerolinewidth\":2},\"scene\":{\"xaxis\":{\"backgroundcolor\":\"#E5ECF6\",\"gridcolor\":\"white\",\"linecolor\":\"white\",\"showbackground\":true,\"ticks\":\"\",\"zerolinecolor\":\"white\",\"gridwidth\":2},\"yaxis\":{\"backgroundcolor\":\"#E5ECF6\",\"gridcolor\":\"white\",\"linecolor\":\"white\",\"showbackground\":true,\"ticks\":\"\",\"zerolinecolor\":\"white\",\"gridwidth\":2},\"zaxis\":{\"backgroundcolor\":\"#E5ECF6\",\"gridcolor\":\"white\",\"linecolor\":\"white\",\"showbackground\":true,\"ticks\":\"\",\"zerolinecolor\":\"white\",\"gridwidth\":2}},\"shapedefaults\":{\"line\":{\"color\":\"#2a3f5f\"}},\"annotationdefaults\":{\"arrowcolor\":\"#2a3f5f\",\"arrowhead\":0,\"arrowwidth\":1},\"geo\":{\"bgcolor\":\"white\",\"landcolor\":\"#E5ECF6\",\"subunitcolor\":\"white\",\"showland\":true,\"showlakes\":true,\"lakecolor\":\"white\"},\"title\":{\"x\":0.05},\"mapbox\":{\"style\":\"light\"}}},\"xaxis\":{\"anchor\":\"y\",\"domain\":[0.0,1.0],\"title\":{\"text\":\"index\"}},\"yaxis\":{\"anchor\":\"x\",\"domain\":[0.0,1.0],\"title\":{\"text\":\"value\"}},\"legend\":{\"title\":{\"text\":\"variable\"},\"tracegroupgap\":0},\"margin\":{\"t\":60},\"barmode\":\"relative\"},                        {\"responsive\": true}                    ).then(function(){\n",
              "                            \n",
              "var gd = document.getElementById('d9074cca-86b9-4592-8578-29f129393219');\n",
              "var x = new MutationObserver(function (mutations, observer) {{\n",
              "        var display = window.getComputedStyle(gd).display;\n",
              "        if (!display || display === 'none') {{\n",
              "            console.log([gd, 'removed!']);\n",
              "            Plotly.purge(gd);\n",
              "            observer.disconnect();\n",
              "        }}\n",
              "}});\n",
              "\n",
              "// Listen for the removal of the full notebook cells\n",
              "var notebookContainer = gd.closest('#notebook-container');\n",
              "if (notebookContainer) {{\n",
              "    x.observe(notebookContainer, {childList: true});\n",
              "}}\n",
              "\n",
              "// Listen for the clearing of the current output cell\n",
              "var outputEl = gd.closest('.output');\n",
              "if (outputEl) {{\n",
              "    x.observe(outputEl, {childList: true});\n",
              "}}\n",
              "\n",
              "                        })                };                            </script>        </div>\n",
              "</body>\n",
              "</html>"
            ]
          },
          "metadata": {}
        }
      ]
    },
    {
      "cell_type": "code",
      "source": [
        "max_len = 128"
      ],
      "metadata": {
        "id": "-zqoJwegnKXy"
      },
      "execution_count": 22,
      "outputs": []
    },
    {
      "cell_type": "code",
      "source": [
        "train_vectors,y_train_int = encoding(X_train,y_train,word2index,max_len)\n",
        "test_vectors,y_test_int = encoding(X_train,y_train,word2index,max_len)"
      ],
      "metadata": {
        "id": "BhRWsCyxgmXJ"
      },
      "execution_count": 23,
      "outputs": []
    },
    {
      "cell_type": "code",
      "source": [
        "train_dataset = TextDataset(train_vectors, y_train_int)\n",
        "test_dataset = TextDataset(test_vectors, y_test_int)\n",
        "\n",
        "BATCH_SIZE = 32\n",
        "train_loader = DataLoader(train_dataset, batch_size=BATCH_SIZE, shuffle=True)\n",
        "test_loader = DataLoader(test_dataset, batch_size=BATCH_SIZE, shuffle=False)"
      ],
      "metadata": {
        "id": "xgjiLjYpmH82"
      },
      "execution_count": 24,
      "outputs": []
    },
    {
      "cell_type": "code",
      "source": [
        "INPUT_DIM = vocab_size#max_len#len(train_vectors[0])\n",
        "EMBEDDING_DIM = 100\n",
        "HIDDEN_DIM = 256\n",
        "OUTPUT_DIM = num_classes\n",
        "N_LAYERS = 1\n",
        "DROPOUT = 0.2"
      ],
      "metadata": {
        "id": "bzlo_mjnpW0o"
      },
      "execution_count": 25,
      "outputs": []
    },
    {
      "cell_type": "code",
      "source": [
        "model = LSTM(INPUT_DIM, EMBEDDING_DIM, HIDDEN_DIM, OUTPUT_DIM, N_LAYERS, DROPOUT)"
      ],
      "metadata": {
        "id": "1fjXq94vpYr-",
        "colab": {
          "base_uri": "https://localhost:8080/"
        },
        "outputId": "0cb9c6c4-6f7a-48de-9852-678eb2b3f642"
      },
      "execution_count": 26,
      "outputs": [
        {
          "output_type": "stream",
          "name": "stderr",
          "text": [
            "/usr/local/lib/python3.10/dist-packages/torch/nn/modules/rnn.py:83: UserWarning:\n",
            "\n",
            "dropout option adds dropout after all but last recurrent layer, so non-zero dropout expects num_layers greater than 1, but got dropout=0.2 and num_layers=1\n",
            "\n"
          ]
        }
      ]
    },
    {
      "cell_type": "code",
      "source": [
        "model"
      ],
      "metadata": {
        "id": "_Nk7hDVZz5fk",
        "colab": {
          "base_uri": "https://localhost:8080/"
        },
        "outputId": "e77f20e5-c8e1-4431-92c1-27be1bf122d3"
      },
      "execution_count": 27,
      "outputs": [
        {
          "output_type": "execute_result",
          "data": {
            "text/plain": [
              "LSTM(\n",
              "  (embedding): Embedding(80122, 100)\n",
              "  (rnn): LSTM(100, 256, batch_first=True, dropout=0.2)\n",
              "  (fc): Linear(in_features=256, out_features=4, bias=True)\n",
              "  (dropout): Dropout(p=0.2, inplace=False)\n",
              ")"
            ]
          },
          "metadata": {},
          "execution_count": 27
        }
      ]
    },
    {
      "cell_type": "code",
      "source": [
        "criterion = nn.CrossEntropyLoss()\n",
        "optimizer = optim.Adam(model.parameters(),lr=1e-4)"
      ],
      "metadata": {
        "id": "6uzB1WJFpws9"
      },
      "execution_count": 28,
      "outputs": []
    },
    {
      "cell_type": "code",
      "source": [
        "N_EPOCHS = 20\n",
        "for epoch in range(N_EPOCHS):\n",
        "\n",
        "    model.train()\n",
        "\n",
        "    total_loss = 0\n",
        "\n",
        "    for X_batch, y_batch in train_loader:\n",
        "\n",
        "        optimizer.zero_grad()\n",
        "\n",
        "        predictions = model(X_batch)\n",
        "\n",
        "        loss = criterion(predictions, y_batch)\n",
        "\n",
        "        loss.backward()\n",
        "\n",
        "        optimizer.step()\n",
        "\n",
        "        total_loss += loss.item()\n",
        "\n",
        "        total_loss = total_loss / len(train_loader)\n",
        "\n",
        "    print(f'Epoch: {epoch+1} \\t Train Loss: {total_loss:.6f}')"
      ],
      "metadata": {
        "id": "XlNjkSoVp1N9",
        "colab": {
          "base_uri": "https://localhost:8080/"
        },
        "outputId": "7466e4a0-0764-48ea-932e-cf337f351bfc"
      },
      "execution_count": 29,
      "outputs": [
        {
          "output_type": "stream",
          "name": "stdout",
          "text": [
            "Epoch: 1 \t Train Loss: 0.018413\n",
            "Epoch: 2 \t Train Loss: 0.018800\n",
            "Epoch: 3 \t Train Loss: 0.019151\n",
            "Epoch: 4 \t Train Loss: 0.018023\n",
            "Epoch: 5 \t Train Loss: 0.017483\n",
            "Epoch: 6 \t Train Loss: 0.014127\n",
            "Epoch: 7 \t Train Loss: 0.018062\n",
            "Epoch: 8 \t Train Loss: 0.016614\n",
            "Epoch: 9 \t Train Loss: 0.017638\n",
            "Epoch: 10 \t Train Loss: 0.015290\n",
            "Epoch: 11 \t Train Loss: 0.015029\n",
            "Epoch: 12 \t Train Loss: 0.012199\n",
            "Epoch: 13 \t Train Loss: 0.012606\n",
            "Epoch: 14 \t Train Loss: 0.013425\n",
            "Epoch: 15 \t Train Loss: 0.015206\n",
            "Epoch: 16 \t Train Loss: 0.014092\n",
            "Epoch: 17 \t Train Loss: 0.013925\n",
            "Epoch: 18 \t Train Loss: 0.015832\n",
            "Epoch: 19 \t Train Loss: 0.015975\n",
            "Epoch: 20 \t Train Loss: 0.013063\n"
          ]
        }
      ]
    },
    {
      "cell_type": "code",
      "source": [
        "y_pred = []\n",
        "y_test = []\n",
        "for text, label in test_loader:\n",
        "    y_prob = model(text)\n",
        "    _, predicted = torch.max(y_prob, 1)\n",
        "    y_pred.extend(predicted.tolist())\n",
        "    y_test.extend(label.tolist())"
      ],
      "metadata": {
        "id": "r429p801thcf"
      },
      "execution_count": 30,
      "outputs": []
    },
    {
      "cell_type": "code",
      "source": [
        "print(classification_report(y_test, y_pred))"
      ],
      "metadata": {
        "id": "eQmnBs6MyGfO",
        "colab": {
          "base_uri": "https://localhost:8080/"
        },
        "outputId": "db0128a1-0ee0-4d40-a4f1-556c43051ff4"
      },
      "execution_count": 31,
      "outputs": [
        {
          "output_type": "stream",
          "name": "stdout",
          "text": [
            "              precision    recall  f1-score   support\n",
            "\n",
            "           0       0.39      0.57      0.46       584\n",
            "           1       0.61      0.42      0.50       590\n",
            "           2       0.52      0.49      0.50       593\n",
            "           3       0.93      0.89      0.91       595\n",
            "\n",
            "    accuracy                           0.59      2362\n",
            "   macro avg       0.61      0.59      0.59      2362\n",
            "weighted avg       0.62      0.59      0.59      2362\n",
            "\n"
          ]
        }
      ]
    }
  ]
}