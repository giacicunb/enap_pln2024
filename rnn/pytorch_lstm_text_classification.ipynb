{
  "nbformat": 4,
  "nbformat_minor": 0,
  "metadata": {
    "colab": {
      "provenance": []
    },
    "kernelspec": {
      "name": "python3",
      "display_name": "Python 3"
    },
    "language_info": {
      "name": "python"
    }
  },
  "cells": [
    {
      "cell_type": "markdown",
      "source": [
        "# Classificação de Notícias do 20 news Group\n",
        "\n",
        "https://scikit-learn.org/0.19/datasets/twenty_newsgroups.html\n",
        "\n",
        "**Tarefa**: Receber uma notícia e prever qual é a sua categoria.\n",
        "\n",
        "**Técnica utilizada**: Bidirectional LSTM ajustada para um problema de classificação multiclasse."
      ],
      "metadata": {
        "id": "zI7XMxw7ViAH"
      }
    },
    {
      "cell_type": "code",
      "execution_count": 40,
      "metadata": {
        "id": "m55ZNei9Uk7Q"
      },
      "outputs": [],
      "source": [
        "import torch\n",
        "import torch.nn as nn\n",
        "from torch.utils.data import Dataset\n",
        "from sklearn.datasets import fetch_20newsgroups\n",
        "import numpy as np\n",
        "from torch.utils.data import Dataset, DataLoader\n",
        "import torch.optim as optim\n",
        "import re\n",
        "from sklearn.metrics import classification_report"
      ]
    },
    {
      "cell_type": "markdown",
      "source": [
        "Como baixar separadamente os dados de treinamento e de teste no 20 newsgroups:"
      ],
      "metadata": {
        "id": "QMNYDzp5l5Q6"
      }
    },
    {
      "cell_type": "code",
      "source": [
        "newsgroups_train = fetch_20newsgroups(subset='train')\n",
        "newsgroups_test = fetch_20newsgroups(subset='test')"
      ],
      "metadata": {
        "id": "GOnjGn8SVcKN"
      },
      "execution_count": 41,
      "outputs": []
    },
    {
      "cell_type": "code",
      "source": [
        "len(newsgroups_train.data)"
      ],
      "metadata": {
        "colab": {
          "base_uri": "https://localhost:8080/"
        },
        "id": "mRbmKWfGVnnx",
        "outputId": "6bbb64d2-ca48-4f48-8bb9-495905ed4285"
      },
      "execution_count": 42,
      "outputs": [
        {
          "output_type": "execute_result",
          "data": {
            "text/plain": [
              "11314"
            ]
          },
          "metadata": {},
          "execution_count": 42
        }
      ]
    },
    {
      "cell_type": "code",
      "source": [
        "newsgroups_train.target_names"
      ],
      "metadata": {
        "colab": {
          "base_uri": "https://localhost:8080/"
        },
        "id": "y70vrm-dV7b0",
        "outputId": "1c73b3a1-4868-4d50-b804-688fb4d317be"
      },
      "execution_count": 43,
      "outputs": [
        {
          "output_type": "execute_result",
          "data": {
            "text/plain": [
              "['alt.atheism',\n",
              " 'comp.graphics',\n",
              " 'comp.os.ms-windows.misc',\n",
              " 'comp.sys.ibm.pc.hardware',\n",
              " 'comp.sys.mac.hardware',\n",
              " 'comp.windows.x',\n",
              " 'misc.forsale',\n",
              " 'rec.autos',\n",
              " 'rec.motorcycles',\n",
              " 'rec.sport.baseball',\n",
              " 'rec.sport.hockey',\n",
              " 'sci.crypt',\n",
              " 'sci.electronics',\n",
              " 'sci.med',\n",
              " 'sci.space',\n",
              " 'soc.religion.christian',\n",
              " 'talk.politics.guns',\n",
              " 'talk.politics.mideast',\n",
              " 'talk.politics.misc',\n",
              " 'talk.religion.misc']"
            ]
          },
          "metadata": {},
          "execution_count": 43
        }
      ]
    },
    {
      "cell_type": "code",
      "source": [
        "cats = ['comp.graphics', 'talk.politics.misc','rec.autos','sci.electronics']"
      ],
      "metadata": {
        "id": "Een4LVVZWrA5"
      },
      "execution_count": 44,
      "outputs": []
    },
    {
      "cell_type": "code",
      "source": [
        "newsgroups_train = fetch_20newsgroups(subset='train', categories=cats)\n",
        "newsgroups_test = fetch_20newsgroups(subset='test', categories=cats)"
      ],
      "metadata": {
        "id": "Uhu0308GWegK"
      },
      "execution_count": 45,
      "outputs": []
    },
    {
      "cell_type": "code",
      "source": [
        "len(newsgroups_train.data)"
      ],
      "metadata": {
        "colab": {
          "base_uri": "https://localhost:8080/"
        },
        "id": "gFnKHYbdW5A2",
        "outputId": "65c29d28-b936-45b8-cdd4-4cc7cef70665"
      },
      "execution_count": 46,
      "outputs": [
        {
          "output_type": "execute_result",
          "data": {
            "text/plain": [
              "2234"
            ]
          },
          "metadata": {},
          "execution_count": 46
        }
      ]
    },
    {
      "cell_type": "code",
      "source": [
        "len(newsgroups_test.data)"
      ],
      "metadata": {
        "colab": {
          "base_uri": "https://localhost:8080/"
        },
        "id": "_BJATwGLXDRP",
        "outputId": "861bdaad-4bcb-45f1-9686-13ac9ffa4f72"
      },
      "execution_count": 47,
      "outputs": [
        {
          "output_type": "execute_result",
          "data": {
            "text/plain": [
              "1488"
            ]
          },
          "metadata": {},
          "execution_count": 47
        }
      ]
    },
    {
      "cell_type": "markdown",
      "source": [
        "Observe que o vetor target mostra as categorias já em valores inteiros dentro de um numpy array:"
      ],
      "metadata": {
        "id": "LQt2jEnGt3Z8"
      }
    },
    {
      "cell_type": "code",
      "source": [
        "newsgroups_train.target"
      ],
      "metadata": {
        "colab": {
          "base_uri": "https://localhost:8080/"
        },
        "id": "90KyQhqqt3g2",
        "outputId": "d78f90d2-64f4-48c4-fcf6-05f916ba6b29"
      },
      "execution_count": 48,
      "outputs": [
        {
          "output_type": "execute_result",
          "data": {
            "text/plain": [
              "array([1, 0, 2, ..., 2, 3, 3])"
            ]
          },
          "metadata": {},
          "execution_count": 48
        }
      ]
    },
    {
      "cell_type": "code",
      "source": [
        "num_classes = len(np.unique(newsgroups_train.target_names))\n",
        "num_classes"
      ],
      "metadata": {
        "colab": {
          "base_uri": "https://localhost:8080/"
        },
        "id": "4Dqb7KI0XQdq",
        "outputId": "037a0858-5d75-4ae4-fdda-722809d2af6f"
      },
      "execution_count": 49,
      "outputs": [
        {
          "output_type": "execute_result",
          "data": {
            "text/plain": [
              "4"
            ]
          },
          "metadata": {},
          "execution_count": 49
        }
      ]
    },
    {
      "cell_type": "code",
      "source": [
        "sentence = newsgroups_train.data[1]\n",
        "sentence"
      ],
      "metadata": {
        "colab": {
          "base_uri": "https://localhost:8080/",
          "height": 174
        },
        "id": "CaWRG83KXcV7",
        "outputId": "311cfd53-afdf-44cb-daa1-6926e25bbdde"
      },
      "execution_count": 50,
      "outputs": [
        {
          "output_type": "execute_result",
          "data": {
            "text/plain": [
              "'From: scott@osi.com (Scott Fleming)\\nSubject: Sun IPX root window display - background picture\\nKeywords: sun ipx background picture\\nOrganization: Objective Systems Integrators, Folsom Ca.\\nLines: 22\\n\\n\\nHello netters!\\n \\nI have a fairly weak question to ask everybody in netland.  I\\'ve looked though\\nthe last FAQ for comp.graphics but I didn\\'t find my answer.  Thus the post.\\n \\nI\\'ll keep it short.\\n \\nQUESTION:  How do I display any raster files, gif files, iff or tiff images\\nthat I have on my \"root window\" or background?  I have a sun ipc, openwindows\\n3.0, Sun OS 4.1.3 if that helps any.\\n \\nI\\'ve compiled POV for the sun and would like to display some of the work I have\\ndone as a background/tile.  Thanks for any help or information that you\\nprovide.  Have a good day.\\n \\nScott Fleming\\nOSI\\n \\nP.S.\\nKudo\\'s to the people who provided POV, its great!\\n\\n'"
            ],
            "application/vnd.google.colaboratory.intrinsic+json": {
              "type": "string"
            }
          },
          "metadata": {},
          "execution_count": 50
        }
      ]
    },
    {
      "cell_type": "code",
      "source": [
        "result = re.sub('\\n',' ',sentence)\n",
        "result"
      ],
      "metadata": {
        "colab": {
          "base_uri": "https://localhost:8080/",
          "height": 157
        },
        "id": "Ou8phaLHYLRO",
        "outputId": "0ca9726f-8843-4b2e-f545-80d9f8cd63b5"
      },
      "execution_count": 51,
      "outputs": [
        {
          "output_type": "execute_result",
          "data": {
            "text/plain": [
              "'From: scott@osi.com (Scott Fleming) Subject: Sun IPX root window display - background picture Keywords: sun ipx background picture Organization: Objective Systems Integrators, Folsom Ca. Lines: 22   Hello netters!   I have a fairly weak question to ask everybody in netland.  I\\'ve looked though the last FAQ for comp.graphics but I didn\\'t find my answer.  Thus the post.   I\\'ll keep it short.   QUESTION:  How do I display any raster files, gif files, iff or tiff images that I have on my \"root window\" or background?  I have a sun ipc, openwindows 3.0, Sun OS 4.1.3 if that helps any.   I\\'ve compiled POV for the sun and would like to display some of the work I have done as a background/tile.  Thanks for any help or information that you provide.  Have a good day.   Scott Fleming OSI   P.S. Kudo\\'s to the people who provided POV, its great!  '"
            ],
            "application/vnd.google.colaboratory.intrinsic+json": {
              "type": "string"
            }
          },
          "metadata": {},
          "execution_count": 51
        }
      ]
    },
    {
      "cell_type": "code",
      "source": [
        "result = re.sub(r'\\\\',' ',result)\n",
        "result"
      ],
      "metadata": {
        "colab": {
          "base_uri": "https://localhost:8080/",
          "height": 157
        },
        "id": "rZttkRjFZI-J",
        "outputId": "a1de878f-f32f-453e-fdb9-a40e2b5e5df9"
      },
      "execution_count": 52,
      "outputs": [
        {
          "output_type": "execute_result",
          "data": {
            "text/plain": [
              "'From: scott@osi.com (Scott Fleming) Subject: Sun IPX root window display - background picture Keywords: sun ipx background picture Organization: Objective Systems Integrators, Folsom Ca. Lines: 22   Hello netters!   I have a fairly weak question to ask everybody in netland.  I\\'ve looked though the last FAQ for comp.graphics but I didn\\'t find my answer.  Thus the post.   I\\'ll keep it short.   QUESTION:  How do I display any raster files, gif files, iff or tiff images that I have on my \"root window\" or background?  I have a sun ipc, openwindows 3.0, Sun OS 4.1.3 if that helps any.   I\\'ve compiled POV for the sun and would like to display some of the work I have done as a background/tile.  Thanks for any help or information that you provide.  Have a good day.   Scott Fleming OSI   P.S. Kudo\\'s to the people who provided POV, its great!  '"
            ],
            "application/vnd.google.colaboratory.intrinsic+json": {
              "type": "string"
            }
          },
          "metadata": {},
          "execution_count": 52
        }
      ]
    },
    {
      "cell_type": "code",
      "source": [
        "lista = [1,2,3,4,5,6]\n",
        "lista"
      ],
      "metadata": {
        "colab": {
          "base_uri": "https://localhost:8080/"
        },
        "id": "FEMkp2Eaa8sS",
        "outputId": "82d77c3a-58de-4d28-d3e7-832a73a2010a"
      },
      "execution_count": 53,
      "outputs": [
        {
          "output_type": "execute_result",
          "data": {
            "text/plain": [
              "[1, 2, 3, 4, 5, 6]"
            ]
          },
          "metadata": {},
          "execution_count": 53
        }
      ]
    },
    {
      "cell_type": "code",
      "source": [
        "tensor = torch.tensor(lista)\n",
        "tensor"
      ],
      "metadata": {
        "colab": {
          "base_uri": "https://localhost:8080/"
        },
        "id": "RiQOdCv8a_GS",
        "outputId": "cd535fc9-b9da-4e94-e19a-d5f0b032a3ed"
      },
      "execution_count": 54,
      "outputs": [
        {
          "output_type": "execute_result",
          "data": {
            "text/plain": [
              "tensor([1, 2, 3, 4, 5, 6])"
            ]
          },
          "metadata": {},
          "execution_count": 54
        }
      ]
    },
    {
      "cell_type": "code",
      "source": [
        "softmax = nn.Softmax(dim=1)\n",
        "saidas = [[0.3,0.4,0.3,-0.2],[0.7,-0.1,0.4,-0.3]]"
      ],
      "metadata": {
        "id": "6TZxtClib7-m"
      },
      "execution_count": 55,
      "outputs": []
    },
    {
      "cell_type": "code",
      "source": [
        "saidas = torch.tensor(saidas)\n",
        "output = softmax(saidas)"
      ],
      "metadata": {
        "id": "fJYpfRvPfcHW"
      },
      "execution_count": 56,
      "outputs": []
    },
    {
      "cell_type": "code",
      "source": [
        "output"
      ],
      "metadata": {
        "colab": {
          "base_uri": "https://localhost:8080/"
        },
        "id": "IiHHxAyffwz8",
        "outputId": "36158856-8dea-4ba7-ef5b-cf5247400e3e"
      },
      "execution_count": 57,
      "outputs": [
        {
          "output_type": "execute_result",
          "data": {
            "text/plain": [
              "tensor([[0.2694, 0.2978, 0.2694, 0.1634],\n",
              "        [0.3909, 0.1757, 0.2896, 0.1438]])"
            ]
          },
          "metadata": {},
          "execution_count": 57
        }
      ]
    },
    {
      "cell_type": "markdown",
      "source": [
        "## Implementação Final"
      ],
      "metadata": {
        "id": "LtQCAWMf34Yh"
      }
    },
    {
      "cell_type": "markdown",
      "source": [
        "Colocar os dados dentro de uma estrutura Dataset para serem processadas pelo Pytorch por meio de um DataLoader."
      ],
      "metadata": {
        "id": "WiKy2mWxaDwa"
      }
    },
    {
      "cell_type": "code",
      "source": [
        "class TextDataSet(Dataset):\n",
        "\n",
        "    def __init__(self,X,y): # X sao os dados (lista ou numpy arrays), y sao os labels (lista ou numpy arrays)\n",
        "        self.X = torch.tensor(X) # tensor eh um vetor especifico do Pytorch\n",
        "        self.y = torch.tensor(y)\n",
        "\n",
        "    def __len__(self):\n",
        "        return len(self.X)\n",
        "\n",
        "    def __getitem__(self,index):\n",
        "        return self.X[index],self.y[index]"
      ],
      "metadata": {
        "id": "5oqlhMyZaHPK"
      },
      "execution_count": 58,
      "outputs": []
    },
    {
      "cell_type": "markdown",
      "source": [
        "![arquitetura.png](data:image/png;base64,iVBORw0KGgoAAAANSUhEUgAAAzAAAAEgCAYAAABrQZapAAAA4WlDQ1BzUkdCAAAYlWNgYDzNAARMDgwMuXklRUHuTgoRkVEKDEggMbm4gAE3YGRg+HYNRDIwXNYNLGHlx6MWG+AsAloIpD8AsUg6mM3IAmInQdgSIHZ5SUEJkK0DYicXFIHYQBcz8BSFBDkD2T5AtkI6EjsJiZ2SWpwMZOcA2fEIv+XPZ2Cw+MLAwDwRIZY0jYFhezsDg8QdhJjKQgYG/lYGhm2XEWKf/cH+ZRQ7VJJaUQIS8dN3ZChILEoESzODAjQtjYHh03IGBt5IBgbhCwwMXNEQd4ABazEwoEkMJ0IAAHLYNoSjH0ezAAAACXBIWXMAAA7EAAAOxAGVKw4bAAAG1HpUWHRteGZpbGUAAHic7Vxbc5s4FP41ntl9iMdIgPFj4ly622Q3U6ebdl8yspFBDSAXRG33168ACQPCiTvpcqndzrToSEjonPOdG1gDOPU3S+LhARi5NGIDeDkAAK1WQ5sgJ0R+NAww4yTe71ObLAm2szFgBPSzkX4GjAdtNIDnxoT/A82hNjL/zcYjBwdiwjv6nXgeGoBrYzjiXb990rQBvOBXtySIN/z/jWU+mfrv/Op8tfLwI56/JywZD8dDaCa3vH/3cHc7AFN+7ZHn5IFv8OKZJrdM3ZD6nHKtATgcJX85cYaWKCSFKZJnwgw52SOZfmQH8PYuejp7H19an9nkZp2N+YbDiNBAbFMfwmS6pINtVzijOoS58TyjRgvkCbKWUeY0tHGYkdJb4dVgdD5IrjmnpoKzvBEgX9x5z5l1Jm4ngsMf9dnXrf8we8DPXxZ/0c/rhRtXZ5Nz+pubEK3cO2pjj1PsjXggbSI2bm8FxRoZGcUJ5ULajjAj3+VexKadmNg4Kg1klHqMrMrEBQ0CvGAlGgpDui4PW1KvvOqK71whzBSeJtRHYjM3o1rGaEd/h4njypW1kejxkRwsCJGLbLreI5YyO0NK2d7uHc+n2PMKAhPrcJX78XvzbYY5aN4y3V+P547x91fj4wcQfvjz5mr2zx9cv4QuRGwruYttzmzRpCFzqUMD5F3tqBchjQM7BT1f6GI35pbSFScmMP6CGdsKzUExo5zkMt8TvXhD2KfC9edkqiEwRPNyI6ZOG1vRiFhIn3OB66mtqPJHsCyicbjAL21baC0KHcxeGieAkfCksMLLvC8AEHMbxMItb4fYQ4x8K2swEkBw8nGHSpePEQL+SXow7o4ejDuoB/qx6IHwd8iLxSNekNvZw52iHTvZJ8Jbu4Th2QqlzF5zt1OWM48mvCn1aOYAoW1gy9ZzURZ6LDCHplkr5CUNmFAkaMq2eJ4aSyk3gkOGN28Tmbx9IqyvcJtj0VzvXBCQjsYtuh85sDtSbgfsAd/zJ4nopFGEe9Le4T1t/R+Ah4cC/kjwDhW8LwbA9FjC9iSaNZ3kciRpfPkCWdEiDjVWFjryiJOEzQsuqST+vUgASXgody46fGLbqX7VmZCyzlUtQBOgN8uY1yyogF4OKWIedg7y7cR5eyAPmoS8foJ8HT8KkHdPkN8P+YnVU8RroF3ID40i6LUGES/rFCfIVxhSwPymBvNaJzFf1gzYkBWomgEoedg7OwD1VuxAbWr/cmbfiQxBOzReAPBYrIcaMdQlCd20Hk3YCl3JEsDQ6Ku1gH23Fo0mF7JAfLIWVY68kl+crEWeYIx7ayxymHTAWDT49ggcWkWE4EhAD9rJNdt+fXS4IhxLpgnUgvLpBVJeWCob/h6/QAKTVvDegdqSdMKngK/KkVeKS6CTAV87xSVTIrr3xSXD6o7jb7+49KpRMJqPAw6Ze7fCPSV8T7tvHkZSM2VpY5etyMUykyluPEwPS9qYb6pxw6V+7FJX1+qm4WrCTFkVM9XnupbRoQ/c2q9rHYGh0sCvY6iAYqjqSmonQ/ULlNT0VgKqn5khGQfbmGOpjuntZMttl0kPVwTzSBRB/kKlC4rQYJn0YEWQZrw3UQfUK1GHmh5lm+5h1GGo6dGplJuHm5WIo8e1XOmGC3Le1kSXd0cbXWpaBeV5ybN30aXRztcdHajbG4d+1tVC5tuSLqifddXV7buJ+3bq9ool6HHh3lSkX1dT6Kb0G5F1NbbrcVFBBh2vVLpPwv4Ffug1VsO54XDYngx1qyEZTmBZhPLnuv2ToPoNzXFKUKvJqnoiQjW2UuQXuSg9O2YRh972IkSL5yQufS19LufaHppj755GhGWn03h4yQpyv6105/KXmhJmTNyvKC3FWflJJzLjsuqcL6jRBU03WlSGx7v7RbBdssi95z7F1K4/zOOaMxWkn7XJt5JOmF/j5JCZFHxnUYq+ZHlgrTYp52W/9MwLxLBDQ4L4oOIH1em80nn//KVAc0vB5pbS9y11sN2toO9tVhfsrK6CrBr8vQVsB5Q3NKtrdrcWaqrndDnzcfBkE789BwrytlgciHah2nl9DfmfhkRe/QmCrgq8c362Vt6qm8X+HNs2CZyTyEsih6ZREnkvKhe1Mld/X0RjtorZSeCVVxR6WeK9qFrXSnysSPyS+DiIBlM4OIeUd9mJA7/iwWrM4hClTr91RWjNuAM1UtZgLwRtnQT9Iya9ki7XvYTsieAnJ8H/kGmvfOx41l/J1xxNEsT+08JDUYSjdCZOG6lnWByxZ1eqI1qXMrZ0zJ7TcuU3LbuDiYtj0l55FHLWIW5Ij6NOKf8BtLli3AG8Xs8AACAASURBVHic7N13dFTV9sDx76T3ThokgRBKEEIv0qQq9UcvIk1QQRDee6Ki+FSkKCjgowpIlao0EaWEKj2E3kJPgIQkhPReZu7vj0MmREJQAQmyP2vNcubOLefOuHR29tn76DRN0xBCCCGEEEKIZ4DJ0x6AEEIIIYQQQvxREsAIIYQQQgghnhkSwAghhBBCCCGeGRLACCGEEEIIURKkpMCNGyAl6sWSAEYIIYQQQoiSYNcumDPnaY/i0Wka/PQTrFnzRIIxCWCEEEIIIYQoCcLCIDDwaY/i0W3cCNOmwa1bT+T0Zk/krEIIIYQQQpRkej189RVUrgwREXDnDjRsCO3awblz8OOP8PnnoNPB+fPw888wYoTKkkREgJ0dXLoETZqAlxfs3q2mgPXtCwEBD76upsHly7Bpk7qmpyf06gWlSqkf/PXrg8EABw/Cnj2QmQne3mofNzc4fhx27oTUVLC2hg4doFq1B29PSYHt2+HMGTAzgxo11D3m5cFvv8Hhw5CTA87OMHAguLoWjDUzU30W2dmF78HODqpXL/reLlyADRvAxQXKln3kr6kokoERQgghhBDPn4QEOH1a/eDu3h2aNYN589R7YWEqwMkXFqZ+zJubqx/0589DgwbquOnT4dgx6NkTHBxUoFOc27dh5kwVuPTvr8bx448QH68CCS8vtc/mzdCokQoqYmLgl18gKQkWLFBB15tvQlAQbN0KiYlFbzcYYPlyiIqCfv3glVdg9Wq4eBHCw9Ux3brBoEEq6DlwoPCUr8xMOHRIBTr3Po4de/C9TZkCr74KHh7qXnS6R/mWiiQZGCGEEEII8fyJigJLSxgwQGU40tNVVgJUgFK5snqu16sf/BUqQFaWKrLv1UtN9bpxQ2Uj2rVT53ByUoFIcbZvB0dH6NNH/bgfNUoFLjdvquChdGkwNYXOnSE2VgVZqanqYWKiHpGRUKsWtG2rMi3JyUVvP3UK9u6Fli1VIKLXq2tERUG5cuq6t25BzZowbNj9Y3VxUVmnPyI5Gf73P2jVCipWVNtKl/5jx/5JkoERQgghhBDPn+hoNW3K01O9jooCPz/IzVWBQ5kyantGhnovIADS0tR7+dOnrl1T06ScnNTrq1ehfPnir3vunMqQ5GcmHBzU1LCYGLC3B1tbmDxZTTHT6dS5Y2LU2Bwc4N//VpmRL79U2Z/ExAdvv3lTHe/tre7VzU0FTjVqqPN9/LGapvb557BsWeGsE6jzHT2qMjP3Pk6dKrxfXh4sXqzO36GD+rxABUBPoIhfMjBCCCGEEOL5c/06+PqqzAWoupQKFdSUrtxccHdXAURCggpUKlSAuDg1LSs/YLl8WQU61tbq9bVr0KNH8ddNT1eBCqhznT8P/v6qrsbPT13j6FE1zax8eRVoWVmpIESnU+MYNUplTiZNUlO6OnUqenturqqt6dBBXS8vT23LH2/duipjc+oUfPGFmkbn41Mw1vwpZKmphe/B07NwDcylS7BunTrX5MlqzLduwdq1qiboMZMARgghhBBCPH/On4f27dXz/ML65s1VQKPXqx/h1tbwww9qm4uLKnj391fHZGergOWll1RgkZGhfvDfWwRflKpVVXDh6wsnTqh6ks8+U+P5v/9TwYqpqcq6mJmpjl7p6WBhoVosOzqq2pjUVBWM2NvDt98Wvd3ZWbUz3rdPZUfWrlUZo65dVa1Kw4ZQqZKqrTExARubwmN1doZ33nn4Z+njA4sWFbyeORM6doSXX/7DX8efIQGMEEIIIYR4/lhaFnQLy84u6Jrl6qoCiR071A/zKlVUpgRUkFK3bsExNjYqAACVOalVS03nKk7XrrBqFSxdqrIjw4ap4MPaWgVHjo4weLAqwvfwUDUlaWkQGgpt2qiAZP58Nf5XXlFBSLlyRW83M1MZkM2b1fMqVVQ2xsZG1cls26a6p9nZqVoXF5fCY/2jBfj29gVZJVD30KyZGv8ToNM0WepTCCGEEEII8WyQDIwQQgghhBCPg16vsh0JCfe/Z2uruoE5O//94/qHkQyMEEIIIYQQ4pkhbZSFEEIIIYQQzwwJYIQQQgghhBDPDAlghBBCCCGEEM8MCWCEEEIIIYQQzwwJYIQQQgghhBDPDAlghBBCCCGEEM8MCWCEEEIIIYQQzwxZyFIIIYQQQjxXUlJSuHTpkvF1qVKl8PPze4ojEn+GBDBCCCGEEOK5kJWVxaxZs1i1ahXR0dHG7XPnzpUA5hkiAYwQQgghhHguLFmyhM8//xxLS0saNGiATqd72kMSf4FO0zTtaQ9CCCGEEEKIJy0wMBBN0/j111/x9/cv9J4EM88OKeIXQgghhBD/eCdPnuTSpUu89NJLlC9fHp1OV+ghnh0SwAghhBBCiH+8M2fOYDAYaNCgwdMeinhEEsAIIYQQQoh/vKioKAA8PT2f8kjEo5IARgghhBBC/OPFxsYC4Ojo+JRHIh6VBDBCCCGEEOIfLzMzEwBzc/OnPJKnZ/Xq1XzwwQc86z28JIARQgghhMiXkwN798KdO09vDOnpsGsXHDwI0dFw6tSjnS8tDXbuhLs/4MWTt3nzZqZOnUpeXt7THkohd+7cISIi4rGcKz09nS+//BIXFxfatWv3twZFsg6MEEIIIZ4fO3bAypVgbw+mpmBjAw0aQOPG4OQEBgNcvQp+fuDm9nTGePYsHDumAo+kJGjWDKpX/+vnS0yEhQuhalWwtn5swxRFMxgMBAcHc+fOnRKX6Xj99dfp27fvI5/n6tWrfPDBB9y5cwdLS8vHMLI/RwIYIYQQQjw/EhNBp4M33wS9HuLjYdUqCA2FDz4AW1t4/fWnO8aqVaFWLRVgJSSowEr8beLi4li/fj3nzp3D2dmZjh07UqdOHeP7eXl5rF+/nqNHj5Kenk6FChXo1q0bPj4+5ObmMnHiRDZt2oSJiQn/+te/GDRoEHXq1CE3N5dDhw6xefNmMjMzKVeuHH379sXtnkA5Ly+PQ4cOsXHjRiwsLGjTpg0eHh4sXbqU3r17ExQUBKjpcCtXruT8+fPo9Xpq167N//3f/xnre86fP8/06dP573//y7Zt27h06RKTJ09m06ZNHD9+nMmTJxuveejQIYKDg4mNjaVUqVK0bduW+vXrF9ta+vDhw9ja2jJz5kx69OjxuL+Ch5IARgghhBDPF3t7eOEFFchoGtSsCe+/r7IzLVrAe+/BkCEqGzNjBrRqpaZxpaRAly5w8iRERkKpUvDZZ2q/Xbtg3TowMVGvBw2CunVhzhyIi1NByK1bkJWlzu/rC7NmQViYGpOlJbz1FgQGwv798NNParumQdeu8PLLkJcH69ercZqYqACnf3+oV0/dS76sLJVl2rEDvLygQoWC9+Li4Ouv1b0YDFC5MrzxBjg4/H2ffwl2+fJlWrVqhaenJ7Vq1eLo0aPMnj2bTz/9lBEjRpCUlMSbb77JoUOHaNOmDfb29ixdupTp06ezdu1aqlevTqlSpQCws7PDz88PW1tb0tPTee+991i3bh3dunXD1taWDRs2MG3aNFatWkWjRo3QNI0ZM2YwZswYOnXqRJkyZRgzZgxlypRh//79NG3alKCgIC5fvkzv3r3JycmhVatWmJmZ8eWXX/LNN9/www8/UKFCBeLi4pg/fz55eXmcPn3auGjnwYMHWbt2LZMnTyYvL485c+YwZswYWrdujb+/P6GhocyaNYtx48YxbNiwBwYxXbt2pU+fPn/b9/J7EsAIIYQQ4vml04Gzs5qideaMCmDymZioupHy5VXg8tVXKoCYPFllRsaMUTUqWVmwdCmMHQuOjnDpEnz7LZQrp84RHa2yOm5uMGGCqrFp0wZ++00d4+0NISFw44YKYC5fhoEDVeBx+LC6ZoMGcO0abN0K//kPlC4N+/bB9OmwbJkKZvJduwYbN6r3bGxgwwYVCAFERKigpX179fq99+D0aTWF7jmXlZXF119/jaurK0uWLKFy5cqkpqYyatQoli1bxrBhw4iJieHWrVtMmDCBvn37YmZmRmhoKD169GDDhg3UqlWLV199lXXr1uHt7c27776Lubk5GzZsYOPGjXzxxRcMHDgQU1NT7ty5Q7t27ZgyZQr16tXj9u3bLF68mHbt2rFo0SJsbGyIiYmhbdu2ZGRkAKBpGnPnzuXq1ascPnyYihUrotPp6Nq1K6+++ioLFixg0qRJmN799yElJYVVq1bh7u5+3/2mpKRw4sQJBgwYwMSJE3FyciI5OZlu3brx3XffMWzYsAd+VtZPeSqiBDBCCCGEEA4OcHedkEIcHaFKFZW1KV0a7OzAxUUFJo6OkJwM4eGq6P/77wuyOteuqfoVnU4FQH5+6rmvr5q2Zmur9tuyBZo3h9atwezuz7KOHWH7dlV4n5CgzpOWBhcvqmtXrarOVbu2qm1JSFDZoHxXroCPT8E1mzRRwRKobFNkpAq4cnLUuZ9mw4ISJC4ujkOHDtG0aVMqVaqETqfDwcGB8ePHc+fuZ1S5cmV+++03dDodZne/r8qVK+Po6MjNmzcfeO7t27djb29Px44djceVKlWKLl26sGDBAm7evMmNGzeIi4vjP//5DzY2Nuh0Ory8vOjdu7dxyldGRga7d++mUaNGxjEC1K9fn4CAAHbs2FHouq1btyYgIKDIMbm4uLBw4UJyc3ONdSyOjo4EBgayYsUKNE0rdhrZ0yQBjBBCCCGeb5qmMhOlS9//nokJ5LfdNTEBKyv1XKdTrzVNdQ0rUwYGDCiYyjVwoNoGqnA+f3v+MTY2MHcuBAfD6tVqWteQIWra2ciR0KsXvPYa3LwJixapYzMz1XH55zIzU1PP7v513igzs3Cxfv7zvDyVlYmNVWN1dlbZoRJWaP60ZGRkEBcXh7e3NyYmBY16PT09jYtfpqWlsWTJEubPn09CQoIx0xEdHU31YhotREREcOXKFeNUrnt5eHgQHx9PYmIioAKbewOHgIAArO7+excfH09aWhrlypUrdA5TU1PKlCnD2bNnC20vX778A8eUl5fHnj17mDhxIpcvX8bExAQTE5NC91VSSQAjhBBCiOeXpqmalitXYMSIv3YOb2+VxfDxUQFFTo4KiIr7EZiergKKV19VNS4bN6qHp6fK9rRqBe7uajpaZqYap7u7ajaQkwMWFpCaqoKX33dLc3WF27dVjYuJCVy/rrZnZqoOa716qRqgzEyIiflr9/wPpNPpMDU1JTc394H7rF27ltGjR/Pxxx/ToUMHrK2tycjIoFevXsWe28LCgvLly7NixYr7unaZmZnh5+dH1N0MoMFgKPS+Xq83djMzNTVFp9MVOcbc3Nz71rgpLhC5dOkSb7zxBrVq1WLNmjW4ubmh0+kYN24cmzZtKvZ+njYJYIQQQgjxfImPh927VReymzfVNK5WrVTnr7+yVkrlyiqbsWCByqCEhKjMxn//++Bjbt+GTz6BPn3U9K/z59U/PT1Vp7SQEDWtbf9+Nc6zZ9X0r/XrVYF+UJAKeOrUUVmZe1WooKa2/fADeHioBgOaprJHHh5w4IA65sABdc0LF9RUsue825mtrS3u7u5ERESQk5ODhYUFAGFhYfz222/07duXHTt24OTkxAcffGCcCnbx4kWys7OLPXf58uU5ffo0rq6uhbIw+YGJTqfD6e7nn99+OT8Lc+nSJeP5XV1dcXR05MqVK4XOn5uby40bN+7LzBTnzJkzXL9+nR9//JF69eoBKitz5xmYUigLWQohhBDi+eHvrwKOQ4fg6FGVzZg4UbVVNjNT08WaNFFZDTc39Ty/NiUwUNWfgMqANGmiAhdXVzU1y9ZWFeiXKqWCE2vrwsfkn6NaNShbVrVtjohQx9SvD+++q843bpyqobl+HUaPVtO9wsNVcDNhggpGduxQ3cc+/PD+e/T1VQ0HYmPVcYMHq+YEDg6qAYCbmwqQXnlFdV9zcFAB1XPOw8ODdu3asXXrVnbs2IFer+fWrVuMGjWKadOmYWVlhaOjI2lpady+fRtN07h9+zbTp08nKSmJhIQEAExMTDA3NycxMZGMjAz0ej1dunQhKyuL6dOnk5GRgaZpREdH06ZNG4YNG4Zer6dKlSp4enqyfPlykpOTMRgMnDlzhiVLlhintFlaWtKnTx/27dvHzp07ycvLw2AwsGrVKq5cufKnOoPZ29uj0+mIiIjAYDCQmZnJ9OnTuXHjBpmZmWQWE8zn5OSQlZVFVlYWmqZhMBiMr3Nzc5/4+jc6raStsCOEEEIIIcRjNnToUObNm8eRI0eoW7dukfvExcXRv39/IiIicHJyIj09HTMzM8aNG0f79u05cOAAgwYNwtbWFh8fHzIyMujZsycnT55k1apV9O/fn48++og5c+Ywa9Ys/P39GTVqFN26dePbb79lzpw5uLm5YWtrS0JCAlZWVnz11Vc0bNgQTdNYsmQJn332GR4eHri7u5OTk0P9+vVZvHgxCxcupE2bNsTFxTFmzBj279+Pr68vmqYRGRlJs2bNmDhxIs7Ozuzfv58mTZqwe/dumjVrZry/kSNHsnbtWqKiooiJieGNN94gLCyMwMBA9Ho9lSpVolatWowcOZK6desyY8YMqlSpct/nNHz4cA4cOACo1tOmpqaUK1cOnU7HoEGDGDFixBNtACBTyIQQQgghhEAV0K9evZqQkBAiIyOxtbWldu3axk5eL774Ij/99BOhoaGYmppSsWJF6tatS2xsLI0bN8bJyQlHR0dGjRpFYGAgubm51K1bF3Nzc9555x1at27NiRMnyMnJwcXFhYYNGxoXstTpdPTt25fq1atz+vRprK2tqVOnDqdOnWLJkiWFupfNnj2bffv2ERkZiaZpVKpUiZo1axqL/QMCApg7dy4VK1YsdH+9evUyThfz8vJi8eLF7N69m4yMDLy9vWnatCmaplGqVCni4+OLbL8M0KFDB+Oimr9Xs2bNR/8iHkIyMEIIIYQQ4h/vj2Rgnia9Xs+vv/5KXl4eXbp0MWYwxo8fz4IFC9iyZUuR2ZDnkWRghBBCCCGEeMp0Oh07d+5k+fLlZGZm8sILL3Dt2jXmzZtHy5YtH7iey/NIAhghhBBCCCGeMhMTEz766CNsbW0ZM2YMycnJ2Nra0rNnT0aNGmXsiiYkgBFCCCGEKCwjQ7UYTk0tvN3UFGrXLligsii3bqkuZL9bj+Oh/upx4h/Fw8ODiRMnMnHixKc9lBJN2igLIYQQQtwrORnmzoVz5yAysvCjuHViMjJg4UK1jsu9NK341e4NBpg5U133j3rYOcUzSafTPfAhCkgGRgghhBCiKP36qfVafs9ggNBQtZaKpkGDBmpNlu++g8OHITsbhg2DPXvUopKHD0OHDvDbb9CmjVrPBeDbb6F1a7X9yBEV/AwYAJs2qTVafH3V+VesUOvEmJmpzJC/v1o/pksXFSz9+iukpED58uo6ZmZqDZmdO6FHD7C3/xs/NCGePMnACCGEEEL8Gfv3qwxNjRrq8cMPcOyYeu7iAu3aqZXut2+HlSshKEgFFXv2qBXv8wUHq4xO9erg5KQWm3RyUoFH/mromgb79kFMDCQkwNq1agHOqlVVxmb8eLX4ZcOGcPAgzJkDer06Li/vqXw8QjxpkoERQgghhCjKF1+AtXXB61KlYMQIlWExMwNvb5VNeeEFsLKCqCi1v78/WFqqTE2LFtC0qQo+imJqCl5ean9fX3WeB9HpwM4OOnZUmaHcXHjnHTUWvV6N49gxFRT5+cHgwWAif6sWBW7cuEFSUhLVqlV7pqelSQAjhBBCCFGU7t1VcJHPwkJlVurVg4sX4dNPVVDTtCm0b3//8ZaW4O6uAo/HxdoaXF3VOZOTYfFiVfjv5QXR0SqQMRjU+6amj++64k+JjIzk9u3b1KhRA5MSFEROmTKFtWvXEhUV9cjnio6OZuXKlURERGBjY0OrVq146aWX/pZuaSXnExVCCCGEKEkqVoRq1QoelSqpYMHREYYPh+XL4fXX1VSwjRvvP16nK8iA6HTqcW/h/YMaAty7X06OCkqKOuehQ6pT2hdfqMxQ48aPfs/ikWmaxsKFC5k2bRr6e7+7EmDUqFFs3rz5kc/zyy+/UKNGDZYvX05CQgLnzp2jY8eODB06lIyMjMcw0uJJBkYIIYQQoijx8YWnkIHKwOzdqzqONWsGpUurtsrp6SrjoddDXJza717m5qqYPjwcfHzg0iVIS1PvmZlBVpaaZubsrDIs4eFQuTKcPVu4buZelpbqeomJap+jR9V50tNVoHPrlprOJq2Z/5Ts7GwiIyNJSUnBwsICLy8vXFxcjO8bDAaioqJITEwkLy8POzs7ypQpg42NDQaDgTNnzhASEgLAiRMnCAgIwMXFBYPBQHx8PNHR0ej1emxtbfHz88PS0rLQuePj47l16xYmJiZ4enpiZWVFREQEPj4+ODk5AaDX67lx4wYpKSlomoazszPe3t6Y3/2uU1JSuHz5MoGBgcTExJCWlmacNvb7jFB8fDwxMTFkZ2djaWmJp6cnLi4uD5xilpyczKRJkyhTpgwbN27E3d2drKwsxo4dy8qVKzl27BhNmjR5rN/J70kAI4QQQghRlAkT1LSxe3XsCI0awfz5sGOHyoa4u6tuYs7Oqgh/yhR4//3Cx9naQufOsGyZagJQtqwKZDRNFf47OsLs2TByJHTrpor/jx5VWSAnJzUt7Pdq1oRt2+Djj1U9Tvv2MGkSrF+vupbNmAFTp6ppbuIP0ev1fPrpp6xZs4aYmBgsLS1p2rQpkyZNonLlyhgMBtatW8f48eO5efMmBoMBBwcHunXrxrhx47CysuLDDz9kz549mJqa0r9/f6ZOnUr79u3ZtWsX48eP5/z58wBYWlry2muv8dFHHxkDkzNnzvDuu+8SGhqKg4MDAQEB9OnThy+++II5c+bQrl07MjMzmT9/PrNmzTIGMK6urgwYMID//Oc/WFpacvToUVq2bMnChQv56quvSExMJDo6+r4pZGFhYQwfPpzTp0+Tl5eHTqejUaNGfPXVVwQGBhYZxGiaxptvvknZsmUpXbo0Op0OCwsLWrRowYoVK4iNjX3yX5QmhBBCCCEKGAyP9/Gw8/6Va/6ZY4SmaZo2ZMgQDdCOHDlS5Pt5eXna119/rZUqVUpbt26dlpeXp507d06rXbu2VrduXU2v12tnz57V3NzctLfeektLTk7WDAaDtnjxYs3V1VWbPn26ZjAYtDt37mjNmzfXXnvtNS0nJ0czGAza8ePHNT8/P23QoEFaenq6lpeXp+3du1dzc3PT3n//fc1gMGhpaWnaSy+9pFWsWFGLiIjQcnNztW3btmllypTR3NzctC1btmiapmnfffedZm5uri1dulTLzs7W9Hq9NmPGDM3NzU2bN2+eZjAYtL1792qA1rx5c23VqlXauXPnNIPBoI0YMULz8vLSDAaDlpCQoL388sta7dq1tYsXL2oGg0E7c+aMVrlyZa1t27aaoZh/dwwGg/GRb9KkSZqvr6928uTJx/vFFUFqYIQQQggh7pVfr/K4Hg8771+55p85RvwhCQkJbNy4kZYtW9K2bVtMTU2pUqUKkydPplevXuTl5eHn58fGjRsZO3YsDg4O6HQ6OnTogLu7O2fOnAG4L2uh0+n4+eefAVWDYm1tjampKU2aNKF3795s3ryZuLg4wsLCuHLlCoMGDcLX1xczMzNat25N+/btyc3NBSA3N5eVK1cSFBREnz59sLCwwMTEhIEDB1K2bFnWr19faAxNmzalR48eVKlS5b5x2draMnXqVJYsWUJAQAA6nY4XXniBhg0bcuLECbRiFkq9d4FNvV7PkSNHmD17Nq+++ipVqlR5PF9IMWQKmRBCCCGEeO4lJydz/fp1mjdvjvU9tU8tW7akZcuWAFhYWFC+fHl+/PFHrl27RkZGBrm5ucTGxpKVlfXAc58+fZqUlBS+/vrrQl26zp49S2JiIlFRUcTExJCXl2cMJgDjlK5169YBGGtoGjZsiOk9Xebs7e3x9/fn8OHDha5bp06dQvvdy8LCgooVK7Ju3TqWL19OUlISmqZx5MiRYu/l97Zs2cLIkSNp164do0ePNtbhPEkSwAghhBBCiOdeXl6esZD9QQ4dOkT37t3x9fWldevW+Pv7k5eXR3BwcLHnzszMxMzMDFdX10IBRePGjXnllVdwdnYmPDwc4L42xLa2tsagICcnh7y8PGx+3yQCsLa2JjMzs1DmxM7O7oFjun37Nn369OHy5ct07tyZwMBAzM3NuXz5MpGRkcXeD6hs0Pjx41myZAnDhw/ngw8+eOgxj4sEMEIIIYQQ4rlnZWWFk5MTsbGxGAwGY7eulJQU4uLi8PPzY9WqVaSmprJmzRpjAXt0dDTz5s0r9tz5ncxGjx5NqXuaKuQHGzqdjgsXLqBpGmlpaWiaZszC5HcIA3BwcMDa2pro6OhC5zcYDNy+fRsPD48/vEDlsWPH2LNnD8uXL6d79+6YmZlhMBg4dOgQJ06cKPbY9PR0pk2bxqpVq/j666/p3Lnz37owptTACCGEEEKIYmVnZ/Ptt98yZMgQTp8+XeQ+ly5dYsiQIcyaNetPTUEqKVxdXalcuTJHjx4lLi7OuH3+/Pm0b9+erKws4uLicHJyMgYvADt27CAyMrLQmi86nQ6DwYDhbve4F198kYSEBI4cOVIoQ/Ljjz+yYsUK9Ho9Pj4+WFlZcerUKeP7BoOB9evXG8/t6OhIUFAQ+/fvJz093bjf9evXuXz5Mo3/xFpAiYmJ6PV6KlWqhJmZymlcunSJQ4cOPXT9mpUrVzJ16lRmz55N9+7di81aPQmSgRFCCCGEEMWysLBA0zTmz5+PpmnMmzfvvr+4L126lPnz5zNlypS//QftwxgMBvR6PWZmZg+sCbGzs2PMmDG0b9+eAQMG0LlzZy5fvsyyZct48803sbW1pXXr1qxdu5aPPvqI6tWrc/bsWaKjo6lVqxYHDx5k69at1KtXycK81wAAIABJREFUD09PTw4ePMiMGTNo2bIl3bp1Y/PmzQwePJjRo0fj5ubG6dOn+e6775gwYQImJiZUrlyZtm3bMn36dBwdHSldujTBwcGYm5sbp4zpdDpGjx7NkSNH6Ny5M3379sXExIRvv/0WW1tbRowY8Yc/kxo1auDl5cXHH3/Ma6+9RkJCAr/++isdOnRg+vTpzJ07l+7du+Pu7l7ouKtXrzJp0iQqVKjAmTNnOHv2bKH3GzRowIsvvvhEMzISwAghhBBCPGs0DW7eVGvEmJioRTd9fZ9Y1zGdTkfXrl15//332bt3L5GRkfj4+BjfT0lJYfv27VhYWNCtW7e/dTrRH5Gbm0tGRgZOTk5YWVkVuY9Op6NevXqsW7eOZcuWsWzZMpycnJg4cSK9evUCoFu3bqSmpvLTTz9x+vRp6tSpw6RJkzhz5gyTJ09my5Yt1KtXj3fffZf4+Hg2b95M5cqVqVmzJjNnzuTHH39k27ZtZGdn4+7uzrJly2jZsiU6nQ5TU1M+++wzvL292bp1Ky4uLrRr1w57e3vee+8945S2KlWqsGHDBmbNmsXy5cvRNI2XXnqJvn37GtdusbOzo1atWtjb2xe6Rx8fH4KCggCoUKECCxcuZNasWSxatIjy5cszefJkHBwcSEhI4Oeff6Z58+b3BTCpqan4+/uTkJDAypUr7/scbWxsePHFFx/5OyuOTiuuR5oQQgghhHiw+HjIyoLSpf/a8ZoGly+r4OMBP6yLlJ0N//oX9O8PpqYQHKwWtDR5stUBnTp1Ijg4mEWLFtG7d29joLJ37166devGCy+8wO7du0tcAJOWlkbfvn05d+4c27Ztw9/f/2kPqUgGg4GcnBwsLS2Nn+HSpUsZM2YMa9asoWHDhk95hCWD1MAIIYQQQvxVy5bB3fU//pL4eJg06c8HHrdugcEAZcpAvXrw3/8+8eAFoF+/fpiYmLB8+fJC27du3UpKSgr9+/d/4mP4KxISErh06RJeXl73ZSVKitzcXLp06ULt2rWJiopC0zTi4uJYuHAhPj4+f8v6Ks8KmUImhBBCCJGaCjt2wMmToNdD5crQs6cKCr77Tr1u3lztO3u2ep2YCJs2qQyKhwds3qy2R0erR4MG0LYt3LkDCxfCwIEqU3P7NkyeDKNGwZw5cP06TJ8OgweDi0vR48vKgjVr4NIlsLGBSpXU2NzdYepUaNQI6tSB0aPV84sXVWama1c4fhxOn4YaNaBLFzD76z//GjZsiL+/P7t27SImJgYvLy/0ej0bN26kdOnSNGnSxFjAPnHiRDZu3EidOnWYOXNmkeuD5Obm0qlTJ27fvs37779Pz549H3v2Jisri19++YUrV67Qpk0bXB70GT9l5ubmjBw5kvfee4+OHTvi7OxMSkoKOTk5fPnllzg5OT3tIZYYEsAIIYQQQvz4I5w9C0OGqOlZ33wD3t5QuzacOqWyHPkOH1av/f3Bzg7efFMFFJ98ooKDV19VGZI5cyAwEJKTISICHBzU8UlJcPUqlCoFZctCTg4MGACOjkWPTdNUoHTkiBpfTg6MHw9VqqhpZyEh0KaNuubJk9C4MQwaBOPGwdy50KcPlC+vnr/4osra/EXe3t60aNGCs2fPsn79eoYPH86FCxcICwujZ8+elC9f3rjv9evXOXHiBLGxsQwZMoSaNWved77Q0FCCg4MxGAyFOn89qhMnTrBkyRKysrJISkpi165d5Obm8tJLLz2wiL8kaNGiBb/++iuHDh0iOTkZOzs76tWrh6+v79MeWokiAYwQQgghnm83bsCBA/DeeyoQAahVS2UuKlSAqCioWFFtz85WAYm7u8qy+Pio4CArSxXQv/qqqmdxdgZzc4iLUxkXR0cV7IAKXsqVU8HOrVsqM1Kq1IML8O/cgY0b4aOPVNACKgipVElljvLyVDH/2bNQrRq8/LK6lrU11K+v7uX6dZWxudvW91H07duXRYsWsWHDBnr37s2qVaswNTVlwIABxkLzfJUqVSIpKYl169ZRo0aNQtmV7OxsFixYQMWKFR9r8AKwa9cu5s6dS05OTqHtbm5uj/U6j5tOp8Pb25tu3bo97aGUaFIDI4QQQojnW2Sk+nFfrpwKIgwGSEkBe3s1TczCoiD4CA8HV1f1+soVlaWxsVHTyMqWVYELqOM1TZ3j2rWCc4Pat0IFFXjExqppZcVNm0pOVoFQxYpqP51OjSsgQI3Bw6NgPBUrgq1tQZeyKlXU/rGx6h7vWUTxrypfvjwNGjTg+PHjxsUQq1atSrVq1e7b18nJiUaNGrFq1SrjYoz5rl+/zu7du2nevPkDO4P9VYMHDyYkJITQ0FBCQ0NZv3497u7uzJ07t9D6KeLZJAGMEEIIIZ5v2dnqB39+jUZKipryVb26ys7kdxjTNJWV8fRUQUt4uMq+mJqq2hRr64JzRESowMHHpyCAyb9WWBj4+anMSl4eeHkVP76sLJWtya9duXNHPTw8VDDk5aWue+OGCox0OsjIgNxclZkBlS1ycVFjfETOzs60b9+exMREFi9ezPHjx2nevDmenp737WswGOjatStRUVHs3bu30Ht79+4lNjaWTp06GRd8fFycnJyoUaMGderUoU6dOjRq1IiAgAAuXLhASkrKY72W+PtJACOEEEKI51tAgApOtmxRwcaaNSqLUa+eCk5SU1UAcOiQmsrl76+yNHfuqODizh0VSMTGqjqVCxdgxQpo3VrVvZiaQkyMOseqVep5mTKQkACZmeq44la1sLNT1wsJUfU4s2apTIqdnQqcKlaE9HSVSQoMVMdcvKgCm/y6m4sXC6bHPSKdTkffvn2xtbVl9erVZGZmMnDgQONq7r9XvXp1GjduzMKFC8nIyAAgPT2dJUuW0LNnz79lWpelpSWOjo7ExMSQmpr6xK8nniwJYIQQQgjxfCtdGt56C44ehUWLVAbjo4/UP+vUUUHBd9+pKVl16sALL6ji+aZNVUBx9aqqZenRA0JDVWvlpk2hQwd1jtdeU4HR0qXg5qZqUry81HUrVYJdu4ofn7c3DB8O69bB7t1QtaqqmzE3B0tLNU0sL0/V5eRnc5KTIShIBWKgAqCqVR/bR+bm5kabNm0AFaAU1+LX2dmZLl26sG/fPq5evQpASEgIt27domvXro9tTMWxsLDA1taWtLS0++pinoSMjAwSExMpacstfv3117Rp0+aRx6VpGmlpaYSFhXH8+HFOnz5NbGzsY8+kPYgU8QshhBDi+WZioloeN2hw/3ulSsEHHxR9XLdu6hEZqQr1W7RQQcvv1a2rHvnu3efjjx8+PgsLdUxR537//YLn//tfwfPmzQvaPoMKyB6zJk2asGHDBnr06FFsZy+dTkfPnj15//332bp1K9WqVWPTpk04OTnRpEkTwsPDH/vYfs/MzAwbGxsyMzPJzc194tf7+eefOXfuHJ999tkDM1NPQ5kyZYqsVfqzrl27xieffML27dtJTEzEysqKoKAgRo8eTadOnR7DSItXcj5RIURhOTmqVWeVKuovdk9DerqasmBtrYpT4+LUX/T+qrQ0db6GDR/LPGwhhCgR7txRNTF/9b9rERHw229Fv1elSuHgp4QwGAysWbOG0qVL06VLl4fu7+bmxquvvsrKlSvp06cP33//PWPGjPnb1jYxMzPD2tqa7Oxs8vLynui18vLy2LlzJ5mZmSUuA9O7d2969+79SOdISUlh8ODBREdHs2HDBoKCgoiKiuLtt99mxIgRlC9fnqqPMdtXFAlghHhaduyAlStVhxpTU/U/vwYNVP9+JyeV7r96VRV6Pq0A5uxZOHZMBR5JSdCs2aMFMImJajG3atUkgBFC/HMEBMCXX/7148uWVY9nRG5uLmvWrCEkJIRBgwZRsWLFhy4+qdPp6Nq1K3v27GHatGlYWVnx8ssvP/ZFK4u7/h+haRr79u1j+fLlnD9/HicnJ7p06UKPHj2wt7cHVPe0b7/9luPHj5OZmUm5cuXo27cvLVq0QNM0hgwZwi+//IKJiQlt27bl448/pnnz5ty6dYsffviBbdu2kZ2dTZkyZXjrrbeoX78+FhYWACQkJLB8+XI2btyIlZUVrVu3pkaNGkydOpXRo0fTuHFj9Ho9YWFhzJkzh8uXL6PX6wkKCqJv377UrFkTU1NTQkJCGD58OLNnz+b777/nypUrbN26lSlTprBz5062bNkCqGDk+++/Z/v27cTHx+Pk5ETHjh3p3bs3Dg4ORX5uycnJBAUFMWLECBo1aoROp8PBwYG33nqLf//731y7dk0CGCH+sRIT1dzoN99Uqz7Hx6viztBQNV3B1hZef/3pjrFqVTVX29RUFZvKKsBCCHE/O7uCNsv/YPHx8Wzbto0zZ86waNEifH19eeedd/7wFKnGjRvj5ubGwoULadOmTaFFL0uKo0eP0r17dxo3bky/fv0ICwvjww8/JDw8nPHjx3P79m0GDx5MZGQkQ4cOxdnZmR9++IHXX3+dlStX0qRJE7p06cKxY8dwdnZm+PDhVKxYkaSkJEaMGMGxY8f44IMPsLW1ZefOnXTt2pWlS5fSrl07NE1jypQpxmDF39+fLVu2sGnTJi5cuEBaWhoAZ86coXv37vj6+vLaa69hbm7OggUL2Lx5M6tXr6ZWrVpkZWVx7NgxpkyZQkZGhnER0Zs3b3L69GkAcnJymDJlCjNnzuStt97ihRde4OjRo4wZM4bbt2/z3//+t8jPyMfHhxkzZty3/datW1hYWODh4fGEvp0CEsAI8TQ5OKhiUJ1OdaCpWVPNZ96xQ82lHjUK3n5bBTgzZ6ptp0+rFp9duqgVlyMj1Rztzz5TWZtdu1ShZ/6CZYMHq6LTOXPUFDAnJ1VsmpWlFm3z9VUdbcLC1JgsLVUxa2Ag7N8PP/2ktmsadO2qFkjLy1PX2LlTXcfUFPr3Vx177v1rTVaWyjLt2KEKSytUKHgvLg6++kp19zEYoHJleOONgo45QgghSpTIyEhef/11zMzMqFatGrNnz37oX9oNBoNxGpWDgwP9+vVjxIgRDBo0COsSlolPS0tj4sSJBAUFsWDBApzvrunj6elJcHAweXl5pKenU65cOcaOHUvjxo0BaNGiBS1btmT9+vW89NJLxkDN29ubDh06YG5uzvz58zl48CArVqyg+d3apP79+9OxY0cmTpxI8+bNiYyMZPXq1bz11lt8/vnnxn1atmxpXLtG0zQmT55MRkYGmzZtwsbGBoDmzZvTqlUrZs6cyaJFi4w1SQ4ODnz//fdFrrOTkZGBmZkZEyZMYMiQIZiZmdGvXz+io6NZvHjxAwOYe23bto39+/dz7tw5oqKimDhxIvXq1XvEb+LhJIARoqTQ6dQCaEFBcOaMClbymZioVpsVKqgg4quvYP16mDxZZUY++ki15czMVF1uxo5Vqz5fuqQCl6+/VueIjlZZHTc3mDAB9u2DV15Rc6/HjlWdbkJC1FoCgYGqLejAgeq6hw+razZooLrpbNsG//mP6qKzbx9Mn64679xbyHn1qmo5On26miK3YUNBq9DwcHWN9u3V61Gj1H03avQ3feBCCCH+jIoVK3L48GFMTU1xd3fHw8PjgVOzdDodtWrV4sCBA2RlZRm39evXjwYNGlCtWjXjsZUrV2bLli1FriPzd7pz5w5hYWF06NABZ2dn4/jeeecdBg0ahKmpKeXKlWPGjBlERkZy6tQp9Hq9sTV0UlLSA8998OBBrKys0DSN48ePG7cHBASwYcMGIiIiiIyMJCMjg/r16wPq89LpdHTr1o1Tp04Zr3Hu3DkaNWqEjY2NcYylS5cmICCAkJCQQtdt0aLFAwNFJycnPv74Y27cuMH58+eNzQ1MTU1JSkpC07SHTr07ceIEv/zyC+np6Xh4eODi4kJubq5xStyTIgGMECWNo6MKNH7PwUH94Le3V0GDnZ1alMzERGVVkpJUUHDnjgokQAUL166p6Wqg5mn7+algyddXTVvLX7F561ZV49K6dcFiaR07wvbtKtOSkKCukZam1hNwcVFTzHQ6qF1b1bYkJBRe5fnqVbWIW/41GzcuKFStVUtlj5YuVQ0LkpLU2IUQQpRI1tbWxqlID5OcnMyvv/7KxYsX2bZtG0OHDgXA0dGROnXqFNrXxsaGoEepr3xMsrKySEpKwtXVtdAPdzs7O+zuThFMSEhgwoQJrFu3zlj7ASo7VVzBfmxsLDdv3qR79+73vVeqVCnS0tKM69M4OjoWur6Xl5cxg5KamkpmZuZ9wZ6JiQmlSpUiNDS00Di8ilkkNScnhxUrVjB16lQSExNxdnbGzMyMqKioP9x84MMPP+S9994jJiaGr776iqFDh7J06VJatmz5ROubZB0YIUoSTVNBiLf3/e+ZmBSs8GxiotYgABUY5E9BS0tTi6P17w8DBqjsyeLFKoAAdUz+f1Dyj7Gxgblz1crSq1er9Qp27VJTu0aOVAHOa69Bp05qX1ArPNvaFpzL1FRNPbv7VyijjIzCxfr5x+fmqqzM4cMqAzNokBpjCevWIoQQ4q/ZuXMnwcHBaJrGjBkzuHXr1tMe0kOZmZlhaWlpnK5VlHnz5jFz5kzmzZvH1atXOXXqFPv27SMgIKDYc9vZ2REYGEhkZCQJCQmFHhcvXqROnTrGWqLfd0nLysoybrOwsMDMzKzIMWZkZBTKyoAKbB7kxIkTjBgxgvbt23Pp0iXOnDnDiRMn6NmzZ7H3kpGRwfXr1401OWZmZpQpU4Z3330XGxsbfvnll2KPfxwkgBGipNA0VdNy5QrcTR//ad7eKqvi4wPly6t/6vWFp3X9Xnq6qmnp0wfGj4fOneHnn9WCbfb20KqVCi4yM1VNi6aBh4fKluQvBpaWpoKV33dLc3NTayNomnpcv662Z2aq7Ez79qoGyNlZTYGTAEYIIZ55qampzJkzx/ij++rVq/z4448lrqXw7zk6OuLn50dYWJjxxzlAcHAwQ4YMISUlhTNnzuDp6cnLL7+MqakpOp2Os2fPcufOnUL3p9Pp0DTNuC0oKIikpCQuXbpkfF+n03Hz5k1u3LgBgLu7OyYmJly/ft14nKZpHDx40Lj4ppubG6VLl+bkyZOFAp3k5GSuXr36p9Z4uXbtGunp6fTq1QtbW1t0Oh3JycmcOHGi2O8qNDSUrl27sn79+kL7paamkpOT87fUNkkAI8TTdOeOWlV5+3aVKfniC2jSRE2v+isCA9V0sgUL4MgRmDcPliwpCDSKcvu2ahywdatqmxwWpgIPT0819ezwYTXt68ABFeicO6eaDeQX6B8/DsuXq0YB+RmWfBUqqNWgf/hBZXW2b1dBipWVCoIOHFBd1+bOVVPPLl5U+wshhHhm7dixgyNHjhhf5+TkMHPmTOOP8JLKxcWFjh07snv3btatW0dubi4XL15k7NixHDt2DFtbW7y8vIiPj+fKlStomkZ4eDjffvstBoOBmJgYQNWQWFhYEBsbS2pqKnl5eXTo0AGdTsekSZNISUlB0zQuXbpE586dmTx5MpqmUblyZcqUKcOSJUu4ffs2er2eXbt2sWXLFszvzsAwMzOjb9++nD17ltWrV5OTk4PBYOC7774jMjKSXr16/eH7LVWqFCYmJoSGhqLX60lNTWXcuHHo9XrS09ONU9p+r1KlSmiaxoQJE9izZ48xeBo/fjzp6ek0bdr00b+Mh5AARoinxd9fdd46dAiOHlVBxsSJqq2ymZmaLta0Kbi6qoCiSZOCKWSVK6v6E1ArNDdtqrIYrq5qapatLezdq4KCTz5R07iqVCk4Bgpely2r2jZHRKhj6teHd99V5xs3TmVKrl+HDz9UU9OuXVPBzcSJKhjZsUN1H/vww/vv0ddXNRyIiVFT4wYPVs0JHBzg3/9W9xUSAm3aqCDK3h5iY5/0Jy+EEOIJ0ev1fPHFF4UyGKD+2r9gwYISnYUxNTVl1KhRvPHGG4wdOxYHBwfq16+Pm5sby5Ytw8TEhGHDhtGoUSPq1KmDv78/PXv25I033uC9994jJCSE9u3bk56eTpcuXThy5Ai+vr5899131KhRg4ULFxIdHY2/vz8eHh40a9aMmjVrMmbMGExMTHB0dGTq1KlYWFgQEBBAQECAsaWypaWlcWpY7969mTZtGuPGjcPPzw8vLy++//57PvvsM1599dU/XHtSr149/vWvf/HRRx/h5+dH3bp1KVu2LJMmTcLT05PAwECOHj1633EeHh4sW7aMatWq0aNHD1xdXalWrRrh4eFMmzaNNm3aPPH1fXRaSf43SQghhBBCPBM0TePXX3+lU6dOGAyG+96vW7cuGzZsoHTp0k9hdDB06FDmzZvHkSNHqFu37gP3y8rKIioqipSUFMzNzfH29sbFxQVQbaHj4+OJiorCxMQEV1dXvL29SU9PJzw8HCsrK8qWLYter+fy5csYDAZ8fHxwdnZG0zTi4+OJjo5Gr9djbW2Nj49PoboVvV5PdHQ0cXFxxmvv2LGDd999l+XLl9OsWTPjftevXyclJQUAV1dXvLy8jHU0aWlpXLhwgUqVKhkX4AS4ceMGSUlJxi5w+ePOzc3F3t4ev7s1sxEREWRkZFChQgVjq+Z7aZpGamoqkZGRZGVlGTvTubu7G1s4P0nShUwIIYQQQjyy5ORk5s6dW2TwAnDs2DGCg4N5/Wkv0vwQVlZWD1xkM7/bV6l7O26iivTvrT8xNze/rx5Fp9MVeWy+3NxcZsyYgcFg4L333jMGNcePH8fCwqJQ4Gdqaoq/v/8D78HOzu6+bm8Avr6++Pr6Gl/b2toWuZZPhXvXbStCfge2KlWqFLvfkyIBjBBCCCGEeGQ7d+5k27Zt2Nra8uKLL3Lx4kVu3rxJo0aNSE9P5+TJk/zvf/+jXbt2f8tq7c8aMzMz9Ho9n376KdHR0VSvXp3Lly8zc+ZMRo0a9dBOZ88TqYERQgghhBCPJDU11bjK/MaNG5k1axbu7u4ANGvWjF9++YWvvvoKc3Nzfv755xJdC/O06HQ63n77bb7//nvCw8NZtGgRp06dYs6cOYwaNeqJ15U8SyQDI4QQQgghHkl8fDzDhg2jYcOG2NjYFFr3xdTUlNKlS/P+++/Tq1cv46ry4n729vb07NnzoWuxPO8kgBGiJMvIUK2Gf9/K0NQUatdWi1Y+yK1bqgtZfueyP+qvHieEEOK55efnh5+f30OzBL6+vvj4+PxNoxL/VDKFTIiSLDlZrZFy7hxERhZ+ZGY++LiMDFi4EJKSCm/PX1DyQQwGmDnzz63F8rBzCiGE+MfLX5jxce8rRFEkAyPEs6B/f7jb2rAQg0EtBBkSooKIBg3UmizffacWoMzOhmHDYM8etajk4cPQsaN63aaNWs8F4NtvoXVrtWDlkSMq+BkwADZtgldeUeu5aBqsWKHWiTEzU5khf3+1fkyXLmrRy19+Udmi8uWhQwe13/XrsHMn9OwJdnZ/44cmhBBCiH8iycAI8Szbv19laGrUgOrVYfVqOHZMvXZxgXbtwMYGgoNh5UoIClLTz/bsKZxlCQ5WGZ3q1cHJSS026eSkAo/4eLWPpsG+fWpRyvh4WLtWLcBZtarK9Iwbp67ZsCEcPAhz5oBer4KsvDzJ0gghhHhuxMfHEx4eXuKaFYwcORJvb+/HOi5N0wgNDWX+/PnExMQ8tvMWRzIwQjwLJk4Ea+uC16VKwYgRKsNiZgbe3iqbUrUqWFlBVJTa398fLC1VENGyJTRtCgkJRV/DzEwFIJaWKttjZfXg8ZiYqGxKx45Qtizk5qrxmJmpoOWFF1QglZmp3h88WB0jhBBC/MNpmsbq1asJCwvjm2++wbwE1ZT27NmzyPVhHkV4eDjDhw8nNDSUKlWq4Jk/u+MJkgBGiGdBjx4F070ALCxUZqVePbhwAT79VAU1TZuqqVu/Z2Wl3n+cc46trcHVVZ0zORkWL1aF/15eEB2tAhlNU+//DavyCiGEECVBbm4uoaGh5OXlPe2h3Kdx48Y0btz4sZ1Pr9czffp0EhMTH9s5/wj5k6gQz4KKFaFatYJHpUoqWHB0hHfegeXLYeBANRXsp5/uP16nK5wB0ekKT+l6UEMAnU5lbwByclRQUtQ5Dx1StS9ffKEyMY/xP45CCCHE38VgMDBv3jxq166Nra0tXl5ejBw5kqioKDRNw2AwcODAAVq1aoWrqyt2dnZUqVKFb775hoyMDLKysnjllVdYuXIla9eupXz58mzcuBGAkydP0q9fPzw9PXF1daVKlSrMnz+f9PR04/XDw8MZOHAgzs7O+Pj40K9fP1atWkXZsmX59ddfAcjJyWHjxo00aNAAd3d33NzcaNKkCatXryY3NxdQi4rqdDo2bNjAiy++iJeXFwaD4b4pZJGRkQwaNAgfHx/s7e3x8vLi7bff5ubNm39omtmqVasIDg7mv//97+P+KoolGRghngV37tw/pcvGBvbuVR3HmjdXLZXLlIH0dJXx0OshLk7tdy8LC7C3h2vX1P6XLkFamnrPzAyystQ0MycnNaUsIgIqV4azZ+/vanbvOfV6VciflKRqY7KyCs5765aazlaC0uhCCCHEvQwGA+vWreOTTz5h2LBhzJ07lwsXLvD5558TFxfHypUruX79OkOGDKF06dKsX78eBwcHVq5cyaRJk/D29qZHjx588803DB06FHd3d7788kt8fHwIDw/n7bffxsrKivXr12Ntbc1vv/3Gxx9/TF5eHm+//Ta5ubl8+umnBAcHs3jxYnx9fdm+fTuTJ08mKysL07uzGXbs2MEbb7xBv379mDlzJubm5sydO5cPPvgAOzs72rdvb5y2tnDhQpo3b061atXu6/yWnp7Op59+yp49e/j6668JDAzk5MmTfPLJJ+j1eubNm1fs5xUTE8OECRMYNGgQNWvWfDJfygNIACPEs2DixPt//HfsCI0awbx5qthepwMPD3j5ZRV8ODnBlCnw/vuFj7O1hc6dYdky1QSgbFlfOKXfAAAgAElEQVTw8VEZGRcXldWZPVtlUrp3V8X/oaEqC+TkVHQxfq1aKvvz8ceqHqd9e5g0CdavV13LZsyAadPAze2JfURCCCHEo0hJSWHRokXUq1ePd999FwcHB+rWrUtOTg579uwhNzcXGxsbhg4dSrNmzahatSoAHh4ebNq0id9++42ePXvi6+uLjY0NDg4OVKxYEXNzcxYvXszNmzdZu3Yt9evXR6fTUbNmTUJCQli0aBF9+/bl5s2b7N27l0GDBtGpUyfjPocOHSIiIgJQ9TXz5s3D0dGRL774Aqu7f9wcP348+/btY/ny5bRv3x6TuzMk/P39GTt2LBYWFkXec9u2benSpQvt2rXD1NSUoKAggoOD2bp1a7GfVWZmJhMnTsTX15fBgwf/bcX7+SSAEaIk8/RU3b6K8+WXRW+fMqXg+dy5Bc9NTFTGpnnzgm1vvqn+qdPBokUF2ytUgGbNCl6//nrB83v/MlOqFEydWvj6a9YUPF+6tNhbEEIIIZ62+Ph4wsLCeO2117C3tzduHzRoEIMGDQLA3d2dvn37cujQIY4dO0Z2djbZ2dmkpaWR+vtFp+9x4MABDAYDISEhnD59utB7MTExhIeHExUVRXZ2NrVq1TK+p9Pp6Ny5M/v37wcgLi6Oy5cv06hRIywtLY37ubm5ERgYyJEjRwqdu0WLFg8MXmxtbenSpQshISGsXr2ajIwMNE0jNjaW1NRUNE174Ho9a9euZe3atezduxcXFxcJYIQQ93hSC30Vd96/ck1ZkEwIIcQzLjc3l8zMTGxtbQv9cL/3+eXLlxk+fDi3bt2ifPnyODs7o2kaGRkZxZ47NTWV1NRUNm7caMyO5GvQoAHm5uZkZWUBYGX1/+zdeVxU9frA8c+ZBYZVQERwARcUdxHN3cy1blmWWujtqlmZZmXebr+6qWW53G6l1VXbTG9qWVl5r6KVa5rmnt7KBZHFwAQ3Ntln/f0xMoKAgswwAzzv14uXMIeZ88xxnofvc873nKMrtU5fX19bE1JYWIjBYMDX17fUayiKgre3N7m5uaXOXWnQoEGFMV25coVXX32VjRs30qJFC0JCQtBqtTdtRmJjY1myZAn/93//R3h4uFNuSioNjBBCCCGEqPe0Wi0eHh5kl7xP2nVWr17Njz/+yL59++jWrRsqlYrMzEyOHDlyw9f28/MjLCyM9evXl2k+iiUlJWGxWNDr9aUez83NtZ2c7+HhgVar5cqVK2Wef+XKFXx8fCpsvq73yy+/8P777zN//nyeeeYZ2xGdqVOnsnbt2gqft2rVKuLj4zly5AhTp04FIOPqLRreeusttmzZwty5cx3a2MhVyIQQQgghRL3XsGFD2rVrx88//2wbkAMsX76cXr16kZ2dTXx8PCEhIURFRdmOpOzevZtz585hLr5qJ9bGwWw2246G9O3bl8uXL3PkyJFSR0j27t3Lnj17MJvNNGvWDDc3N06cOGH7HYvFwoYNG2wNTGBgIO3atWPPnj0UFRXZXictLY3Y2Fj69etX6fd79uxZioqKGD58uK15OXv2rC2eikRGRjJhwgQCAwPR6XS2LwB3d3fb944kR2CEEEIIIUS95+vry6OPPsrUqVN5/fXXefDBB0lISGDhwoV07doVHx8fIiMjWb9+PV999RUdOnTg9OnTxMTEEBISQmxsLAkJCQQGBtKgQQPi4uLYvXs37du3Z8SIEaxZs4a///3vvPHGG/j7+xMbG8tLL73EhAkT6N+/PxEREURFRfHxxx/Ts2dPgoOD2b59OykpKbYGQ1EUpkyZwvjx45k9ezbjxo1DrVazZMkS9Ho9EydOrPT7DQ8Px9fXl5UrVzJx4kSuXLnCsmXLaN++PadOnWLv3r1ERUXh5eVV6nljx45l7NixpR47ceIEn332GdOnT7frfWYqIkdghBBCCCFEvadSqRgzZgwLFixgx44d3HHHHTz33HMMHTqURYsWoSgKEyZMYNy4cUyZMoURI0bwySef8MILL/D888+TnJzMs88+S2FhIRMmTCAlJYVRo0bx/fff06JFCz744APatGlDdHQ0Q4YM4eWXX+bxxx9n+vTpKIqCh4cHCxYsoHv37jz00EOMHj2apKQknn76abRarW1K1qBBg1ixYgW7d+/m7rvvZtiwYaSkpPDuu+8yaNCgSk/d6ty5M6+++ipffPEFw4cP57nnnmPUqFG89NJLtGvXjujoaGJjYx25yW+ZYqnMXWqEEEIIIYSopNTUVO677z6OHDnCK6+8wmuvvebskJg6dSofffQRhw4d4rbbbqvw98obGhc3BY4aNhe/vtlsxmQyodFcmyT1+eef8+KLL/Lll1/ajm5UFEd5cZZsaK5/vDLvpzINUUXrcxQ5AiOEK8nNheRkKG/u6eXLcP582fuwGI3Wm01evXpJKXq99YaVV+fOOlRGhvWGlQZDxfEIIYQQTlLZJkRRlDJfN1pmjy+wXgVtxowZPPLII7ZLMufn5/Pdd9/h7+9Pq1atbhpHecsrem+VfT+V3bZV+f3qkgZGCFdy8CC8+Wb5N4vcuhV++KHs4+np8OKLkJlZdtmZMzBvHpRztRK7+89/rDe9zM6GpUtrZp1CCCFEJRVfUvhmlzx2Fq1WazvH5uGHH+Zvf/sbEydOZMOGDTzxxBM0adLE2SG6DDmJXwhXkpQEYWGgVpddNm5c+c/JzoaCAutNL68XGwtNm0IFl2y0m+IjPX37QsOG8NZbjl2fEEIIUUXNmjUDKHWFMVczadIk+vXrx9dff83Fixfp2LEjL7/8Mp07d3Z2aC5FGhghXEl8PDRrBkuWWKdh9esHI0dam5QPPoCHHwY/P/jvfyEhwdq0NGpkfQ5Yn/Pf/1qPykREQEoKtGhhvdHkb7/Bd99Bfj4EBkJ0NAQFwZEjsH07tGoFp06Buzs88gg0blxxnCYTHDoE27ZZp7t16WKdPtamDezbZ102Ywa89x4EBFinvqWnw4gR1qll+/ZZjzJNnw4l7nYshBBCOEpxAxMXF+fkSCqmKAoRERHMnj3b2aG4NJlCJoQriY+HtDTrkYw77oANG+DiRetjycnWwf7q1dajHRMmQHi4tWEJD7c2JkuXgocHPPqotWnZvt3aVMTFwbJlMGyY9XkWCyxfbj1fJTYWDh+2NkOTJ0NiorXBuFmcy5ZZ4xw3zvr8s2etzdKxY6BSWZuco0etr//QQ9CpE/zzn9bzfB5+GC5dgp9+qomtKoQQQtCnTx80Gg27du2ioKDA2eGIapAjMEK4ipwc69ekSdamw9cX3NysjcC5c9bGRKeDzZvhX/+y/k7r1vDll9bvjxyxnncyfjx4eVmbiFWroF07WLQIvL3h5EnrugoLrU1RXp61Gbn7bhgwwNr0NGhgXeeNfP89dO4MQ4ZYn9Ovn/Voj5ub9fUGD752wYGxY6FJE+uRmIYN4Z57rI2Tp+fN1yOEEELYSVBQEHfeeSc7d+5kwYIF3H///bZljRo1IiwszInRiaqQIzBCuIqEBGjZ0jqtS1GsR17UausUsZQUCA21/k5QkLUZAOvRDK0WQkKsy5o0sTYvYD0vxt3dujw93XqUxt/f+tWxo3WamNlsbWS6d7euE64dSbmR336Drl2vPScjw9pE5eZav0JCrK+r1VrP6VEU65Gdrl2tv5+XBxcuWBswIYQQogYoisILL7xAWFgYCxcu5L777rN9/frrr84OT1SBHIERwlXEx1tPuPf2tv6cmmo9V8Xd3bqsb19rI+LtbT3SAdamwGCwNgy7dl1rbMA6latpU+sJ9mo19O9vPRpjNlubG09P+OMPayPRpo31OUVF1gYkMPDGsaanX1uX0WidKtajx7WjLiEh1mllDRpca6jOnIHbb7d+n5NjnULWsqVdNp0QQghRGbfffjufffYZmzdvZv/+/c4OR9wiaWCEcAUmE5w+DW3bXrsC2alT1oYDrEdXJkywHtE4exZ++cXaHKxcaf39xo2tzcquXdZzTs6fh3XrrE1PYKD1xP9Nm6zPP3HCem7NBx9Yj5zodNZmBqyNUuPGN79qWVgY7NljbaYOHLDGN3q0daqbVms9SlT8fsDasGRnWy82oCjWe9r4+lqbMyGEEKIGRUVF0a1bN2eHIapBppAJ4QqKiqyD+Y4dr03LAuvPer11+ljDhtYpV6NGwbffws6d1galRw/QaGD4cGjf3nrey4UL1mlhnTpZG5wnn7Q2ScuXWxuL556zNhpXrkCfPtfWl5UFkZHXjgJVZMoUaxPy2WfWRuq226zNiV5vvSKZWm090lN82ccrV6zvofga9leuQO/e9t2GQgghRCXd6g0bhWtQLDe7HakQQgghhBBVkJqayn333ceRI0d45ZVXeO2115wdkqhDZAqZEKK03FzYutU67et6fn5w110y9UsIIYQQTiMNTA0xW8wYjEUYzQbMFrOzw6kXFBRUKjVatRsalVYOD1eWt7d1mpq4Kcnrmid5Leqb2lpnCgy56Ly1ePt7gtZETmGWs0OqNKkzrk+mkDlYdkEGyemnOZuRwJXCTAoN+ZjMJkA2u6MpqNCotXi6edPIpwmhAeE082+Nm0aOHojqkbx2HslrUV/U9jpjMBhISEggLy+fJk2a0KRJiLNDqjSpM65PGhgH0BuLSLocy+EzP3A2IwGTRW7W5yo8tF50bd6XTk1vI9g3VPaqiEqTvHZd1rzuQ8cmPQlpIHktaq9SdSYzEZPZ6OyQxFVSZ1yLNDB2ZLaYSUmPZ1/iVs5mxKM3FQEK7hoPPNy88XZvgIebNxq11tmh1gsWiwW9qZC8wivkFWVTaMzHaNID4Kvzp31IFH3D78LLzUcKkahQcV7vT9pKSrrktbNJXou66MZ1xgtvdz+pMzVI6ozrkwbGTgwmPb+e3ceuuBgKDHkAeLv7ERbYniDf5vh6NkSjksLjLAX6XLLyL5KaeYaU9FOYr+49Dw1ow5D2o2jm38rJEQpXJHnt2qx5fYnUzCTJa1FrWevM/qt1JhcorjPtCPINlTrjZFJnXJM0MHZQoM9je+w6fjm7FwAvd19aBXUhvHEkCnJtcVdR/FHP018h9txBzmUmYDIb8dB6cWfHaDo17Sn/V8JG8rp2kLwWtdn1dcbT3ZfWUmdcTtk6k4jJbECn9eSujmOlzjiBNDDVZDDp2Xz8S3774wBmi4kg31A6NetLA89AVIrcJ9RVGU16UjOT+PXsbvTGQnRaTx7o9hitGnWQ/zdRTl43p1OzfpLXLk7yWtQmUmdqJ6kzrkG2dDWYLWZ+PbuPX87uxWwx0dC7Cbe1Goa/V5B8iF2cRu1GaGA7uoUNwk2jo9CQz+bjX5Kee97ZoQknKz+vh0te1wKS16K2sNaZ/VJnaiGpM65BsqQaUtJPsysuBoAg31B6h/8Jd42nk6MSVdHUP5weLYfhptGRmX+JbSe/odCQ7+ywhBOlpMeXyOvmkte1kOS1cHXWOrMBkDpTW5WtM19LnalB0sDcIr2xiH2J2ygw5OHl7kunZn3Rab1kDmQtoygKjX1DaRdyGwDJ6ac5mXYEmVlZP+mNRexP2loir/tJXtdC1/K6J3A1r1Mlr4VrKFlnPKXO1Fpl60w8J6TO1BhpYG5R0uVYzmbEA9AqqAsNPAOdHJG4VSqVmpZBnfD1aIjRbGB/4lYsteRGYcK+zlyOJSVd8rousOZ1R3w9Aq15nSR5LVxDyTrTWupMrVZcZxpcrTMHpM7UGGlgbtHhMz+gNxXh7e5HeONImbNay2lUWjo27Y1GpSUj7yKxaUecHZJwgkOS13WKNa972fL6ZKrktXA+qTN1i0alpUOpOvOzs0OqFyRrbkF2QQZnMxIAhbDA9ijIYd+6INCnKd46fwDizv+K4epNq0T9kF2QwdnMRKx53U7yuo4omdenL/wieS2cSupM3VS6zvyKwVjk5IjqPmlgbkFy+mlMFhPuGg+CfJvLvNU6wk2jo3GDUADOZ6eQV5Tj5IhETUpOP43JbLya16GS13VE6bw+K3ktnOpandFJnalD3DQ6gkvWGb3UGUeTBqaKzBbz1aMv4OHmja9nQydHJOypsW8oCgqZ+ZfIKcxydjiihpTOay/J6zpG8lq4AmudSQRk/FAXBTUIK1Fnsp0dTp0nDUwVGYxFXCnMBMDbvQEaldbJEQl70mm9cNN4YLaYycy/5OxwRA0pndd+ktd1TOm8vujscEQ9Za0zGYCMH+oincbTVmcypM44nDQwVWQ0G2zX+fZw93ZyNMLe1CoNbhodALmyB6XeKJXXbpLXdY1apcFNW5zXV5wcjaivjGYjhYYCADzcfJwcjbA3tfpancmTOuNwN21gFi5ciKIovP322zURj8szW8yYzCYA2XtSBymKCrVKA4DBXPtP9l20aJHkbyWYLZZrea2WvK5rFEWFWql7eb1o0SJnhyKqwDp+MAJSZ+oihbpRZ1QqFR07diQzM9PZodyQHIG5JXKN73pB/pvrEQvyH15PyH+zEMLRanmdqQ0345QGRgghhBBCCFFrSAMjhBBCCCGEqDU0lf1FlUrF77//zkcffcTPP/9MQUEBPXr0YOLEiURGRtb6a5kXHy6r7e9D1G4mkwmLxYJGU+nUrBRFUfj9999ZtmwZhw8frnP5WxFHbU8hqsJRn8Piv8v1La9djYwfhCuwZ51RFAW9Xs8XX3zB+vXr+eOPPwgKCuKBBx5g1KhReHs7/2I3lT4Ck5aWRnR0NF999RV6vZ7k5GT+9a9/MWnSJBISEhwZY43Izc1l/fr1XLkiV44QzmM0Glm+fDlxcXF2nYN6/vx5oqOjWbt2ban8feSRR+pE/lbEUdtTiKpw1Oew+O9yfctrV5Obm0tMTIyMH4RT2bPOmEwmPvroI6ZNm0ZKSgoGg4GYmBimTJnCsmXLXOLvaaUbmM8++4x7772X+Ph4du3aRVJSEiNGjOC3334jJibGJd5MdXh7exMbG0ubNm144403SExMdHZIoh5yc3PD09OTrl27MnXqVA4ePIjJZKr261aUv8eOHasT+VsRR21PIarCUZ/DNWvWVJjXGzZsqLN57Wq8vb05fvw4bdu25c0335Txg3AKNzc3vLy87FJnkpKS2LFjB8ePH2ffvn0cPHiQtWvX4u7uzttvv+0StaXSDUybNm2YMWMGKpUKRVHQarWMHj0ajUbDqVOnHBljjVAUhYceeoiGDRsye/Zs7rnnHmbPnk1SUhJGo9HZ4Yl6QlEUhg4dSteuXfn4448ZNWoUkydP5rfffqOwsPCWX7eu529FHLU9haiK4s9hZGSkXT+H4eHhZfJ6zJgxaDQa4uLi7PgOxI0oikJ0dDT+/v7MmjWr1PjBYDA4OzxRTyiKwpAhQ+xSZzw9PfnrX/9KkyZNUBQFRVEYPHgwzZo1IzU1lexs598nr9INTL9+/crMefP398fNzY2cnBy7B+YMLVu2ZMKECRiNRuLi4liwYAHDhw9n7ty5pKamukTHKeq+kJAQJk2ahMViITU1lU8++YThw4fz/PPPc/r06Vv6HNaH/K2II7anEFUVEhLCI488UmN5LdOZalZF44d58+bJ+EHUGHvVmcDAQLp3717qvC4/Pz90Oh0Wi4Xc3FxHvYVKq/SZPg0bNizzWPFeH7PZXOrx7777jsWLF3PgwAGMRiNRUVE8+eSTjB079qYnuSUkJJCVlVXZsCrNbDaX+rJYLGUeM5vNRERE4OnpSX6+9a7ciYmJzJs3j0WLFjFt2jRGjh6BxSyFqD44cvQIcT+mOWXdJpMJjUZjO/p34cIF3nvvPZYtW8bjjz/OpEmTiIqKQq1WV+r1AgICyjxWUf4ajUa2bdvGrFmzOHbsGAcPHiQqKqpS69m8eTMpKSmV+t2adLPt+eCfR8kAo55w1bx+7LHHmDRpEt27d690Xpf3d7l4b2nJz7PFYmHt2rUsW7aMn3/+GYPBQNu2bRk3bhwzZsxAp9PZ5w26qK1bt5KcnIxGo0GtVqNWq1GpVLbvS35d/3jJn1UqlW3sYDKZyvzboUOHm48fpM7UC7W9zri5uZXZOVJcWwDbuMFgMODu7o5Go+Gdd95h2rRp5Y7zV65cydSpUykqKqKwsBB3d/dqv0+7XhLFYrFw6NAhJk6cSKdOnXj33XfR6XR8+eWXPP300zRo0IA//elPN2xi5s2bx7Zt2+wZli22ynwBFBUVlXl+fn4+ixYt4osvP6dd/+b0e6iT3WMUrmXTxk3s/OKIs8MoxWAw8OGHH7Jx40bGjRvHvHnzKlUIKnt1nPz8fObMmcPmzZtv6Yo67733Hps2bary85yleHtu+eF7Rj0/AN9gD2eHJBzMVfP6o48+YtOmTYwbN465c+farakwm8385z//4cknn6Rr164sXLgQnU7HunXrmDt3LiqViueee65OX6lv6dKlbNy4EZVKZdtxoyiK7fvr/63oseKaWNzElBw7FP+s15e9A3vx+GH9t//h/uf64xtctxtG4dp1ZuPGjfz5z3+ucp250ZhAp9Px+eefM3Xq1DKNUfEOFK1WW+74+lbZtWIVFBSwZMkSAgIC+PDDD4mIiADg9ttvZ9SoUSxZsoQ+ffrg7+9f4WtkZGSQluacrvVm1Go1Xbt1oXVUICqVXC5ROIdaraZnz54MGTKk0ntqK+vEiRN8//33/POf/yQxMZHnn3/erq/vitRqNV06dyYgoCFG8p0djqinSua1PZuJ7OxsPvroI5o2bcqKFSto3bo1AEOHDmXkyJH897//ZeLEiTRu3Nhu63Q1xXuii2daOINaraZDh/YEBARInRFOo1ar6dWrl93rTN++ffnhhx84deoUHTt2LLXs7Nmz7Nq1i379+rFjxw67rdOuDUxaWhr79u3jT3/6E+Hh4bbHQ0JCuOeee1i0aBHnzp27YQPz8ssvM3nyZHuGZduLcqPDxMVfmZmZjBgxgoKCAtvzPT09GTp0KK+88grh7Vvx9ZH3Sct2vWkywr7mzJnDjjUjnLLuM2fO0L59+1J783x9fbnrrruYNWsWnTp1KrVH0F5at27NgQMH8PLy4r333qvy82NiYuwaj73cbHu2aNOcr36WvK4P6ltee3t7s3TpUkwmEy1btrQ97ufnR1hYGImJidU+0byoqIi8vDwAvLy8yhwVLiwstE2r8vb2xs3NrdRyvV5PXl4eFosFT09Pu09p+/bbbzEajRgMBgwGA0ajscxXyceLvzeZTGV+X6VSodFobNPRSn6fnZ3N/fffb9sWUHr80KZ9K7468gFp2cl2fX/C9bhqnZk5cyadO3e2e52JiIjg0qVLfPTRRyxatAitVgtYp7OtWLGCiIgIIiIiXLeBycnJITU1lfDw8FJ7hhVFoW3btmRnZ3P+/Hk6dap4+lXPnj3tGVKVmEwm3nrrLVvz4unpyYABA5g+fTr9+/fHx8eH3CLnX3lB1Bxn3JisqKiIxYsX24qPn58fw4cPZ9q0aXTv3h0vLy+HxVXeuTJV4Yo3cqtoez755JP06NEDLy8vyet6xpXyuuTn0BFxabVa22yIkn7//XeOHTvGwIEDCQwMrNY6tmzZwksvvYRKpeK1115j1KhRpZavX7+eefPmAfDOO+8wfPjwUst37NjBzJkz0ev1zJw5k4cffrha8Vyv+AptxYMqRzCZTCxcuNDWvBSPH5555hkGDBhwdfwgF1aoT5xVZ5YsWVLjdSYwMJA777zTdtPL4p0lly5dYvPmzQwfPhxPT0+7rtPuU8iKiorKPcJS/FhmZqY9V2lXqamprFmzBoAePXrw7LPPMnr0aDw8ZF68qDmJiYl89dVXqNVq7r77bqZNm8bQoUPr9Bx1R5LtKVyBK30O09PTmTt3LtnZ2bz44ovVPuKRlZXFyZMnUalU5f6Nz8jI4OTJkwDlXh0tOzub2NhYioqKyMjIqFYszpKWlmYbP3Tv3t02frD3oE2IG0lKSmLt2rU1XmfUajXjx4/nzTffZN++fbYG5tdff+WXX35h2bJldp+hUeOV0xX30BZbt24dOp2Ob775hhEjRuDm5ubS8Yq6x2w2s2rVKnr37s2sWbOIjIy0nUQqqk62p3AFrvI5tFgsnDx5kvHjx6MoCps2baJVq1Y1GkNdtX79etzc3Fi7di0jR46U8YOocWazmZUrV9K7d29mzpxJt27darTOtGvXjsGDB7NixQpGjx6NVqtlxYoV9O7dmy5dutR8A/OXv/yFO+64g+bNm5dZNmDAAHbv3k2DBg0AbHNXy9uDkp6ejqIo1Z6i4igGg4Fu3boRHR1NcHCwFB7hFHq9ngkTJhAaGoq3t3e1P4cPP/wwAwcOvGH++vr6Vmsdrsze21OIW+EKeW00Gvnuu++YOXMm4eHhzJ8/n44dO9olJ+655x4OHz6MoiiEhYWVWT5mzBjb9PDiiwiUNHz4cPbt24fZbCY0NLTa8dQ0g8FA586diYmJISQkROqMcAp71ZnDhw+j0+nw8fEps2z16tXk5eURHBxcZpmiKIwbN445c+Zw+PBhAgIC+OWXX3juueduKY6buWkDExwcXG6gYJ1b161bN9vPPj4+NG3alNOnT2MymWznwRTv9fH396/wtZxNq9UycOBAZ4ch6jmdTlfmCh7VUZX8rYvsvT2FuBWukNcbN27k2WefZciQIbzzzjv4+fnZLZ6GDRuWe0+aYkFBQQQFBVW4PCAgwGV3blaGjB+EK7BXnenevXuFy9q3b3/D5w4dOpR//vOfbN682XZlw2HDhjmkqVfZ88WaNGnC7bffzo4dOzh9+rTt8eTkZDZu3Mjtt99Os2bN7LlKIYQQQlTAYrGwZ88exo8fz4QJE1i2bJlt1oQQQthTs2bNuP/++/nmm2/48ssvGT58uMOmqdr1HBh3d3emT5/O999/z9SpU3nkkUfQarV89tlnnDt3jsWLF5d7SEoI4Rr+97//kZCQYPveYrGwfft2EhMTURSFIUOG3PAy6EII15KRkcH8+fMJDAykSQ7Lv1cAACAASURBVJMmrF+/vtRytVrN4MGD7XpERghRPymKwqhRo/j444+5ePEir7/+usOmVNq1gVEUhcjISD799FPefvttZsyYgdlspnfv3vz73/9mwIABMjdUCBe2fPly3n///VKPvfjiiwCoVCoOHz4sDYwQtUhGRgYnTpzg3LlzPPXUU2WWu7u7c+DAASIjI50QnRCirmnXrh29evWioKDAoVO4HXIVsiFDhjBkyJAyj0vzIoRrW7p0KUuXLnV2GEIIOwkPD+fs2bPODkMIUQdpNBpMJlOpx3x9ffnuu+/K/O7s2bOZPXu2/dZtt1cqQRoVIWonyV0h6hbJaSGEo5RXXyqqOfauRXY9iV8IIYQQQgghHEkaGCGEEEIIIUStIQ2MEEIIIYQQotaQBkYIIYQQQghRazjkJH5R8zLTM/lp514KCwoICAyg3x390HnonB2WEKIaMjOu5nW+5LUQwjGkzojaSBoYFzLnb3M4eSy23GVaNy1+/n507taZAYP707ZDW9zc3GzL086lsWjeIi5duESXqC507d4VnYeO2GOxLJy7iCvZV2gW2oyZC16iUeNGlYon50oOx/53jP0/7ud0bDw5V3JQVAoNAxvSvnM7+g7sS8cuHdFoNTeNvzxNmzdh1j9mcer4KRa/scT2eLOwZsxcMJNGQYFlnrNmxRrWr91g+7lj147MefMVudKOcFlznn+Vk7+dLHfZzfP6PG/Pe5uL5y+WzuvjsSx8rTivm1rzxR553akdfe+4Lq9vEH95mjZvwsx/zCTuRByL/3l9Xr9Eo6Cyca5Z8Tnr1167wWLHLh2Z85bktRCVVbk604kBgwfcsM507ta5RJ05xcLXFtq9zrTr1I5+9qgzC2YSd/I0S/65GMvVx5uFNWPm/PLHOWXrTAfmvDVH6kwtJQ2MCzmT+PtNE/jHbT+yZsUannj2CcZP/ost8dzc3Wke1gxPL09CmgajVqsByM/LJ+5EHJkZmRQWFGIwGCoVS15uHq889wo/bttNUVFRmeU7vt/Byg9WMWPmDMb8ZTRarbZS8ZdUkJePXq8nKyu71PMSTiUw4YnxZRoYg8HA1k3bSv2ul7dXpdcnhDP8nlCNvHZzo1loMzw8PQi+Pq9PxpGZ7oC8/rB0Xlcm/pLy8/Ix6A1kZ5aT15PHl2lgrHm9tXRee0leC1EVv1d6/PA5T0x/gvFPlF9nQpqGVFxn9FWpM3P4cduPFdaZVR+uYsbMZxnz8Bi0btpKxV9Sfl4+BoOB7MwsTlxXZ8ZP/kuZBsZgMLDt221SZ+oQaWBcVJ8BvQlr3cL6g8VCQUEhcSfjOHX8FJnpmbw5501u69OD9p3bA9C6bStWb1htl3Xri/S8M/8dtm7aBkDjkMYMGDKARo0bUVRYxNGDRzn+y3Fyc3J567W3CG3RnH6D+tG7fy+CShSNgoJCDu87TF5uHlo3LVE9owhoeO0u7o2Cg/Dw9Ci7fr2eXVt30e22bqUej4+NJzkp2S7vUQhn6D2gNy2uy+vTJ+OIvWFer7LLuvVFet5Z8G7FeX3oKMf/dy2vm7doTv9B/eg1oBeNGl/bmVBQUMjh/YfJy7mFvN62i249Ja+FcKSb1plX36RH3+506NwBcFSd2QrcrM4spHlYc/oP7k+v/r1K7bSsVp3Z+iNRPaNKPW6tM7/b5T0K1yANjIsaOfZ+7h09wvaz0Wgi/dJlHn9oMknxSVgsFvbu2mcb6BQWFpJy5ixGgwEPT09CWzS3HZqtqvRL6RzadxgAvwA/Zr8+i4HDBtr2yly6cIn5Ly1g19ZduOvcObj3EP0G9WPys5Mxm8221zl/7jxPTXiaMwln8PL24olnJ5cavCiKCm2JGDVaDQEN/bl4/hKH9x2mIL+gVIE68esJMtMzaeDni8FgJD8v/5benxDOcn/0SO4dc6/tZ5PRxOUyeb23VF6fPXMWg8GAh6cHoS1Cbz2vL6dzaO8hoOK8XjBzATu3WPP60N5D9B/Uj8nTHy8/r3OqnteH9kpeC+FoI6NHcl85dWZy9GQST18bPxQ3MDVfZ/7Bzi07r9WZwf3L1pnUCzw1/ilrnfGyw/jht5NkXM7E188Xo9SZOkEamFpCo1HTOKQxUT27kRSfBEB2ZpZt+Zn4M0wb/5TtHJglKxcTWM45JJVRWFhIdlY2AN7e3rRp18ZWfAAaNW7Esy9NZ8ifBhMUHESTZk0A0Gq1pV5H66a1HaJWUNBqtbi7u1e4XovZQpeormz/bjvnzqaScDqBzpGdbcv37d6P0Wika49IDv508JbemxCuRF1OXmdlZtuWn0n4nafGP2U7B6Z6eV1UIq+9KsjrZxl8183y2q3UnHFNFfI69Y9UEuIS6NztWl7vl7wWwqGK60y3nlEkni4eP5RfZzp368zSVUtuuc4UlagzXhXWmekMvmvQDeuMm/ba+AGlqnXmXNk68+M+jEYjkd27cvBqgyVqN7mMci1iNps5k/i77efw9m0csh4PTw/8A6yHas+nnuff7/2btHNppfaOtAxvyb1j7qX3gN6Etgy1y3pNJhNRvaJwd3cn/VI6Rw4cxWKxnppXUFDATz/8hEqlos/tfSgqLDuvVojayGw283uJvG7TzkF57aErkdcXWFFOXrdo3cJxea0rP6/37Lya1wN6oy/S22WdQojSzGYzvyecsf3cpl24Q9aj89Dhf3Wq14XiOvNHDdWZnsV1JoOfDxwpPX7Yudc2fpA6UzfIERgXdS7lHCd+PWH7OS83j5927uXXn39FURRat23N4DsHOWTdDQMbMnDYQOJPxWM0Gvnm83Uc+Okg4RGt6dq9K916RhHSNJjAoEC0JfeS2IFO506XqC4c3n+Yn374iYlTJgBw9MBR8vPy8Q/wJ6JDW7utT4iadO5s2bzeu2svvxy5lteD7rzDIeu+Pq/Xfb6Og6XyuhshTUMcktfuxXm97zA/7fyJiVOv5vXBo+TnXs3rjhG2AYcQ4taVN34oW2ccN364Y9hA4mOv1pk1V+tM29Z07eH4OtM1qguH9h1m7869PDJ1ImCtM3m5efgF+EmdqUOkgXFRS95YwpISlxYu5q5z566Rd/H404/h7ePtkHVr3bQ8+tQkUn5P4YfNP2A0GEk5k0LKmRR+2LwTjUZD8xbNieoVxeRnHqd5i+Z2W7fFAn3v6MPh/Yc5eugouTm5eHl7sXfXXgCCghvRVhoYUUsteWMpS95YWuZxd507d913F489/Rg+vj4OWXdxXp/9PYUd5eS1WqMmtEUoUb2iePyZxwhtYZ89owBYLPQd2JfD+67L653WvG4keS2E3Sx9cylL36yoztzJY08/7tA6M2naJFtdMRgM1+rMlpqpM4eurzPF44fGQVJn6hCZQuaiFEVBpVLZvor3UhQVFrFnxx5Wf/wpF9IuOGz9Dfwa8PayRazd/CVTZjxBr/69aBzSGJVKhdFo5EzCGdatWce4e/7M7h177Lru2/reRkBgAEWFRezevpv0y+kcOXgUgL539HNY4yaEo90srz9d9ikXUh2b14sqyGuT0WTL6z/f8zC7t++267qvz+uMyxkcvZrX/e7oK3kthJ3cuM78xKfLPuV86nmHrb8qdeZHO9eZHiXqzI9SZ+o0OQLjop554WkGDBlg+9lsNnPp4iW++XQdP+36if98/h8yLmcw7+25BAQGOCQGRVFo17EdER0iuJJ1hczMTNL+SGPH9z+wc+tOzp87T2Z6JsuXLKd7ryi73ZOlbfu2hDQNIeNyBj/v/5mmoc1IPJ2IRqOh3x197bIOIZzh6Ree5vYb5fUX/yEj3VXyegXde3e3Y163ocnVvD68/2eahTUj4Wpe9x3Yzy7rEELcoM58to6fdl6tM5czmPeOY+tMRMcI2nZoW6LOnOeHzTvYuWUnaVfrzIoly+lh7zrTrIlt/NA8rBkJcVfrzB1SZ+oSaWBcVJPQpnTo0qHM45HdI5k05lHiY+PZs2MPp07E0XdgH4fGoigKDfwb0MC/AS1ataD3gN4MHHo7Lzz1IleyrnD297OknEmxXfq1ujy9POnRpwcnfj3B6VPx/PTDHgryC2jdtjVhrVrYZR1COEPT5k0qmden6DvQsc16uXk97HZemHY1r5Ptn9fd+/Tg+K8niD8Vz54ffrLldYvWYXZZhxACmtygzjw65lFOx8az54c9nDp+ir4O3ilYts70YuDQgbww7UWys7IdNH7ozvFfjlvrqdSZOkumkNUyfgF++Pv7AdarbqT9kWr3dWz/bjvz/j6f8fdNYNO6TWWWF+9ZadqsqTUOo9HuV/UYfOcgtFot8bHxxHy9EYCont1K3ShTiLrCL8AP/4BreZ36R5rd11GpvO5QOq/Lu4t2dQy+a/C1vP4qBoBuPbsR1DjIrusRQpTlF+CH39UrEZpMJlLPObbObPym/DrTtkNbmjS3Xj7ZaDLZvc4MuvNqnTkldaYukyMwtYTFYsGgN3D00FGSz6QAoFKpaBRc+QF98WvcqNnQumlJiEvky1VfggWuXLlCcJNgOnTpgM5Dh8UCuTk5HNhzgOQz1rtne/v6VCmOymge1pxWbVoSd/I0ebl5APS7ox8arQaDwWDXdQnhLKXyOulaXlelUbdvXh8slddBwfb9g988rBmt2rQi7mSc5LUQNeRanfkfyUnW/FapVDSqYp3RG25eZxJPl6gz2VcIbhpMhy7t8fDwuFZnfjpoi8PHx7uG6kxfqTN1jDQwLmrD2vX8evgX288ms5mcKzn8vP9nLl24BFjvFxHRPqLSr3nx/EXefPUtPDx05S738PRg7ttzufuBP/Htf74lKT6JhFMJPPvYDLrd1g3/AD8sFkg7l8qx/x233cl2wOABBDcJrsa7LSugUQCdunUm7uRpANzc3eh9e2+7rkOImrbhqw38+vOvtp8ryuuqXCmn8nl9d+m8fnQG3XpG4h/gX25e9x/c3/55HRhAp26diDsZB1jzus8AyWsh7Clm7QZ+u2mdCa/SLQkunr/IW5WpM/ffzaZ1V+tMXAIzytSZNI7971iJOuOA8UNgAJ2vqzO9pc7UOdLAuKj9uw+wf/eBcpcpKoU2EeH8Y/ECgkIqv+ciLzePXVt3Vbjcx9eHuW/PpXlYc95d8Q6vPPcKx345TlZGFju37Czz+x4eOqInjmXqX6egUtl3NqJGo2HIXYNZt2YdIFcPEXVDZfO6cUjjSr9m5fO6Wem8zsxi55ayz7PmdTRT/jrV8Xk9sC/evpLXQtjT/j0H2L/nxnVmgYPqTLMq1JmHJkY7bPww+K7BfFOizjjqstHCeaSBcSEtWregIL+g3GUKCu4e7jQPa07PfrfRq38vgpsE2y6PqPPwoG2HtjRq3IiW4S3RaKz/tZ5enkR0bMuV7Jybrt/L29O6rqs3uvrXJ//il8O/cGjvYRLjE8nLzUOtVhPYKJCIjhH0GdCb9l3ao9OVv0dGq9XSOqI1Og8dvg188PTyLPf3/Pwa2E44DLh6B19FUejRpwedu3XGbDYz/N47r20LRbH9fotWclKecG0tWoeRn59f7rKb5rVOR9v2bQgMCiyb1x0iuJJ95abrt3teu2kJv5rXPg188KogrxuUyGv/hgG2GErl9X3l53WYnGwrRJW0aN3CdlTjegrg7qGrsM54eFyrM63a2KvOLL5aZw5dV2caEtGxXSXrTLi1zvhWPH5o4F+yzlw3fojqjNlUdvzQsUsHLEidqe0Ui9yStEpyCrNYe/g90rJTaN+kJx2aymHJuqRAn8e++I1k5V/k9jYjGBhxr7NDEjVA8rpuk7wWriCnMPtqnUmWOlMHSZ2pWXIVMiGEEEIIIUStIQ2MEEIIIYQQotaQBkYIIYQQQghRa0gDI4QQQgghhKg1pIERQgghhBBC1BrSwAghhBBCCCFqDWlghBBCCCGEELWGNDBCCCGEEEKIWkMaGCGEEEIIIUStIQ2MEEIIIYQQotbQVPYX//jjD2JiYvj222/JzMykUaNGjB49mnvuuYeGDRs6MsYaYbFYAFAUxcmRiPrMZDJhsVjQaCqdmpVS1/O3Io7ankJUhaPz+rvvviMjI6Pe5LWrkfGDcAX2/BwWFhayf/9+PvvsMxISEgDo06cPY8eOpXPnzqjV6mqvo7oqdQQmOTmZRx99lKeffpqTJ09iNpvZu3cvjz32GH/961/Jzs52dJwOl5uby/r167ly5YqzQxH1mNFoZPny5cTFxdmKUXXVh/ytiCO2pxBV5ei8PnHihC2vH3300Tqf164mNzeXmJgYGT8IpzKZTGzYsIHLly9X63UsFgvvv/8+999/P2vXriU/P5/Lly/zxhtvMHr0aHbt2uUSf08r1cD8/e9/Z8+ePcyZM4ekpCT279/PmTNnGDp0KF988QXLli1ziTdTHd7e3sTGxtKmTRvefPNNEhMTnR2SqIfc3Nzw9PSka9euTJ06lYMHD2Iymar1mvUhfyviiO0pRFU5Mq9feeWVUnk9bNiwOp/Xrsbb25vjx4/Ttm1bGT8Ip1Gr1WRlZdGhQwfefPNNUlJSbul1tm/fzvz58wkLC+P06dMcOnSI48ePs2rVKtLT05k8eTJFRUV2jr7qbtrAXLx4kfXr1xMeHs6TTz6JoigoioKPjw/PPfccAwcOJCcnpyZidShFUXjooYdo2LAhs2bN4p577mH27NkkJSVhNBqdHZ6oJxRFYejQoXTt2pWPP/6YUaNGMXnyZI4dO0ZhYWGVX684f1u3bl2n87ciFW3P33777Za2pxC3ovhzGBkZaZfP4cWLF9mwYQOtW7dm2rRp9S6vXY2iKERHR+Pv719m/GAwGJwdnqgniutMaGgos2bNYsSIEbz77rukpaVhNpsr/TrffPMN+fn5TJ8+nZCQEFt9efDBBxk5ciStWrXi4sWLDnwnlXPTBubo0aMUFhYSERFBUFBQqWVDhw5l27ZtzJ07t07M/WzZsiUTJkzAaDQSFxfHggULGD58OHPnziU1NVX2ZokaERISwqRJk7BYLKSmpvLJJ58wbNgwnn/+eeLj46v0OaxP+VuR8rbn8OHDef755zl9+rTktagRISEhPPLII3b5HB49epSCgoJ6ndeupqLxw7x582T8IGpMkyZNePjhhzEajRw7doy//vWvjBw5kpUrV1Z6Z8m+ffvw8/OjU6dOpWqIh4cHK1euZPv27YSGhjrqLVTaTc8oLD4E1aRJkzLLyiuOaWlpzJ8/n02bNnHhwgWaNm1KdHQ0zz77LI0bN75pQAkJCWRlZVUm9ioxm82lviwWS5nHzGYzEREReHp6kp+fD0BiYiLz5s1j0aJFTJs2jZGjR2AxSyGqD44cPULcj2lOWbfJZEKj0diO/l24cIH33nuPZcuW8fjjjzNp0iSioqJueiLd2bNnAWjatGmZZRUNbn7//Xdef/11PvnkE6ZMmcKSJUsqHffmzZtv+bC1I91sez7451EywKgnXDmvH3nkEbp3727XvLZYLCQlJfGPf/yDLVu2cPHiRQIDA7nzzjv529/+RseOHavd6BQVFZGXlweAl5cX7u7upZYXFhba/qZ6e3vj5uZWarlerycvLw+LxYKnpyc6na5a8Vxv69atJCcno9FoUKvVpb5UKtUNfy75mEqlso0dTCZTmX87dOhw4/HDmBFSZ+oJR9WZkp/Fkl+Koti+DwoKQqfT2RqWw4cPc/jwYV5//XVmz57NvffeS0BAQIXrSElJwd/fv9zfKVkrzGYzU6ZMYfny5fTv358tW7bg6elZ5jkFBQW0bNmSCxcusGTJEp566im77Fy5aQNTPE+3MitLT09n+vTp7N+/nyeeeIKuXbty8OBBVq1aRXJyMqtXr75pYZ43bx7btm2rZPiVZ7FYKvUFlDu3Lz8/n0WLFvHFl5/Trn8o/R7qaPcYhWvZtHETO7844uwwSjEYDHz44Yds3LiRcePGMW/evDKDhZKKB0qVyV+j0ciuXbt44YUXUBQFDw+PKsf33nvvsWnTpio/z1mKt+eWH75n1PMD8A2u+nsWtUttyOu5c+fecBBflbxOSUlh0qRJJCUl8eijj9KpUyeOHj3KqlWrOHLkCPv378fLy6ta8W/ZsoWXXnoJlUrFa6+9xqhRo0otX79+PfPmzQPgnXfeYfjw4aWW79ixg5kzZ6LX65k5cyYPP/xwteK53tKlS9m4cWOpwV7xgK+8fyt6rHh7FzcxJccOxT/r9foy6y8eP2z49j+MfK4/vsH2bdCE63FUnSn5WbzRV3mfw4SEBKZOncqyZct45plnGDNmTLlXRjSZTKU+7zdisVjQ6XTEx8dz4MABBg0aVOp5FouF77//nuzsbLtfhfGmr9agQQOASh0V2bdvHxs2bOD9999n0qRJqNVq7r33Xry8vHjllVd4/vnn6dat2w1fIyMjg7Q05+wduxm1Wk3Xbl1oHRWISiWH5oVzqNVqevbsyZAhQ266Q8DPzw+AzMzMm77ulStXWLRoEaNGjWLYsGE89NBDdonX1anVarp07kxAQEOM5Ds7HFFPlczrm/2hr0peb9myhT179vDZZ58xbtw4VCoVDz74IJ6ensyZM4d9+/YxbNiwasWelZXFyZMnUalU5caUkZHByZMnAcq9Uld2djaxsbEUFRWRkZFRrVjKU9zwFc+0cAa1Wk37Du0JCAiQOiNuWcmd7beisLCQxMREYmNjMRqN5daaBg0aoNfryc3NrdRrtm3bloyMDGJiYhg0aFCpZQUFBXz99ddERETYfWx/0wamuOE4ceIEeXl5pfbUJCcn8+mnn+Lr68szzzxDTEwMGo2Gv/zlL7aBlUql4oEHHuDtt9/mv//9L5GRkTfs6l5++WUmT55c3fdVSvFelMocJs7KymLEiBEUFBTYnu/p6cnQoUN55ZVXCG/fiq+PvE9atutNkxH2NWfOHHasGeGUdZ85c4b27duX2ovi6+vLXXfdxaxZs2xzU2+2h6Qq+evt7c3KlSsJCgq65avoxMTE3NLzHO1m27NFm+Z89bPkdX1Q1/I6NzcXb29v27Lr8/q+++6jU6dOdO/eHZXKetqroih06dIFoNKDlNrs22+/xWAwYDQabf8Wf28ymcp93Gg0YjKZSj1uNBpRqVRoNBrbdLSS32dnZ3P//ffbptNBeeOHD0jLTnbi1hA1Yc6cV9ix5l67vqbFYrF9Zou/iqcvlvy6ePEiQ4YMKbWzQKVS0bZtWyZPnswjjzyCv79/heuJiopix44dxMfHlxmzf/rpp5w4cYLHH3+cVq1aAdbPeN++fVm9ejVz587F19fX9vvx8fFs27aNp556ihUrVth1e9y0gWnTpg1dunQhISGBDRs2MHbsWFQqFUajkS+++IL58+czYcIEAE6fPk1YWFiZKS0+Pj40adLEdkWO6+e/ltSzZ89qvqVbZzKZeOutt2zNi6enJwMGDGD69On0798fHx8fcovk2vr1iTNOgi0qKmLx4sW2QY6fnx/Dhw/nySefpEePHnh5eVU6rvDwcLp06UJiYmKF+Tt+/HjAeqnXypyndiOueNJwZban5HX9UhfyumvXriQmJhITE1Mqr7/88stSeR0cHExwcHCZWLZu3Yqfnx+9e/eu9nu75557OHz4MIqiEBYWVmb5mDFjbH/bW7duXWb58OHD2bdvH2az2SEnByuKgpub2w3HHtVlMplYuHChrXkpHj8888wzDBgw4Or4Qe4TU39UbgpWlV5RUW44ZRysRxtXrlxpa140Gg2dOnViwoQJPPDAA4SFhd00rhEjRrBt2zY+/fRT/vSnP+Hj4wNAbGwsCxYs4OzZszz77LO237dYLNxzzz2sXbuWDRs28Je//AVFUbBYLGzatAmNRsPQoUNZvnx5NbdAaTdtYDQaDX//+9+ZOnUqf/vb34iLi6N58+acPHmSFStWEBgYyOOPP47JZCInJ6fcrk6r1VoHCbm56PV6hxaR6khNTWXNmjUA9OjRg2effZbRo0ff0rkAQtyqxMREvvrqK9RqNXfffTfTpk1j6NChtzR/9Pr8PXXqFKGhoaXy195HPF2NPbenELfKEXk9ZcqUW8rrTz/9lHXr1vF///d/ZZqbW9GwYUMaNmxY4fKgoKAyV0srKSAg4IYnFdcGaWlptvFD9+7dbeOH8k5qFsJRkpOTWblyJWA9ADFt2jTGjRtHUFBQpRuqBx54gM8//5xNmzbx2GOPMWjQIIqKivjss89ISkriySefJDg42DaVzWKx0LZtW/r168c333zDyJEj8fX1JTs7m/Xr1zNmzJhqn2dXnkpVzrFjx+Ll5cW7777Lv/71L/Ly8vDx8WHgwIHMmjWL2267rVI35arsSUHOsm7dOnQ6HV9//TX33nsvbm5uLh2vqHvMZjOrVq2id+/ezJo1i8jISNtJpLeqZP4uXrzYlr+33347s2fP5rbbbquzn3NHbE8hqsoRn8Po6Gg8PT2rlNdZWVksXLiQ9957j1mzZjFjxozqvjVx1fr163Fzc2Pt2rXcd999uLu7S50RNcpsNvPhhx/SuHFjFixYwMiRI/Hw8Kjy57BRo0Z8+eWXLFiwgI0bNxITE2NrUubPn88zzzxT5jm+vr5MnDiRRx99lBMnTtCnTx9++OEHLl++THR0tENyoVINjKIojBgxgn79+pGWloZer8fd3Z2mTZvSoEEDFEVBrVbj6+vL+fPnyzxfr9eTk5ND27Zt0Wq1dn8T9mAwGOjWrRvR0dEEBwdL4RFOodfrmTBhAqGhoXh7e9vlc1iZ/K2rHLE9hagqV8jrM2fOMHPmTA4ePMiyZcu499575SiknRgMBjp37kxMTIztxn9C1LTc3FxGjBjB888/X6UjLtdTFIWQkBAWLlzIjBkzbOfJNWzYkODgYNs4/vqLCdx11114eXnxzTff0Lt3b7755htatmxJjx49OHXqVPXeXDkqXb1UKtUNDxMrikL79u05cOAABQUFpQ6bZmdnc+7cOcaOHeuy08e0Wi0DBw50oUD4GgAAIABJREFUdhiintPpdHTsaP9LdN8sf+sqR21PIarC2XmdkZHBxIkTycrKYvXq1fTr108G2XYk4wfhCnx9fe36OdTpdISHh1f69729vXnooYfYsmULU6ZMYePGjSxcuNBhp2Go7Pli999/PwCrVq2yTSkzmUx88cUX5OfnM2bMGHuuTgghhBA3cOnSJaKjo9Hr9axfv16aFyGEw0RHR1NYWMhLL71EkyZNytzzyZ7sevy4V69ePPjgg8yfP58LFy4QGRnJnj17+Pzzz3nssceIiIiw5+qEEHaUmZnJjh07sFgsnD9/nvz8fBISEvj6668B69WDoqKinBylEKIqvv76a3bt2sUzzzzDzz//zJEjpW+u17ZtW7p27eqk6IQQdUlUVBTh4eF8++23PPbYYzRt2tRh67JrA+Pn58fbb7/N/Pnz+fe//82FCxdo0aIFTz/9NE8++aTtGvRCCNdz5swZoqOjS93obfPmzWzevBmAJ598kvfff99Z4QkhbsH+/fsxGo2888475S6fMWNGhcuEEKIqdDodY8eOZcuWLTz88MMOPW3E7mfwNWrUiHfffZd333231ON15ZC1goJydeZdde6GKlyVBQvW/1dFqV8Nd7du3Wx3rK5vJK/ruvqb16tXr2b16tXODkMACtfGQmapM3VQyTpTN8a8N6IoCh9//HGZxydOnMjEiRNLPRYZGckff/xh1/U75BIkdfk/TqVSo1Fbr8CgNxU6ORphb2aLGZPJeqM5nbZ+3f+nLuftzahUarSS13WWNa8NALhrdU6OpmbV57x2NSqVGq3KukfaYJQ6U9eUqjOauj9+qKi2lPe4I+pQ/doVZQdatRuebt4A5BXKXXXrGqPJQKGhAABfj7I3ZRV1k1bthofkdZ1lMhkoNOQD0EBXu2+YKGova52x3tAvr0jqTF1jMl+rM74eUmccTRqYKtKotDTyaQJAXlE2BfpcJ0ck7Cm74DJGsx53jQcBXhXfOVrULRqVliDJ6zorS/JauIDSdSZL6kwdk5V/rc40lDrjcNLAVJGiKIQGWK+LXWjMJyv/ksyZryMsFjMXspMBCPQOxtPNx8kRiZqiKArNS+X1RcnrOqJMXrt7OzkiUV+VqjOGAjKlztQZZccPUmccTRqYW9DMvzUeWi+MJj2pmUnODkfYSV7RFS7npALW/2NPrZeTIxI1SfK6biqb1zKwEM7TzL81Hm7eGM160qTO1Bl5RVdIzy2uM62kgakB0sDcAjeNO12b9wUgJf0UeXqZy1oXJKfHkq/PQaWo6BbaH5VK7eyQRA0qnddxktd1hOS1cCVuGne6NusDXK0zci5MnZCcfoq8IqkzNUkamFvUqelt+Or8MVtMxJ47iPHqlatE7ZRbmEXihV8BC20adyHQO9jZIQknkLyuW0rldZDktXANpepM6gEMUmdqtZJ1JjyoM4HeIc4OqV6QBuYWBfuG0j7Eelfyc5kJMuWkFjMYizhxzvpHxNPNm14thzg7JOEkktd1R5m8biV5LVyDtc50B+BcZqLUmVrsWp0pwsPNm96thjo7pHpDGphbpCgKfcPvIjSgDSazkV/P7uaPjHg5Ia+WMZj0HPvjJ/7IOI1KUdGn1XBCA9rIvRPqKcnrukHyWrgya52501ZnfpM6UytZ68zeEnVmmNSZGiQNTDV4ufkwpP0oPLRe6I2F/C95J+ezf8dsNjk7NFEJBmMRx87uIflyLAARwZF0bd5Xik89J3ldu0lei9rAy82HoVJnai1rnfmpVJ2JbN5P6kwNUr/66quvOjuI2kpRFHw9/PHR+fF7ehxFxgIuXElBrdLQwDMQlSIncbmq3MIsfjv7Eynpp7BgIaRBGPdHPoq3ztfZoQkns+W1h+R1bVNeXo+UvBYuSOpM7XWtzsRKnXEixSLHLKvNYrGQeOkEm49/SWb+JQB8PRrSsWlvAn2a4qbROTlCAdbrtOcVXSE5PZbEC79iMOlRKSoigiO5q+NYvNx9Ze+JsKkorzs07U0jyWuXIXktajOpM7WD1BnXIw2MnZgtZtJzz7Pt5Dckp5/GaDagUWnx1vnTuEEojX1D0Wm9UKs0KIrM3KsZFswWM0aTgeyCy1zITuZyTir5+hzAgqebN31aDadr8754uctNK0VZkteuSPJa1C0V1xk/GjcIkzrjFFJnXJ00MHZWaMjnZOoR9idtJSPvou1xBQU3jQduGh1qlcaJEdYfFiyYTHoKDQUYzdcuU6lSVLRp3IVeLYfICXeiUgoN+ZxMO8L+RMlrZ7thXgd1oVcryWtRO0mdcR3WOmOg0JBfps6EB3Wmd6uhUmecTBoYB7BYLFiwEJt6hLgLv3I+O4XM/EuYLWZnh3ZLzGYzZ35LpVXXprU2Wd01HgR6B9PMvzXdQvvb7gdRW9+PqHm2vE47Qtx5yWtXIHkt6hqpM65H6oxrkgbGwQwmPXlFOeQUZpGZf4ncwmwMZj3Uoq2+c9tuPn3/K/7x/ssEhzR2djiVpigqdFoPfD38CfAKwtPNB0+tl9whV1RbXcjrXdt2s7rW5rUOX48AyWtRp9WJOrN9N6vfkzoj7E+ORTqYVu2Gn2dD/Dwb0jygtbPDqbLMzEze+O4Dzpw6S1acieg77nV2SEI4XW3P66ysLFteZ54ySl4L4YLqQp1587sPpc4Ih5CzwcQN7dixg23btmGxWFi8eDGpqanODkkIUU3bt2+35fWSJUskr4UQdrdjxw62bt0q4wfhENLAiArl5OTwwQcfYDQaAUhISODrr7+WuwULUYuVl9dfffWV5LUQwm5ycnJ4//33bXUmMTFR6oywK2lgRIW2bdvGoUOHbD/r9XoWL16MwWBwYlRCiOooL6+XLFmCXq+/wbOEEKLytm/fLnVGOJQ0MKJcJpOJf/zjH+Tm5pZ6PCkpieXLl8teFCFqoRvl9YoVKySvhRDVJuMHUROkgRFlWCwWvv/+e/73v/+Vu3zlypUyl1WIWkbyWgjhaBaLhc2bN3P06NFyl69atUrqjLALaWBEGdnZ2XzwwQeYzeVfd/7IkSNs27athqMSQlRHZfJ669atNRyVEKIukTojaoo0MKKM7du3s3XrVry8vBg6dCjNmzcHoF+/fkRGRmI2m3nnnXe4cOGCkyMVQlRW8RWBbpTX7777ruS1EOKW7dixgy1btkidEQ4nDYwoJScnh88//5xBgwYRExPDkiVLaNSoEQCDBg1i48aNvPHGG2g0GjZu3ChzWYWoBXJyclizZg2DBg1iw4YNLFmyhKCgIOBaXr/55ptoNBpiYmIkr4UQVXZ9nVm6dKmtztzx/+3dd3iVdZrG8e+bQkJAEiCUICFI6CC4FEHIImVQLCjEFUbBsKIOI02Ji44jglKVKoKIK1naDDDrOuIoiqiICAIqCAy9hUACBgiEkN7O/vHMIcTQBZJD7s915co5522/E3hznTvPr3TsePb3jK+vr37PyG+mhSylkKSkJAYOHEi7du0ICAgo1FfVy8uLmjVr8uKLL9K7d2+2bt1ajC0Vkct1Off18OHD6d27N1u2bCnGloqIp7rY7xlvb2/9npFrSgFGCgkLCyMsLAzHcS65X61atW5Qq0Tkt7jc+7pWrVpnu3yIiFwJ/Z6RG0kBRgq51C+eq91XRIqP7msRud70e0ZuJI2BERERERERj6EAI54pOxtWr4YTJ4qvDWlpsHIlrFsHR4/Cbx0TlJoKX38NGRnXpn0iIiIiNyF1IZOS6auvYNEiuOUW8PaGcuWgbVto3x6CgiA/H/bvh7AwCA4unjZu2wYbN1rwSE6Gjh2hWbOrP9+pUxATA7ffDmXLXrNmioiIiNxMFGCkZDp1ChwHnnkG8vKs0rJkCfzwA7z4ogWaJ58s3jY2bQotWljAOnnSgpWIiIiIXFcKMFJyVagATZpYkHG5LCz8139ZdaZzZ3v8xz9awJkxA7p0gS1bICUFevaEzZshPh6qVIFRo6xqs3IlfPgheHnZ86eeglatYNYsOH7cQsiRI5CZaeevVQtmzoSdO61N/v4Wqho1gjVr4OOPrW0AkZHQtSvk5sLf/27t9PKygNOvH7Rube/FLTPTqkxffQUhIVCvXsG248dh0iR7L/n50LAhPP20/UxERERESjEFGPEMjgMVK0Lz5vDPf1qAcQcHLy9IT4fwcAsuEydagHjzTauMvPwy/PKLjS2ZPx9eew0CA2HPHgsukybZOY4etapOcDCMGQPffQf33gvffmvH1KgBGzbAoUMWYPbutWBSrx6sX2/BqE0bOHAAli+HYcPg1lvtPNOnw4IFFmbc9u+3ADR9OgQEwEcfFbyn2FgLLQ88YM9feMHed/v2N/KnLiIiIlLiKMCIZwkMtKBxvtcbN7YxM7feCuXLQ6VKFkyCgmyMSmysdUVbuLDguAMHrLsaQN26NqbGcex7UpJ1VXO5LJB07GgVFp9/3Tbdu8OXX9rA+1On7BqpqbB7N1SubF3MHAdatrSxLSdPWjXIbf9+CA0tuGZEhIUlsGpTfLwFruxsO3dxTlggIiIiUkIowIjncLkshNSoUXSblxf4+hY89ve3x45T0AUtNRVq1oSoqILj+vWz18COcXfxch8TEACzZ8MXX9gYnEmTYMAA6w42dCj8/vfQp49VZebOtWPT0+0497m8vcHPz14/V3p64cH6AQH2PSfHqjKJida+ihWtW5u7OiMiIiJSimkaZfEMLpeNadm3z7ppXY0aNayqEhpq1ZZatWz8zLndun4tLc3GtDz+OIweDT16wD/+AYcPW7Xnd7+zCkpGho1pcbmgWjWrlmRn2znOnLGw8uvZ0ipXhmPH7BiXC+Li7PWMDKvOPPCAjQGqWNHCjAKMiIiIiCowUoKdOAHffGMhIz4ePvvMAkOLFle3VkqjRtadbM4cq6Bs2GDd0UaMuPAxx47Bq69agKla1QbzBwdD9erWbWz9ehtYv3atBZ3t2+Hf/s3GwyxebNMqL11qEwW4Kyxu9evD6dPwt7/ZuVeutJDi728haO1aO2btWut6tnu37R8YeOXvXUREROQmoQAjJdNtt9kg9nXrrEtYxYowbpxVTtzdxf79362KAfbY3YWsYUPrhgVQpgx06GDHV65sXbM++sgWwaxZ02b28ve38TP5+QXXb9zYzlG7NgwfbiFi506r/nTqZF2/Xn/dZiKrVAleeskCyIEDNk5m3Dj4/HMbI3PnnTbpwK/VqmUTDixbZpWep56y8TQVKsDzz1uXtQ0bbCKB7t3tfImJCjAiIiJSqinASMnUqpV9XYi/PzzxRMHzcx936FDwOCCg8LbAQPjP/yx6vo4dCz+/++6Cx82b29el2vjggwWPq1e/9Do1jmNVmPr1C16rU6fg8YABhfcfPPji5xMREREpBTQGRkREREREPIYCjIiIiIiIeAwFGBERERER8RgKMCIiIiIi4jE0iF88V3q6zQ525kzh1729oWXLggUqz+fIEZua2D1z2eW62uNERERE5JpQBUY81+nTMHu2rb1y+HDBV3z8xdeJSU+HmBhITi78untByQvJz4cZM+y6l+tS5xQRERGRK6IKjHi+qCgICyv6en4+/PijraUCtobLnXfC++/bApRZWTBwIKxaBfXq2Wvdu9vzbt1sKmSAd9+1tV2+/RZ++MHCT79+8MkntkZLrVoWUv76V7uGjw98/72tZRMXBz162KKXy5ZZtahOHZty2cfHtq9cCY8+CuXL36ifmIiIiIjHUgVGbl5r1liF5o47oFkzWxhy0yZ7XqkS3H+/rROzYgUsWmT7eHlZgDm3yrJihVV0mjeHoCBblDIoyBadTEqyfVwu+O47+OUXe+2DD+Cnn6BJE6v0jB5ti2m2bWvh5t13IS/PQlZOjqo0IiIiIpdJFRjxfOPGQdmyBc+rVIEhQ6zC4uMDNWpASAg0bWoLYCYk2P516oCfn4WILl1sAcyTJ89/DR8fCz1+flbt8fe/cHu8vKya0r071K5tAWXIEBs3k5troWbjRgtFtWvDU0/ZMSIiIiJySQow4vkefbSguxdAmTJWWbnzTti1C0aOtFDToYN13fo1f3/b7jjXrk1ly0LlynbO06dh7lwLMCEhcPSoVV9cLtvu7X3trisiIiJyk1OAEc9Xv/75x8AEBsLgwTbOZetW67aVm2tdyM7lOIUrII5TuEvXhSYEcByr3gBkZ1soOd85162zsS+zZ9vzzz6zLxERERG5Ygow4vlOnCjapSsgAFavthnHOnWyKZVDQyEtzSoeeXlw/Ljtd64yZeCWWyA21o7ZswdSU22bjw9kZlo3s6Ag61J28CA0bAjbthWd1ezcc+bl2UD+5GQbG5OZWXDeI0esO5umZhYRERG5JAUY8XzjxhX98P/QQ9CuHbz3ng22dxyoVg3uucfCR1AQTJ4Mw4cXPq5cOZs1bOFCG5Rfu7YFH5fLAktgILzzDgwdCv/xHzb4/8cfrQoUFHT+wfgtWthEAK+8YuNxHngA3ngD/v53m7Xs7bdh6lQIDr5uPyIRERGRm4UCjHiu6tXh//7v4vtMmHD+1ydPLnjs7toF1u2rUyf7cnvmGfvuOPA//1Pwet260LFjwfMnnyx4/N57BY+rVIEpUwpf/4MPCh7Pn3/RtyAiIiIiBRRgxHNdy0H3l3veq7nm9WqniIiISCmkuVtFRERERMRjqAIjFxUQEMCoUaNwHIfAwMDibo6IXAMBAQGMHDlS97WIXDf6PSPXk+NyaQlwERERERHxDOpCVoplZWUxe/ZsBgwYwPr164ts37BhA4MGDWLixIko54p4Bt3XInK97NixgwEDBvDGG2+QnZ1daFt6ejpjxoxhwIAB7N+/v5haKKWFAkwpVqZMGVq1asXChQsZOnQox44dO7stMzOTZ599lsWLF3P77bcXYytF5Epc6r4eOHCg7msRuSqNGjUiPj6esWPHsmjRokJ/BJk3bx4TJkwgKSmJOnXqFGMrpTRQgCnFHMehZcuWDBo0iO3bt/Pee+/hcrnIzc1l7ty5bN26laioKLp06YJTUmfSysmBAwfs+9XKzbUFKTMzL37+X36xRTOvt/x8iI+HlBRr0/79519fRuQ8LnRf5+XlMW/ePLZs2UJUVBSdO3cuufe1iJRIjuPw2muvUbVqVSZMmEDyvxZwPn78OG+++SY1a9Zk5MiRxdxKKQ0UYEo5x3GIjo6mcePGTJs2jcOHD3Pw4EGmTp1KkyZNeP755ylTpkxxN/PCYmNh9Gj7sH+1kpLgpZfg1Kmi2w4cgDFjIDkZPvrIFq283tLSbKHLHTvs/Z27To3IZXDf102aNGHatGkcOnSI2NhYpkyZcva+9vPzK+5miogHatWqFUOGDGHv3r3MnDmTjIwMpk2bRkJCAtHR0TRr1kx/HJHrTrOQCdWrV2fy5MlERkYybNgwHMchLi6OL7/8krCwsOJu3sXt3Am33gq33HL15zh9GjIybGHMC50/KAj++Merv8aVSEmBI0egUSOoUAEmTrwx15WbSvXq1Zk0aRKRkZFER0efva9XrFhR8u9rESmxHMehf//+rFu3junTp+M4DrNmzaJPnz706dOnuJsnpYRmIRPABv6OGTOGyf9aob5fv37MmjULb2/vIvsmJyezePFiFixYQM+ePXnxxRev7qLp6fDVV/Dzz9ZF6o474N57oWxZmDULKla0blsnT8KDD1rI+P5723foUChXDt56ywJItWrWDaxFC3j4YfD3h61b7fzJyVC1qr1eq5Y9X7oU9u610FKlCqxeDe+8A3FxVmlJSoIGDeDQITv3/fdbkJg8Gdavhx9+gJAQ2L0bypQpaE9iIixYAGfOQO3a9l58feHRRy/+c/jsM9i82QJL06YwZw58+CG8+y40bAjNm9vjJk1g+3bw9oZevawdu3ZBnToQFaVFM6WQrKwsxo4dy6RJk4Dz39cul4tTp06xePFiVqxYwbFjxwgODqZr16707t2bqlWr6q+pIlKIy+Vi9+7dtGvXjuzsbAICAli/fn2hsS/5+fmMHz+epUuX0rp1a95++218fX2LnCsnJ4cePXqQmJjI8OHD6dWrl37nyCWpC5kA4OfnR0REBFlZWQC0bdsWL6+i/z3i4uKIiori1VdfZfPmzRw+fPjqL7p4MezbB717wyOP2If4detsTMrGjVb96NXLPrRPmACpqdCnDxw/DmvW2PiQ+HgLJK1bw+OPw/z5FkwOHYL//m+4807o399Cz+zZNr5kwQIbVxIVBXXrWmCpW9eCxMyZFjr697cw8NVXUK+ejX05etSCw/btsHatHRMVZcHp+++t69dbb0FgIPTrZ4Fm3rxLV4c+/xxWrYLf/x46dID//V8IDbWfw7ZtFoCOHbOAk5EBTz9t3d0mTrQqTY8eFshOn776fwu5Kfn5+dG+ffuz93WbNm2K3NfJyclER0czbNgw8vLy6NChA1lZWbz00ks8/fTTmqlMRIpwHIf69esTGhpKWloaYWFh1K5du8h+Bw8e5Oeff+bTTz9l27Zt5z3Xjz/+yBdffMGmTZs4fvz4dW653CwUYASA+Ph4RowYQWhoKJUqVWLEiBEkJiYW2ufUqVMMGDCAKlWq8MEHH1C1atWrv2BKin1Q9/W1cSWbN9sH9sREq7q4XPaBvkYNqFQJKleGBx6wqkdAAOTl2Tni42HwYGjVyio4ISGQkGBBJiDAwsWaNRZ+EhOtMrJ8uQWPBg2ga1er1tSrZ6EpJQWeeMIqGhER4ONjIWHPHqhf39q+Zw9ERto1Q0KsapKba6Fo504LGHXr2j7p6XauC3G5YMkS6NvXKi9t2ljFp1Ej+znk5kLNmvY+g4Mt6FWvDn5+tm/z5rY/qPoiRfz6vn711VeL3NfLli1j/vz5TJkyhY8//pg33niD5cuXM3DgQD799FPWrl1bTK0XkZIqNzeX6dOns23bNlq2bMnGjRuZOXMmubm5RfZt0KABeXl5fPjhh0X+IJKVlcWcOXOoX78+lStXvlHNl5uAAoyQk5PDzJkz2bJlCyNHjmTcuHGcPHmS0aNHk5aWdnY/Pz8/RowYwfTp0wkNDf1tF921y7pu3XqrdRWrWNE+8EdEWKXD1xfCwuxD+f799kEdCoJIeLiFkdxce+w4FgZOnbLQcfCgHeM+d7NmVlU5eNC6k1WqVHA+X18LIvv2WWAqV862ZWRYUAgOtm1169r+qakWfhzHqi7Hj1sbdu+2IOT+C/fp03bei1VgkpOtklSjhj3Pz7fQExZmAcbLywLKoUN2DT8/yM62Lm7uQHXmjH3/LeOA5KaTk5PDO++8c/a+Hj9+/Hnv66ZNm/L222/Tp08fvL29cRwHLy8vIiIiAIoEHhGRzZs3M23aNDp06MCsWbO46667mDp1Kps3by6yb1BQEO3bt2fJkiVnq8FucXFxfPPNN3Tq1Al/f/8b1Xy5CSjACGvWrCEmJoa2bdsSFRVFZGQk9913HwsXLuTLL788u19AQAARERGUL1/+t180NdWCRLduNr6la1e45x7rOnX0qHXDcgeJ2NiCKkZqqgWG226zge6+vgWVh2PHLABUrmyhoEMHO/eDD0LHjtCunX3wL1/exq2AhaOcHAsaJ08WBBuAf/7TAhZYBSQ0tKA6FBJS0J4TJ2y8S1JS4ePXrbt0gDl50t6ne0aohASrAoWE2PsLDLRK0t69Fo7A3n9enu3jOHD4sLVNFRg5x9q1a4mJiaFNmzZERUXRs2dP7r///iL39R133MGQIUOodO7/XWD79u04jkOzZs1udNNFpARLT09n/PjxJCQkMGrUKFq3bs2IESOIi4tj/PjxpKenF9o/Pz+fyMhI4uPjWb16daFtq1evJjExkYcffpj8/Pwb+TbEwynAlHJnzpxh8ODB+Pr6MmXKFHx9falQoQJTpkzBx8eHP/3pT9dnRd3GjW2K4tWr7cP5tGkQE2Pbzu2udeaMVTJq1rQP6CdOWJctPz+bZvjMGRt/smsXzJgB991nxzZoYF2zdu+28SXR0Va5qVnTPvBv3myD/OfPt3Et1apZFWTHDusG9s03Noi+cWMLDDk5FmYSEqzC4+62deyYhZYyZaxCsm2bvZ/Vq62LXFhYQRA7n+BgCyybNtl1Y2IsfNWsaedx/xzODTAJCfazcIerHTusy5nIv7jvax8fH6ZOnXr2vp48efJl3deffPIJs2fP5rnnnqOe+/+diAgwa9Ysli9fzqBBg7j77rtxHIdu3brx5JNP8vnnnzNz5swiXcWaN29OREQEMTExZwNOWloa8+bNo1evXgQHBxfHWxEPpgBTimVnZ/PWW2+xe/dunnnmGVq0aIHjODiOw2233UZ0dDSHDh1i3Lhx5OXlXduLV6tmY1fWrLGB7iEhNmAfrIriXiU8JcVmDnN3sUpJgbZt7XFeHjz7rFU6/vIX269vXwsMAwbY9rlzbcD9sGHWZS083LqqLVsGK1fCXXfZWBYfH5sBrWFDCzWJiTajWdOmVmWpVcvGnmRnW3c0H5+C9tx1lz2+6y7o1MmOj421YOPuanYhFSrY9Mzffgv/+Ie9b3fXt/x8u352tl3f3T84O9sCy7nreDRpck3+WcTzue/rXbt2XfK+/nV/9czMTJYsWcLgwYO59957eeWVV4rpXYhISeNyudi3bx9vvvkmdevW5bnnnju7zXEcXnjhBcLCwpg0aRJ79uwpdGzFihXp2bMn33333dk/nmzYsIEjR44QGRl5Q9+H3Bw0jXIplpaWxvLly0lJSaF79+5F/gJy4sQJli9fTlZWFk888UShBS337dtHly5deOihh5gxY8aNbnrJk5cHGzZYQHKPWYmOtumgf8tkByJX6Eru6759+55d0DIjI4NJkyYxdepUnn/+eYYNG0ZgYGBxvAURKYFcLhdbt25l/fr1NGnS5Ow4uXOtXLmSvXv30qZNG5o1a8Yf/vAHtm3bxtKlS/H29iYsLIzXX3+d4cOHEx0dzapVq/j666+JjY0XiY1ZAAACJklEQVSle/fuvPzyywwaNEjTKMslaSHLUqxcuXI88sgjF9weHBxM3759b2CLPJiXl3XzmjfPKjW//AKPPWYTAfz1rzbZwK/Vq2fjckSuoau5r1NTU+nfvz8//fQTc+bM4ZFHHtEHCBEpxHEcmjdvTnP3pDrn0blzZzp37gxQZExLcHAwjz32GIsWLeLxxx9n/vz5/PnPfyYoKOi6tltuTgowIteC49i0z3ffbWNYype3Sox7NjWREurMmTO88sorbNq0idmzZ9OlSxeFFxG55hzHITIyklWrVjF16lT8/f2555579PtGrooCjFy2rKwsEhISADh8+DC5ubmkpKRw4MABACpUqFC6B+L5+dlsZCIeZMWKFbz//vuMGjWKOnXqEBcXV2h7YGCg1mcQkWsiIiKC4OBgYmJi6NatG+Hh4cXdJPFQGsQvl2379u3Ur1+f8PBwOnfuzJEjR1iwYAHh4eGEh4czatSo4m6iiFyhpUuXkpmZycsvv0y9evXO3s/ur7FjxxZ3E0XkJlGhQgX69u3L6dOn6d+/P2XLli3uJomH0iB+uWzp6ens3LmzyPSIblWqVCFM3aVEPEpsbCxJSUkX3F6tWrXfvnCtiJQ6LpeLuLg4MjIyqFu3Lr6+vgCcPn2avXv3cvvtt5+dRCQ9PZ29e/cSEhJClSpV1K1MLkkBRkREREREPIa6kImIiIiIiMdQgBEREREREY+hACMiIiIiIh7j/wHQ+DkZgYeJyQAAAABJRU5ErkJggg==)"
      ],
      "metadata": {
        "id": "n6HV6o117J4l"
      }
    },
    {
      "cell_type": "code",
      "source": [
        "class LSTM(nn.Module):\n",
        "    def __init__(self,vocab_size,embedding_dim,hidden_dim,output_dim):\n",
        "        super(LSTM, self).__init__()\n",
        "        self.embedding = nn.Embedding(num_embeddings=vocab_size,embedding_dim=embedding_dim)\n",
        "        self.lstm = nn.LSTM(embedding_dim, hidden_dim,num_layers=1,bidirectional=True,batch_first=True) # diz que a primeira dimensao eh o batch_size\n",
        "        self.fcl = nn.Linear(hidden_dim,output_dim)\n",
        "\n",
        "    def forward(self,text): # text = [[1,5,8,0,3,6],[8,9,1,12,34,7]] #qtde = batch_size\n",
        "        embedded = self.embedding(text) #entra estrutura nas dimensoes [batch_size x max_len]\n",
        "        lstm, (hidden, cell_state) = self.lstm(embedded) #sai estrutura nas dimensoes [batch_size x hidden_dim]\n",
        "        outputs = self.fcl(hidden[-1,:,:]) #pega o ultimo estado interno da LSTM - suficiente para classificacao\n",
        "        return outputs"
      ],
      "metadata": {
        "id": "dxFoMH4jktzE"
      },
      "execution_count": 59,
      "outputs": []
    },
    {
      "cell_type": "markdown",
      "source": [
        "Primeira parte, coletar os dados:"
      ],
      "metadata": {
        "id": "ev-MpZdf4Fsz"
      }
    },
    {
      "cell_type": "code",
      "source": [
        "cats = ['comp.graphics', 'talk.politics.misc','rec.autos','sci.electronics']\n",
        "newsgroups_train = fetch_20newsgroups(subset='train', categories=cats)\n",
        "newsgroups_test = fetch_20newsgroups(subset='test', categories=cats)"
      ],
      "metadata": {
        "id": "suU9w_E64F0Q"
      },
      "execution_count": 60,
      "outputs": []
    },
    {
      "cell_type": "markdown",
      "source": [
        "Separação dos Dados da estrutura newsgroups_train e newsgroups_test:"
      ],
      "metadata": {
        "id": "UE-VT-azntH8"
      }
    },
    {
      "cell_type": "code",
      "source": [
        "train_sentences = newsgroups_train.data\n",
        "train_labels = newsgroups_train.target\n",
        "\n",
        "test_sentences = newsgroups_test.data\n",
        "test_labels = newsgroups_test.target"
      ],
      "metadata": {
        "id": "0GM0veF_nowS"
      },
      "execution_count": 61,
      "outputs": []
    },
    {
      "cell_type": "markdown",
      "source": [
        "Pré-Processamento das sentenças de treinamento e de teste"
      ],
      "metadata": {
        "id": "zsvSBa7Bqs5N"
      }
    },
    {
      "cell_type": "code",
      "source": [
        "def preprocess(X):\n",
        "    Xl = []\n",
        "    for sentence in X:\n",
        "        result = re.sub(r'\\n',' ',sentence)\n",
        "        result = re.sub(r'[^\\w\\s]','',result) #remove os simbolos de pontuacao\n",
        "        result = result.lower()\n",
        "        Xl.append(result)\n",
        "    return Xl"
      ],
      "metadata": {
        "id": "TOF48tsWqwb7"
      },
      "execution_count": 62,
      "outputs": []
    },
    {
      "cell_type": "code",
      "source": [
        "train_preproc_sentences = preprocess(train_sentences)\n",
        "test_preproc_sentences = preprocess(test_sentences)"
      ],
      "metadata": {
        "id": "k4u3R7jFq74l"
      },
      "execution_count": 63,
      "outputs": []
    },
    {
      "cell_type": "markdown",
      "source": [
        "Construção do Vocabulário a partir das Sentenças de Treinamento"
      ],
      "metadata": {
        "id": "7WghWJRCnb-e"
      }
    },
    {
      "cell_type": "code",
      "source": [
        " # <OOV>: palavra especial out of vocabulary: quando uma palavra de teste nao existe no vocabulario de treino\n",
        " # <PAD>: palavra associada ao padding\n",
        "word2index = {'<PAD>' : 0, '<OOV>':1 }\n",
        "\n",
        "for sentence in train_preproc_sentences:\n",
        "    for word in sentence.split():\n",
        "        if word not in word2index:\n",
        "            word2index[word.lower()] = len(word2index)\n",
        "\n",
        "vocab_size = len(word2index)"
      ],
      "metadata": {
        "id": "MrMn1dDDnd_u"
      },
      "execution_count": 64,
      "outputs": []
    },
    {
      "cell_type": "code",
      "source": [
        "word2index"
      ],
      "metadata": {
        "colab": {
          "base_uri": "https://localhost:8080/"
        },
        "id": "yUaeG6BfoUGk",
        "outputId": "001a80d4-a4a6-48eb-8720-6c73dccb01f3"
      },
      "execution_count": 65,
      "outputs": [
        {
          "output_type": "execute_result",
          "data": {
            "text/plain": [
              "{'<PAD>': 0,\n",
              " '<OOV>': 1,\n",
              " 'from': 2,\n",
              " 'tommybooleattcom': 3,\n",
              " 'tommy': 4,\n",
              " 'reingold': 5,\n",
              " 'subject': 6,\n",
              " 're': 7,\n",
              " 'improvements': 8,\n",
              " 'in': 9,\n",
              " 'automatic': 10,\n",
              " 'transmissions': 11,\n",
              " 'replyto': 12,\n",
              " 'organization': 13,\n",
              " 'att': 14,\n",
              " 'bell': 15,\n",
              " 'labs': 16,\n",
              " 'holmdel': 17,\n",
              " 'nj': 18,\n",
              " 'usa': 19,\n",
              " 'originator': 20,\n",
              " 'tommyhoodlum': 21,\n",
              " 'keywords': 22,\n",
              " 'saturn': 23,\n",
              " 'subaru': 24,\n",
              " 'manual': 25,\n",
              " 'nntppostinghost': 26,\n",
              " 'hoodluml1135attcom': 27,\n",
              " 'lines': 28,\n",
              " '24': 29,\n",
              " 'hagenjdwfuedu': 30,\n",
              " 'jeff': 31,\n",
              " 'hagen': 32,\n",
              " 'writes': 33,\n",
              " 'the': 34,\n",
              " 'biggest': 35,\n",
              " 'hurdle': 36,\n",
              " 'for': 37,\n",
              " 'automatics': 38,\n",
              " 'imho': 39,\n",
              " 'is': 40,\n",
              " 'not': 41,\n",
              " 'shifting': 42,\n",
              " 'speed': 43,\n",
              " 'per': 44,\n",
              " 'se': 45,\n",
              " 'but': 46,\n",
              " 'rather': 47,\n",
              " 'reaction': 48,\n",
              " 'when': 49,\n",
              " 'you': 50,\n",
              " 'try': 51,\n",
              " 'to': 52,\n",
              " 'force': 53,\n",
              " 'it': 54,\n",
              " 'shift': 55,\n",
              " 'manually': 56,\n",
              " 'i': 57,\n",
              " 'rented': 58,\n",
              " 'an': 59,\n",
              " 'oldsmobile': 60,\n",
              " 'achieva': 61,\n",
              " 'that': 62,\n",
              " 'a': 63,\n",
              " 'yuppie': 64,\n",
              " 'name': 65,\n",
              " 'or': 66,\n",
              " 'what': 67,\n",
              " 'and': 68,\n",
              " 'nissan': 69,\n",
              " 'stanza': 70,\n",
              " 'they': 71,\n",
              " 'both': 72,\n",
              " 'had': 73,\n",
              " 'im': 74,\n",
              " 'transmission': 75,\n",
              " 'bigot': 76,\n",
              " 'have': 77,\n",
              " 'admit': 78,\n",
              " 'on': 79,\n",
              " 'these': 80,\n",
              " 'cars': 81,\n",
              " 'were': 82,\n",
              " 'better': 83,\n",
              " 'shifters': 84,\n",
              " 'than': 85,\n",
              " 'am': 86,\n",
              " 'yes': 87,\n",
              " 'responded': 88,\n",
              " 'very': 89,\n",
              " 'quickly': 90,\n",
              " 'kickdown': 91,\n",
              " 'requests': 92,\n",
              " 'tachometer': 93,\n",
              " 'so': 94,\n",
              " 'was': 95,\n",
              " 'able': 96,\n",
              " 'figure': 97,\n",
              " 'out': 98,\n",
              " 'which': 99,\n",
              " 'gear': 100,\n",
              " 'olds': 101,\n",
              " 'may': 102,\n",
              " 'also': 103,\n",
              " 'dont': 104,\n",
              " 'remember': 105,\n",
              " 'believe': 106,\n",
              " 'shifted': 107,\n",
              " 'all': 108,\n",
              " 'way': 109,\n",
              " 'down': 110,\n",
              " 'second': 111,\n",
              " 'at': 112,\n",
              " 'about': 113,\n",
              " '50': 114,\n",
              " 'mph': 115,\n",
              " 'my': 116,\n",
              " 'foot': 117,\n",
              " 'told': 118,\n",
              " 'no': 119,\n",
              " 'really': 120,\n",
              " 'want': 121,\n",
              " 'accelerate': 122,\n",
              " 'would': 123,\n",
              " 'still': 124,\n",
              " 'prefer': 125,\n",
              " 'wont': 126,\n",
              " 'delude': 127,\n",
              " 'myself': 128,\n",
              " 'into': 129,\n",
              " 'thinking': 130,\n",
              " 'can': 131,\n",
              " 'outaccelerate': 132,\n",
              " 'modern': 133,\n",
              " 'smooth': 134,\n",
              " 'certainly': 135,\n",
              " 'as': 136,\n",
              " 'good': 137,\n",
              " 'attbooletommy': 138,\n",
              " 'scottosicom': 139,\n",
              " 'scott': 140,\n",
              " 'fleming': 141,\n",
              " 'sun': 142,\n",
              " 'ipx': 143,\n",
              " 'root': 144,\n",
              " 'window': 145,\n",
              " 'display': 146,\n",
              " 'background': 147,\n",
              " 'picture': 148,\n",
              " 'objective': 149,\n",
              " 'systems': 150,\n",
              " 'integrators': 151,\n",
              " 'folsom': 152,\n",
              " 'ca': 153,\n",
              " '22': 154,\n",
              " 'hello': 155,\n",
              " 'netters': 156,\n",
              " 'fairly': 157,\n",
              " 'weak': 158,\n",
              " 'question': 159,\n",
              " 'ask': 160,\n",
              " 'everybody': 161,\n",
              " 'netland': 162,\n",
              " 'ive': 163,\n",
              " 'looked': 164,\n",
              " 'though': 165,\n",
              " 'last': 166,\n",
              " 'faq': 167,\n",
              " 'compgraphics': 168,\n",
              " 'didnt': 169,\n",
              " 'find': 170,\n",
              " 'answer': 171,\n",
              " 'thus': 172,\n",
              " 'post': 173,\n",
              " 'ill': 174,\n",
              " 'keep': 175,\n",
              " 'short': 176,\n",
              " 'how': 177,\n",
              " 'do': 178,\n",
              " 'any': 179,\n",
              " 'raster': 180,\n",
              " 'files': 181,\n",
              " 'gif': 182,\n",
              " 'iff': 183,\n",
              " 'tiff': 184,\n",
              " 'images': 185,\n",
              " 'ipc': 186,\n",
              " 'openwindows': 187,\n",
              " '30': 188,\n",
              " 'os': 189,\n",
              " '413': 190,\n",
              " 'if': 191,\n",
              " 'helps': 192,\n",
              " 'compiled': 193,\n",
              " 'pov': 194,\n",
              " 'like': 195,\n",
              " 'some': 196,\n",
              " 'of': 197,\n",
              " 'work': 198,\n",
              " 'done': 199,\n",
              " 'backgroundtile': 200,\n",
              " 'thanks': 201,\n",
              " 'help': 202,\n",
              " 'information': 203,\n",
              " 'provide': 204,\n",
              " 'day': 205,\n",
              " 'osi': 206,\n",
              " 'ps': 207,\n",
              " 'kudos': 208,\n",
              " 'people': 209,\n",
              " 'who': 210,\n",
              " 'provided': 211,\n",
              " 'its': 212,\n",
              " 'great': 213,\n",
              " 'larryhsumtlmitedu': 214,\n",
              " 'lawrence': 215,\n",
              " 'hsu': 216,\n",
              " 'shrunken': 217,\n",
              " 'monitor': 218,\n",
              " 'mit': 219,\n",
              " 'microsystems': 220,\n",
              " 'technology': 221,\n",
              " 'laboratories': 222,\n",
              " '12': 223,\n",
              " 'mtlmitedu': 224,\n",
              " 'does': 225,\n",
              " 'anyone': 226,\n",
              " 'know': 227,\n",
              " 'causes': 228,\n",
              " 'evergrowing': 229,\n",
              " 'black': 230,\n",
              " 'border': 231,\n",
              " 'around': 232,\n",
              " 'edges': 233,\n",
              " 'computer': 234,\n",
              " 'screen': 235,\n",
              " 'growth': 236,\n",
              " 'has': 237,\n",
              " 'been': 238,\n",
              " 'gradual': 239,\n",
              " 'long': 240,\n",
              " 'taken': 241,\n",
              " 'get': 242,\n",
              " 'this': 243,\n",
              " 'bad': 244,\n",
              " '19': 245,\n",
              " 'dec': 246,\n",
              " 'color': 247,\n",
              " 'maybe': 248,\n",
              " 'five': 249,\n",
              " 'years': 250,\n",
              " 'old': 251,\n",
              " '11': 252,\n",
              " 'inches': 253,\n",
              " 'left': 254,\n",
              " 'right': 255,\n",
              " 'sides': 256,\n",
              " '175': 257,\n",
              " 'bottom': 258,\n",
              " 'negligible': 259,\n",
              " 'top': 260,\n",
              " 'only': 261,\n",
              " 'controls': 262,\n",
              " 'are': 263,\n",
              " 'brightness': 264,\n",
              " 'knob': 265,\n",
              " 'contrast': 266,\n",
              " 'degauss': 267,\n",
              " 'switch': 268,\n",
              " 'power': 269,\n",
              " 'there': 270,\n",
              " 'anything': 271,\n",
              " 'be': 272,\n",
              " 'monitors': 273,\n",
              " 'days': 274,\n",
              " 'numbered': 275,\n",
              " 'larry': 276,\n",
              " 'dkusswurfalcondepauledu': 277,\n",
              " 'daniel': 278,\n",
              " 'c': 279,\n",
              " 'kusswurm': 280,\n",
              " 'siggraph': 281,\n",
              " '1987': 282,\n",
              " 'course': 283,\n",
              " 'notes': 284,\n",
              " 'falcondepauledu': 285,\n",
              " 'depaul': 286,\n",
              " 'university': 287,\n",
              " 'chicago': 288,\n",
              " 'distribution': 289,\n",
              " '7': 290,\n",
              " 'looking': 291,\n",
              " 'copy': 292,\n",
              " 'following': 293,\n",
              " 'publication': 294,\n",
              " 'gomez': 295,\n",
              " 'je': 296,\n",
              " 'comments': 297,\n",
              " 'event': 298,\n",
              " 'driven': 299,\n",
              " 'annimation': 300,\n",
              " '10': 301,\n",
              " 'knows': 302,\n",
              " 'location': 303,\n",
              " 'where': 304,\n",
              " 'obtain': 305,\n",
              " 'appreciate': 306,\n",
              " 'could': 307,\n",
              " 'let': 308,\n",
              " 'me': 309,\n",
              " 'ct22cunixacccolumbiaedu': 310,\n",
              " 'constantino': 311,\n",
              " 'tobio': 312,\n",
              " 'quick': 313,\n",
              " 'articleid': 314,\n",
              " 'news1993apr605030213153': 315,\n",
              " 'columbia': 316,\n",
              " '62': 317,\n",
              " 'cunixacccolumbiaedu': 318,\n",
              " 'newsgroups': 319,\n",
              " 'recautosrecautosvw': 320,\n",
              " 'summary': 321,\n",
              " 'expires': 322,\n",
              " 'sender': 323,\n",
              " 'followupto': 324,\n",
              " 'removing': 325,\n",
              " 'panels': 326,\n",
              " 'article': 327,\n",
              " '1993apr521145712789olecdaccom': 328,\n",
              " 'ssaveolecdaccom': 329,\n",
              " 'devil': 330,\n",
              " 'reincarnate': 331,\n",
              " 'take': 332,\n",
              " 'off': 333,\n",
              " 'driver': 334,\n",
              " 'side': 335,\n",
              " 'door': 336,\n",
              " 'panel': 337,\n",
              " 'inside': 338,\n",
              " '87': 339,\n",
              " 'honda': 340,\n",
              " 'prelude': 341,\n",
              " 'speaker': 342,\n",
              " 'went': 343,\n",
              " 'scratchy': 344,\n",
              " 'access': 345,\n",
              " 'pins': 346,\n",
              " 'see': 347,\n",
              " 'one': 348,\n",
              " 'press': 349,\n",
              " 'button': 350,\n",
              " 'rest': 351,\n",
              " 'snug': 352,\n",
              " 'fit': 353,\n",
              " 's': 354,\n",
              " 'why': 355,\n",
              " 'posting': 356,\n",
              " 'vw': 357,\n",
              " 'newsgroup': 358,\n",
              " 'world': 359,\n",
              " 'references': 360,\n",
              " 'jr': 361,\n",
              " 'ct22columbiaedu': 362,\n",
              " 'tremble': 363,\n",
              " 'weaklings': 364,\n",
              " 'cower': 365,\n",
              " 'fear': 366,\n",
              " 'your': 367,\n",
              " 'ruler': 368,\n",
              " 'land': 369,\n",
              " 'sea': 370,\n",
              " 'air': 371,\n",
              " 'immense': 372,\n",
              " 'girth': 373,\n",
              " 'erect': 374,\n",
              " 'stand': 375,\n",
              " 'tall': 376,\n",
              " 'nuclear': 377,\n",
              " 'murderer': 378,\n",
              " 'polaris': 379,\n",
              " 'megadeth': 380,\n",
              " 'rust': 381,\n",
              " 'peace': 382,\n",
              " 'jwgsedv1acd4acdcom': 383,\n",
              " 'jwg': 384,\n",
              " 'dumbest': 385,\n",
              " 'automotive': 386,\n",
              " 'concepts': 387,\n",
              " 'time': 388,\n",
              " 'inreplyto': 389,\n",
              " 'bhtulinunixamherstedus': 390,\n",
              " 'message': 391,\n",
              " 'wed': 392,\n",
              " '14': 393,\n",
              " 'apr': 394,\n",
              " '1993': 395,\n",
              " '203523': 396,\n",
              " 'gmt': 397,\n",
              " 'ujwgorganization': 398,\n",
              " '16': 399,\n",
              " 'c5hqj057unixamherstedu': 400,\n",
              " 'bhtulinunixamherstedu': 401,\n",
              " 'barak': 402,\n",
              " 'h': 403,\n",
              " 'tulin': 404,\n",
              " 'gives': 405,\n",
              " 'forth': 406,\n",
              " 'just': 407,\n",
              " 'started': 408,\n",
              " 'reading': 409,\n",
              " 'thread': 410,\n",
              " 'today': 411,\n",
              " 'forgive': 412,\n",
              " 'already': 413,\n",
              " 'mentioned': 414,\n",
              " 'butwhat': 415,\n",
              " 'deal': 416,\n",
              " 'with': 417,\n",
              " 'renaults': 418,\n",
              " 'putting': 419,\n",
              " 'horn': 420,\n",
              " 'lefthand': 421,\n",
              " 'turnsignal': 422,\n",
              " 'stalk': 423,\n",
              " 'end': 424,\n",
              " 'washer': 425,\n",
              " 'wiperwasher': 426,\n",
              " 'frenchies': 427,\n",
              " 'wiring': 428,\n",
              " 'through': 429,\n",
              " 'steering': 430,\n",
              " 'wheel': 431,\n",
              " '83': 432,\n",
              " 'alliance': 433,\n",
              " 'comfortable': 434,\n",
              " 'sluggish': 435,\n",
              " 'car': 436,\n",
              " 'got': 437,\n",
              " 'used': 438,\n",
              " 'after': 439,\n",
              " 'couple': 440,\n",
              " 'months': 441,\n",
              " 'worth': 442,\n",
              " 'getting': 443,\n",
              " 'bought': 444,\n",
              " 'next': 445,\n",
              " 'chevy': 446,\n",
              " 'took': 447,\n",
              " 'forever': 448,\n",
              " 'again': 449,\n",
              " 'jim': 450,\n",
              " 'grey': 451,\n",
              " 'jwgacd4acdcom': 452,\n",
              " 'up': 453,\n",
              " 'irons': 454,\n",
              " 'larsjorgensenp7syntaxbbsbadse': 455,\n",
              " 'lars': 456,\n",
              " 'jorgensen': 457,\n",
              " 'externel': 458,\n",
              " 'processes': 459,\n",
              " '3d': 460,\n",
              " 'studio': 461,\n",
              " 'nr': 462,\n",
              " '5': 463,\n",
              " 'p': 464,\n",
              " 'natrb': 465,\n",
              " 'odcommentto': 466,\n",
              " 'internet_gateway': 467,\n",
              " '13': 468,\n",
              " 'toall': 469,\n",
              " 'hi': 470,\n",
              " 'anybody': 471,\n",
              " 'source': 472,\n",
              " 'code': 473,\n",
              " 'comes': 474,\n",
              " 'mabe': 475,\n",
              " 'som': 476,\n",
              " 'kind': 477,\n",
              " 'doc': 478,\n",
              " 'writing': 479,\n",
              " 'self': 480,\n",
              " 'author': 481,\n",
              " 'lars_jorgensenp7syntaxbbsbadse': 482,\n",
              " 'syntax': 483,\n",
              " 'bbs': 484,\n",
              " 'denmark': 485,\n",
              " 'golded': 486,\n",
              " '241': 487,\n",
              " 'muellermvusevanderbiltedu': 488,\n",
              " 'marc': 489,\n",
              " 'mueller': 490,\n",
              " 'pork': 491,\n",
              " 'c17': 492,\n",
              " 'c5': 493,\n",
              " 'abolish': 494,\n",
              " 'selective': 495,\n",
              " 'service': 496,\n",
              " 'irlsp': 497,\n",
              " 'vanderbilt': 498,\n",
              " 'school': 499,\n",
              " 'engineering': 500,\n",
              " 'nashville': 501,\n",
              " 'tn': 502,\n",
              " '48': 503,\n",
              " '1993apr1617430426360ramsstateedu': 504,\n",
              " 'fpa1ramsstateedu': 505,\n",
              " 'fletcher': 506,\n",
              " 'adams': 507,\n",
              " 'fpa1trumpetccmsstateedu': 508,\n",
              " 'eliminate': 509,\n",
              " 'transport': 510,\n",
              " 'wrong': 511,\n",
              " 'we': 512,\n",
              " 'need': 513,\n",
              " 'capability': 514,\n",
              " 'sure': 515,\n",
              " 'problems': 516,\n",
              " 'read': 517,\n",
              " 'aviation': 518,\n",
              " 'week': 519,\n",
              " 'line': 520,\n",
              " 'reopened': 521,\n",
              " 'c5s': 522,\n",
              " 'delivered': 523,\n",
              " 'year': 524,\n",
              " 'earlier': 525,\n",
              " 'cost': 526,\n",
              " 'billion': 527,\n",
              " 'less': 528,\n",
              " 'program': 529,\n",
              " 'politically': 530,\n",
              " 'popular': 531,\n",
              " 'av': 532,\n",
              " 'supply': 533,\n",
              " 'date': 534,\n",
              " 'magazine': 535,\n",
              " 'march': 536,\n",
              " '15': 537,\n",
              " 'p48': 538,\n",
              " 'cbo': 539,\n",
              " 'estimates': 540,\n",
              " 'matching': 541,\n",
              " '100': 542,\n",
              " 'c17s': 543,\n",
              " 'require': 544,\n",
              " '70': 545,\n",
              " 'total': 546,\n",
              " '144': 547,\n",
              " 'option': 548,\n",
              " 'more': 549,\n",
              " 'cheaper': 550,\n",
              " 'completing': 551,\n",
              " 'will': 552,\n",
              " '247': 553,\n",
              " 'sorry': 554,\n",
              " 'nine': 555,\n",
              " 'ten': 556,\n",
              " 'vs': 557,\n",
              " 'cant': 558,\n",
              " 'carry': 559,\n",
              " 'much': 560,\n",
              " 'smaller': 561,\n",
              " 'airfields': 562,\n",
              " 'now': 563,\n",
              " 'depends': 564,\n",
              " 'whether': 565,\n",
              " 'job': 566,\n",
              " 'relies': 567,\n",
              " 'california': 568,\n",
              " 'say': 569,\n",
              " 'since': 570,\n",
              " 'due': 571,\n",
              " 'dividend': 572,\n",
              " 'many': 573,\n",
              " 'well': 574,\n",
              " 'voted': 575,\n",
              " 'overwhelmingly': 576,\n",
              " 'change': 577,\n",
              " 'argument': 578,\n",
              " 'continue': 579,\n",
              " 'military': 580,\n",
              " 'programs': 581,\n",
              " 'support': 582,\n",
              " 'jobs': 583,\n",
              " 'poor': 584,\n",
              " 'kept': 585,\n",
              " 'quite': 586,\n",
              " 'few': 587,\n",
              " 'bases': 588,\n",
              " 'open': 589,\n",
              " 'should': 590,\n",
              " 'closed': 591,\n",
              " 'ago': 592,\n",
              " 'wasting': 593,\n",
              " 'billions': 594,\n",
              " 'taxes': 595,\n",
              " 'les': 596,\n",
              " 'aspin': 597,\n",
              " 'clinton': 598,\n",
              " 'face': 599,\n",
              " 'happy': 600,\n",
              " 'congress': 601,\n",
              " 'huh': 602,\n",
              " 'shouldnt': 603,\n",
              " 'socialpork': 604,\n",
              " 'jobspork': 605,\n",
              " 'fpa': 606,\n",
              " 'mcostelloasysdtnavymil': 607,\n",
              " 'malcolm': 608,\n",
              " 'g': 609,\n",
              " 'costello': 610,\n",
              " 'carderock': 611,\n",
              " 'division': 612,\n",
              " 'nswc': 613,\n",
              " 'bethesda': 614,\n",
              " 'md': 615,\n",
              " '25': 616,\n",
              " 'x': 617,\n",
              " 'fake': 618,\n",
              " 'convertible': 619,\n",
              " 'roofs': 620,\n",
              " 'vinyl': 621,\n",
              " 'gold': 622,\n",
              " 'trim': 623,\n",
              " 'agree': 624,\n",
              " 'abominations': 625,\n",
              " 'along': 626,\n",
              " 'xcontinental': 627,\n",
              " 'sparetire': 628,\n",
              " 'kit': 629,\n",
              " 'sad': 630,\n",
              " 'watching': 631,\n",
              " 'those': 632,\n",
              " 'little': 633,\n",
              " 'ladies': 634,\n",
              " 'xtry': 635,\n",
              " 'load': 636,\n",
              " 'their': 637,\n",
              " 'groceries': 638,\n",
              " 'trunk': 639,\n",
              " 'huge': 640,\n",
              " 'tiremedallion': 641,\n",
              " 'xin': 642,\n",
              " 'most': 643,\n",
              " 'pitiful': 644,\n",
              " 'cadillac': 645,\n",
              " 'cimarron': 646,\n",
              " 'xall': 647,\n",
              " 'chrome': 648,\n",
              " 'visible': 649,\n",
              " 'fooling': 650,\n",
              " 'xof': 651,\n",
              " 'hyundai': 652,\n",
              " 'excel': 653,\n",
              " 'once': 654,\n",
              " 'saw': 655,\n",
              " 'least': 656,\n",
              " 'think': 657,\n",
              " 'taste': 658,\n",
              " 'something': 659,\n",
              " 'new': 660,\n",
              " 'back': 661,\n",
              " 'early': 662,\n",
              " '1970s': 663,\n",
              " 'flocked': 664,\n",
              " 'paint': 665,\n",
              " 'thats': 666,\n",
              " 'typo': 667,\n",
              " 'sprayed': 668,\n",
              " 'glue': 669,\n",
              " 'then': 670,\n",
              " 'blew': 671,\n",
              " 'tiny': 672,\n",
              " 'pieces': 673,\n",
              " 'nylon': 674,\n",
              " 'felt': 675,\n",
              " 'plymouth': 676,\n",
              " 'fury': 677,\n",
              " 'iii': 678,\n",
              " 'dark': 679,\n",
              " 'blue': 680,\n",
              " 'even': 681,\n",
              " 'guy': 682,\n",
              " 'did': 683,\n",
              " 'red': 684,\n",
              " '1960s': 685,\n",
              " 'corvette': 686,\n",
              " 'he': 687,\n",
              " 'turned': 688,\n",
              " 'station': 689,\n",
              " 'wagon': 690,\n",
              " 'mack': 691,\n",
              " '651': 692,\n",
              " 'formerly': 693,\n",
              " '17201': 694,\n",
              " 'david': 695,\n",
              " 'taylor': 696,\n",
              " 'model': 697,\n",
              " 'basin': 698,\n",
              " 'hq': 699,\n",
              " '_______': 700,\n",
              " '200845000': 701,\n",
              " 'phone': 702,\n",
              " '301': 703,\n",
              " '2272431': 704,\n",
              " '__________': 705,\n",
              " 'crussellnetcomcom': 706,\n",
              " 'chris': 707,\n",
              " 'russell': 708,\n",
              " 'philosophical': 709,\n",
              " 'significance': 710,\n",
              " '42': 711,\n",
              " 'silly': 712,\n",
              " 'adaptive': 713,\n",
              " 'solutions': 714,\n",
              " 'custom': 715,\n",
              " 'software': 716,\n",
              " '9098614048': 717,\n",
              " 'xnewsreader': 718,\n",
              " 'tin': 719,\n",
              " 'version': 720,\n",
              " 'pl8': 721,\n",
              " '40': 722,\n",
              " 'mark': 723,\n",
              " 'wilson': 724,\n",
              " 'markocsmdocscom': 725,\n",
              " 'wrote': 726,\n",
              " 'cartwright': 727,\n",
              " 'markcemxutexasedu': 728,\n",
              " '101010': 729,\n",
              " 'binary': 730,\n",
              " 'forget': 731,\n",
              " 'life': 732,\n",
              " 'universe': 733,\n",
              " 'everything': 734,\n",
              " 'else': 735,\n",
              " 'yet': 736,\n",
              " 'discovered': 737,\n",
              " 'sort': 738,\n",
              " 'times': 739,\n",
              " '8': 740,\n",
              " 'theres': 741,\n",
              " 'special': 742,\n",
              " 'prize': 743,\n",
              " 'amaze': 744,\n",
              " 'friends': 745,\n",
              " 'gain': 746,\n",
              " 'respect': 747,\n",
              " 'peers': 748,\n",
              " 'number': 749,\n",
              " 'original': 750,\n",
              " 'meaning': 751,\n",
              " 'generated': 752,\n",
              " 'by': 753,\n",
              " 'deep': 754,\n",
              " 'thought': 755,\n",
              " '2nd': 756,\n",
              " 'largest': 757,\n",
              " 'ever': 758,\n",
              " 'created': 759,\n",
              " 'realized': 760,\n",
              " 'understand': 761,\n",
              " 'must': 762,\n",
              " 'unfortunately': 763,\n",
              " 'build': 764,\n",
              " 'named': 765,\n",
              " 'earth': 766,\n",
              " 'real': 767,\n",
              " 'knowledge': 768,\n",
              " 'everyone': 769,\n",
              " 'here': 770,\n",
              " 'bear': 771,\n",
              " 'sec': 772,\n",
              " 'arthur': 773,\n",
              " 'pulled': 774,\n",
              " 'scrabble': 775,\n",
              " 'tiles': 776,\n",
              " 'bag': 777,\n",
              " 'spelled': 778,\n",
              " 'six': 779,\n",
              " 'however': 780,\n",
              " 'clear': 781,\n",
              " 'monkeyman': 782,\n",
              " 'his': 783,\n",
              " 'brain': 784,\n",
              " 'especially': 785,\n",
              " 'lady': 786,\n",
              " 'diner': 787,\n",
              " 'vaporized': 788,\n",
              " 'moments': 789,\n",
              " 'later': 790,\n",
              " 'came': 791,\n",
              " 'other': 792,\n",
              " 'hand': 793,\n",
              " 'marvin': 794,\n",
              " 'said': 795,\n",
              " 'dents': 796,\n",
              " 'lets': 797,\n",
              " 'presume': 798,\n",
              " 'correct': 799,\n",
              " 'fortytwo': 800,\n",
              " 'base': 801,\n",
              " 'chew': 802,\n",
              " 'awhile': 803,\n",
              " 'networks': 804,\n",
              " 'case': 805,\n",
              " 'tools': 806,\n",
              " 'consulting': 807,\n",
              " 'sparc': 808,\n",
              " 'sgi': 809,\n",
              " 'iris': 810,\n",
              " 'hp': 811,\n",
              " 'apollo': 812,\n",
              " 'macintosh': 813,\n",
              " 'pc': 814,\n",
              " 'internet': 815,\n",
              " 'gte': 816,\n",
              " 'us': 817,\n",
              " 'mail': 818,\n",
              " 'po': 819,\n",
              " 'box': 820,\n",
              " '5424': 821,\n",
              " 'diamond': 822,\n",
              " 'bar': 823,\n",
              " '916757424': 824,\n",
              " 'joestelxonmistelxoncom': 825,\n",
              " 'joe': 826,\n",
              " 'staudt': 827,\n",
              " 'renting': 828,\n",
              " 'alamo': 829,\n",
              " 'telxon': 830,\n",
              " 'corporation': 831,\n",
              " '45': 832,\n",
              " '1993apr2014281814969ericssonse': 833,\n",
              " 'etxmststaericssonse': 834,\n",
              " 'visiting': 835,\n",
              " 'sweden': 836,\n",
              " 'august': 837,\n",
              " 'probably': 838,\n",
              " 'rent': 839,\n",
              " 'beretta': 840,\n",
              " 'quoted': 841,\n",
              " '225': 842,\n",
              " '54': 843,\n",
              " 'additional': 844,\n",
              " 'include': 845,\n",
              " 'free': 846,\n",
              " 'driving': 847,\n",
              " 'distance': 848,\n",
              " 'local': 849,\n",
              " 'baltimore': 850,\n",
              " 'insurance': 851,\n",
              " 'necessary': 852,\n",
              " 'included': 853,\n",
              " 'doubt': 854,\n",
              " 'cause': 855,\n",
              " 'friend': 856,\n",
              " 'needed': 857,\n",
              " 'lot': 858,\n",
              " 'whats': 859,\n",
              " 'price': 860,\n",
              " 'info': 861,\n",
              " 'ripoff': 862,\n",
              " 'sounds': 863,\n",
              " 'pretty': 864,\n",
              " 'reasonable': 865,\n",
              " 'city': 866,\n",
              " 'probability': 867,\n",
              " 'needing': 868,\n",
              " 'unless': 869,\n",
              " 'accident': 870,\n",
              " 'plan': 871,\n",
              " 'paying': 872,\n",
              " 'credit': 873,\n",
              " 'card': 874,\n",
              " 'check': 875,\n",
              " 'automatically': 876,\n",
              " 'covers': 877,\n",
              " 'rental': 878,\n",
              " 'own': 879,\n",
              " 'auto': 880,\n",
              " 'cover': 881,\n",
              " 'companies': 882,\n",
              " 'offer': 883,\n",
              " 'extra': 884,\n",
              " 'initial': 885,\n",
              " 'several': 886,\n",
              " 'spots': 887,\n",
              " 'cards': 888,\n",
              " 'personal': 889,\n",
              " 'same': 890,\n",
              " 'coverage': 891,\n",
              " 'agency': 892,\n",
              " 'trying': 893,\n",
              " 'sell': 894,\n",
              " 'never': 895,\n",
              " 'follow': 896,\n",
              " 'practice': 897,\n",
              " 'compact': 898,\n",
              " '2door': 899,\n",
              " 'bit': 900,\n",
              " 'dull': 901,\n",
              " 'performance': 902,\n",
              " 'accelerationwise': 903,\n",
              " 'adequate': 904,\n",
              " 'amfm': 905,\n",
              " 'stereo': 906,\n",
              " 'conditioning': 907,\n",
              " 'possibly': 908,\n",
              " 'windows': 909,\n",
              " 'locks': 910,\n",
              " 'joseph': 911,\n",
              " 'corp': 912,\n",
              " 'joestelxoncom': 913,\n",
              " '5582': 914,\n",
              " 'usenet': 915,\n",
              " 'tetris': 916,\n",
              " 'akron': 917,\n",
              " 'oh': 918,\n",
              " '443340582': 919,\n",
              " '216': 920,\n",
              " '8673700': 921,\n",
              " 'x3522': 922,\n",
              " 'j': 923,\n",
              " 'heller': 924,\n",
              " 'cheinanaccessdigexcom': 925,\n",
              " 'cheinan': 926,\n",
              " 'marks': 927,\n",
              " 'please': 928,\n",
              " 'recommend': 929,\n",
              " 'graphics': 930,\n",
              " 'library': 931,\n",
              " 'mac': 932,\n",
              " 'express': 933,\n",
              " 'online': 934,\n",
              " 'communications': 935,\n",
              " 'greenbelt': 936,\n",
              " 'accessdigexnet': 937,\n",
              " 'robert': 938,\n",
              " 'carpenter': 939,\n",
              " 'building': 940,\n",
              " 'cad': 941,\n",
              " 'package': 942,\n",
              " 'handle': 943,\n",
              " 'rudimentry': 944,\n",
              " 'tasks': 945,\n",
              " 'such': 946,\n",
              " 'hidden': 947,\n",
              " 'removal': 948,\n",
              " 'shading': 949,\n",
              " 'animation': 950,\n",
              " 'etc': 951,\n",
              " 'recommendations': 952,\n",
              " 'contact': 953,\n",
              " 'address': 954,\n",
              " 'email': 955,\n",
              " 'responses': 956,\n",
              " 'others': 957,\n",
              " 'bob': 958,\n",
              " 'extracted': 959,\n",
              " 'sumexaimstanfordedu': 960,\n",
              " 'mirrors': 961,\n",
              " 'applications': 962,\n",
              " 'bearing': 963,\n",
              " 'project': 964,\n",
              " 'poke': 965,\n",
              " 'directory': 966,\n",
              " 'nor': 967,\n",
              " 'hope': 968,\n",
              " 'abstracts': 969,\n",
              " 'thu': 970,\n",
              " '1': 971,\n",
              " '031139': 972,\n",
              " 'pst': 973,\n",
              " 'infomacsource': 974,\n",
              " 'binhex': 975,\n",
              " '3dgrafsys121hqx': 976,\n",
              " 'fri': 977,\n",
              " 'mar': 978,\n",
              " '93': 979,\n",
              " '141307': 980,\n",
              " '0100': 981,\n",
              " 'christian': 982,\n",
              " 'steffen': 983,\n",
              " 'ove': 984,\n",
              " 'franz': 985,\n",
              " 'cfranziiicethzch': 986,\n",
              " 'questionsmacarchiveumichedu': 987,\n",
              " 'grafsys': 988,\n",
              " '121': 989,\n",
              " 'incoming': 990,\n",
              " 'description': 991,\n",
              " 'follows': 992,\n",
              " 'programmers': 993,\n",
              " 'vers': 994,\n",
              " 'available': 995,\n",
              " 'mainly': 996,\n",
              " 'bugfix': 997,\n",
              " 'users': 998,\n",
              " 'runs': 999,\n",
              " ...}"
            ]
          },
          "metadata": {},
          "execution_count": 65
        }
      ]
    },
    {
      "cell_type": "markdown",
      "source": [
        "Converte as palavras de cada sentença dos dados de treinamento e de teste para números inteiros (numericalização) e, em seguida, faz o **padding**, em que todas as sentenças terão ```max_len``` de tamanho.\n",
        "\n",
        "```max_len``` é um valor que deve ser ajustado manualmente!"
      ],
      "metadata": {
        "id": "f4ofpCR8rbhX"
      }
    },
    {
      "cell_type": "code",
      "source": [
        "def encoding(X,vocab,max_len):\n",
        "\n",
        "    sentences_encoding = []\n",
        "\n",
        "    for i in range(len(X)):\n",
        "        sentence = X[i].split()\n",
        "        encoded_sentence = []\n",
        "        for j in range(0,min(len(sentence),max_len)):\n",
        "            if sentence[j] in vocab:\n",
        "                encoded_sentence.append(vocab[sentence[j]])\n",
        "            else:\n",
        "                encoded_sentence.append(vocab['<OOV>']) # se palavra nao estiver no vocabulario, colocar o indice da palavra especial OOV\n",
        "\n",
        "        if max_len > len(sentence):\n",
        "            tam = max_len-len(sentence)\n",
        "            zeros = [vocab['<PAD>']]*tam\n",
        "            encoded_sentence.extend(zeros)\n",
        "\n",
        "        sentences_encoding.append(np.array(encoded_sentence))\n",
        "\n",
        "    return np.array(sentences_encoding)"
      ],
      "metadata": {
        "id": "LybiY5v_sOE1"
      },
      "execution_count": 66,
      "outputs": []
    },
    {
      "cell_type": "markdown",
      "source": [
        "Ajusta o padding das sentenças. Todas elas terão 256 palavras. Caso uma sentença tenha menos do que 256 palavras, as posições remanescentes são preenchidas com valor zero."
      ],
      "metadata": {
        "id": "tU1DNtucsp8c"
      }
    },
    {
      "cell_type": "code",
      "source": [
        "max_len = 128"
      ],
      "metadata": {
        "id": "FCvvZ-ZvsoJs"
      },
      "execution_count": 67,
      "outputs": []
    },
    {
      "cell_type": "code",
      "source": [
        "train_integer_values = encoding(train_preproc_sentences,word2index,max_len)\n",
        "test_integer_values = encoding(test_preproc_sentences,word2index,max_len)"
      ],
      "metadata": {
        "id": "FuT0yQQspI2V"
      },
      "execution_count": 68,
      "outputs": []
    },
    {
      "cell_type": "markdown",
      "source": [
        "Resultado do padding: vetores com tamanho maximo de 256"
      ],
      "metadata": {
        "id": "5Y3C9G_6vSHs"
      }
    },
    {
      "cell_type": "code",
      "source": [
        "len(train_integer_values[1])"
      ],
      "metadata": {
        "colab": {
          "base_uri": "https://localhost:8080/"
        },
        "id": "ydfrOno-vOkL",
        "outputId": "51e3ac03-a3c3-4b1b-9179-90d5edb46a17"
      },
      "execution_count": 69,
      "outputs": [
        {
          "output_type": "execute_result",
          "data": {
            "text/plain": [
              "128"
            ]
          },
          "metadata": {},
          "execution_count": 69
        }
      ]
    },
    {
      "cell_type": "markdown",
      "source": [
        "e todas as palavras foram convertidas para números:"
      ],
      "metadata": {
        "id": "fJEdBd6GvaNc"
      }
    },
    {
      "cell_type": "code",
      "source": [
        "train_integer_values[1]"
      ],
      "metadata": {
        "colab": {
          "base_uri": "https://localhost:8080/"
        },
        "id": "pBb0RK2AvURE",
        "outputId": "85670322-9fc7-4bab-88b0-ea0fca842b55"
      },
      "execution_count": 70,
      "outputs": [
        {
          "output_type": "execute_result",
          "data": {
            "text/plain": [
              "array([  2, 139, 140, 141,   6, 142, 143, 144, 145, 146, 147, 148,  22,\n",
              "       142, 143, 147, 148,  13, 149, 150, 151, 152, 153,  28, 154, 155,\n",
              "       156,  57,  77,  63, 157, 158, 159,  52, 160, 161,   9, 162, 163,\n",
              "       164, 165,  34, 166, 167,  37, 168,  46,  57, 169, 170, 116, 171,\n",
              "       172,  34, 173, 174, 175,  54, 176, 159, 177, 178,  57, 146, 179,\n",
              "       180, 181, 182, 181, 183,  66, 184, 185,  62,  57,  77,  79, 116,\n",
              "       144, 145,  66, 147,  57,  77,  63, 142, 186, 187, 188, 142, 189,\n",
              "       190, 191,  62, 192, 179, 163, 193, 194,  37,  34, 142,  68, 123,\n",
              "       195,  52, 146, 196, 197,  34, 198,  57,  77, 199, 136,  63, 200,\n",
              "       201,  37, 179, 202,  66, 203,  62,  50, 204,  77,  63])"
            ]
          },
          "metadata": {},
          "execution_count": 70
        }
      ]
    },
    {
      "cell_type": "markdown",
      "source": [
        "Colocamos agora os dados de treinamento e de teste dentro de DataLoaders"
      ],
      "metadata": {
        "id": "3fn4PO3ivv9m"
      }
    },
    {
      "cell_type": "markdown",
      "source": [
        "Hiperparâmetros da BiLSTM"
      ],
      "metadata": {
        "id": "FfU0mTNXv1RV"
      }
    },
    {
      "cell_type": "code",
      "source": [
        "INPUT_DIM = vocab_size\n",
        "LEARNING_RATE = 5e-4\n",
        "EMBEDDING_DIM = 128\n",
        "HIDDEN_DIM = 512\n",
        "OUTPUT_DIM = num_classes\n",
        "BATCH_SIZE = 32"
      ],
      "metadata": {
        "id": "X1XvXEjInTBq"
      },
      "execution_count": 71,
      "outputs": []
    },
    {
      "cell_type": "code",
      "source": [
        "train_dataset = TextDataSet(train_integer_values, train_labels)\n",
        "test_dataset = TextDataSet(test_integer_values, test_labels)\n",
        "\n",
        "train_loader = DataLoader(train_dataset,batch_size = BATCH_SIZE)\n",
        "test_loader = DataLoader(test_dataset,batch_size = BATCH_SIZE)"
      ],
      "metadata": {
        "id": "Dtq-qw_zot8i"
      },
      "execution_count": 72,
      "outputs": []
    },
    {
      "cell_type": "markdown",
      "source": [
        "Veja agora a instanciação do modelo e sua arquitetura final:"
      ],
      "metadata": {
        "id": "fcLc1WYKwDy2"
      }
    },
    {
      "cell_type": "code",
      "source": [
        "model = LSTM(INPUT_DIM,EMBEDDING_DIM,HIDDEN_DIM,OUTPUT_DIM)\n",
        "model"
      ],
      "metadata": {
        "colab": {
          "base_uri": "https://localhost:8080/"
        },
        "id": "oDo3uoLDnQvX",
        "outputId": "9e92be86-4e2d-4443-a483-7ef2e61a8117"
      },
      "execution_count": 73,
      "outputs": [
        {
          "output_type": "execute_result",
          "data": {
            "text/plain": [
              "LSTM(\n",
              "  (embedding): Embedding(37545, 128)\n",
              "  (lstm): LSTM(128, 512, batch_first=True, bidirectional=True)\n",
              "  (fcl): Linear(in_features=512, out_features=4, bias=True)\n",
              ")"
            ]
          },
          "metadata": {},
          "execution_count": 73
        }
      ]
    },
    {
      "cell_type": "markdown",
      "source": [
        "Criamos a seguir a função loss como sendo Entropia Cruzada e o otimizador (implementa o backpropagation via cálculo de matriz - Adam):"
      ],
      "metadata": {
        "id": "fjgwy8lWwHiE"
      }
    },
    {
      "cell_type": "code",
      "source": [
        "criterion = nn.CrossEntropyLoss()\n",
        "optimizer = optim.Adam(model.parameters(),lr=LEARNING_RATE)"
      ],
      "metadata": {
        "id": "OR2EQV2Dn8rg"
      },
      "execution_count": 74,
      "outputs": []
    },
    {
      "cell_type": "code",
      "source": [
        "NUM_EPOCHS = 15"
      ],
      "metadata": {
        "id": "lSkvBiRQnmTQ"
      },
      "execution_count": 75,
      "outputs": []
    },
    {
      "cell_type": "code",
      "source": [
        "for epoch in range(NUM_EPOCHS):\n",
        "\n",
        "    model.train() # ativa o modo de treinamento\n",
        "\n",
        "    total_loss = 0\n",
        "\n",
        "    for X_batch,y_batch in train_loader:\n",
        "\n",
        "        optimizer.zero_grad()\n",
        "\n",
        "        y_pred = model(X_batch)\n",
        "\n",
        "        loss = criterion(y_pred,y_batch) # o valor inteiro dos labels de y_train sao automaticamente convertidos para one hot encoding\n",
        "\n",
        "        loss.backward() # calcula os gradientes\n",
        "\n",
        "        optimizer.step() # atualiza os parametros do modelo\n",
        "\n",
        "        total_loss += loss.item()\n",
        "\n",
        "    print(f'Epoch {epoch} ============== Train Loss: {total_loss/len(X_batch)}')"
      ],
      "metadata": {
        "colab": {
          "base_uri": "https://localhost:8080/"
        },
        "id": "uCJ_PdyjnpDc",
        "outputId": "daa3330e-c6f5-4036-cbd4-77fa643ccb59"
      },
      "execution_count": 76,
      "outputs": [
        {
          "output_type": "stream",
          "name": "stdout",
          "text": [
            "Epoch 0 ============== Train Loss: 3.3968219940478983\n",
            "Epoch 1 ============== Train Loss: 2.184845112837278\n",
            "Epoch 2 ============== Train Loss: 1.3942103769916754\n",
            "Epoch 3 ============== Train Loss: 0.8486929312348366\n",
            "Epoch 4 ============== Train Loss: 0.5657398190635902\n",
            "Epoch 5 ============== Train Loss: 0.32674956199927974\n",
            "Epoch 6 ============== Train Loss: 0.23791918869560155\n",
            "Epoch 7 ============== Train Loss: 0.21219569268690136\n",
            "Epoch 8 ============== Train Loss: 0.09085499022890312\n",
            "Epoch 9 ============== Train Loss: 0.11746256304412292\n",
            "Epoch 10 ============== Train Loss: 0.045770935056050524\n",
            "Epoch 11 ============== Train Loss: 0.10006360372510524\n",
            "Epoch 12 ============== Train Loss: 0.02366721266970182\n",
            "Epoch 13 ============== Train Loss: 0.007572811831778381\n",
            "Epoch 14 ============== Train Loss: 0.0034920762832021304\n"
          ]
        }
      ]
    },
    {
      "cell_type": "markdown",
      "source": [
        "Avaliação com os dados de teste"
      ],
      "metadata": {
        "id": "AyTc8Jv824UO"
      }
    },
    {
      "cell_type": "code",
      "source": [
        "y_pred = []\n",
        "y_test = []\n",
        "for text, label in test_loader:\n",
        "    y_prob = model(text)\n",
        "    _, predicted = torch.max(y_prob, 1)\n",
        "    y_pred.extend(predicted.tolist())\n",
        "    y_test.extend(label.tolist())"
      ],
      "metadata": {
        "id": "eHzH66ttwp1G"
      },
      "execution_count": 77,
      "outputs": []
    },
    {
      "cell_type": "markdown",
      "source": [
        "Resultados nos dados de teste:"
      ],
      "metadata": {
        "id": "8CYDSyJV289N"
      }
    },
    {
      "cell_type": "code",
      "source": [
        "print(classification_report(y_test, y_pred))"
      ],
      "metadata": {
        "colab": {
          "base_uri": "https://localhost:8080/"
        },
        "id": "kwlNGGG529EH",
        "outputId": "67a644c5-00b9-4af3-e2df-b04454e6059a"
      },
      "execution_count": 78,
      "outputs": [
        {
          "metadata": {
            "tags": null
          },
          "name": "stdout",
          "output_type": "stream",
          "text": [
            "              precision    recall  f1-score   support\n",
            "\n",
            "           0       0.58      0.87      0.69       389\n",
            "           1       0.66      0.65      0.66       396\n",
            "           2       0.68      0.51      0.59       393\n",
            "           3       0.89      0.63      0.73       310\n",
            "\n",
            "    accuracy                           0.67      1488\n",
            "   macro avg       0.70      0.67      0.67      1488\n",
            "weighted avg       0.69      0.67      0.66      1488\n",
            "\n"
          ]
        }
      ]
    }
  ]
}